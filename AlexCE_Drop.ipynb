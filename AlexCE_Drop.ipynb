{
 "cells": [
  {
   "cell_type": "code",
   "execution_count": 1,
   "metadata": {},
   "outputs": [
    {
     "name": "stderr",
     "output_type": "stream",
     "text": [
      "C:\\Users\\Duy.TC214885\\AppData\\Local\\miniconda3\\lib\\site-packages\\h5py\\__init__.py:36: UserWarning: h5py is running against HDF5 1.12.2 when it was built against 1.12.1, this may cause problems\n",
      "  _warn((\"h5py is running against HDF5 {0} when it was built against {1}, \"\n"
     ]
    }
   ],
   "source": [
    "import numpy as np\n",
    "import matplotlib.pyplot as plt\n",
    "import tensorflow as tf"
   ]
  },
  {
   "cell_type": "code",
   "execution_count": 2,
   "metadata": {},
   "outputs": [
    {
     "name": "stdout",
     "output_type": "stream",
     "text": [
      "(403, 227, 227, 3)\n"
     ]
    }
   ],
   "source": [
    "cardboard = []\n",
    "for i in range(1,404):\n",
    "    temp = tf.keras.preprocessing.image.load_img(\n",
    "        path = \"dataset-resized/cardboard/cardboard\"+str(i)+\".jpg\",\n",
    "        grayscale=False, color_mode='rgb',target_size=(227,227))\n",
    "    X = np.array(temp)\n",
    "    cardboard.append(X)\n",
    "cardboard = np.array(cardboard)\n",
    "cardboard = np.take(cardboard,np.random.permutation(cardboard.shape[0]),axis=0)\n",
    "print(cardboard.shape)"
   ]
  },
  {
   "cell_type": "code",
   "execution_count": 3,
   "metadata": {},
   "outputs": [
    {
     "name": "stdout",
     "output_type": "stream",
     "text": [
      "(501, 227, 227, 3)\n"
     ]
    }
   ],
   "source": [
    "glass = []\n",
    "for i in range(1,502):\n",
    "    temp = tf.keras.preprocessing.image.load_img(\n",
    "        path = \"dataset-resized/glass/glass\"+str(i)+\".jpg\",\n",
    "        grayscale=False, color_mode='rgb',target_size=(227,227))\n",
    "    X = np.array(temp)\n",
    "    glass.append(X)\n",
    "glass = np.array(glass)\n",
    "glass = np.take(glass,np.random.permutation(glass.shape[0]),axis=0)\n",
    "print(glass.shape)"
   ]
  },
  {
   "cell_type": "code",
   "execution_count": 4,
   "metadata": {},
   "outputs": [
    {
     "name": "stdout",
     "output_type": "stream",
     "text": [
      "(410, 227, 227, 3)\n"
     ]
    }
   ],
   "source": [
    "metal = []\n",
    "for i in range(1,411):\n",
    "    temp = tf.keras.preprocessing.image.load_img(\n",
    "        path = \"dataset-resized/metal/metal\"+str(i)+\".jpg\",\n",
    "        grayscale=False, color_mode='rgb',target_size=(227,227))\n",
    "    X = np.array(temp)\n",
    "    metal.append(X)\n",
    "metal = np.array(metal)\n",
    "metal = np.take(metal,np.random.permutation(metal.shape[0]),axis=0)\n",
    "print(metal.shape)"
   ]
  },
  {
   "cell_type": "code",
   "execution_count": 5,
   "metadata": {},
   "outputs": [
    {
     "name": "stdout",
     "output_type": "stream",
     "text": [
      "(594, 227, 227, 3)\n"
     ]
    }
   ],
   "source": [
    "paper = []\n",
    "for i in range(1,595):\n",
    "    temp = tf.keras.preprocessing.image.load_img(\n",
    "        path = \"dataset-resized/paper/paper\"+str(i)+\".jpg\",\n",
    "        grayscale=False, color_mode='rgb',target_size=(227,227))\n",
    "    X = np.array(temp)\n",
    "    paper.append(X)\n",
    "paper = np.array(paper)\n",
    "paper = np.take(paper,np.random.permutation(paper.shape[0]),axis=0)\n",
    "print(paper.shape)"
   ]
  },
  {
   "cell_type": "code",
   "execution_count": 6,
   "metadata": {},
   "outputs": [
    {
     "name": "stdout",
     "output_type": "stream",
     "text": [
      "(482, 227, 227, 3)\n"
     ]
    }
   ],
   "source": [
    "plastic = []\n",
    "for i in range(1,483):\n",
    "    temp = tf.keras.preprocessing.image.load_img(\n",
    "        path = \"dataset-resized/plastic/plastic\"+str(i)+\".jpg\",\n",
    "        grayscale=False, color_mode='rgb',target_size=(227,227))\n",
    "    X = np.array(temp)\n",
    "    plastic.append(X)\n",
    "plastic = np.array(plastic)\n",
    "plastic = np.take(plastic,np.random.permutation(plastic.shape[0]),axis=0)\n",
    "print(plastic.shape)"
   ]
  },
  {
   "cell_type": "code",
   "execution_count": 7,
   "metadata": {},
   "outputs": [
    {
     "name": "stdout",
     "output_type": "stream",
     "text": [
      "(137, 227, 227, 3)\n"
     ]
    }
   ],
   "source": [
    "trash = []\n",
    "for i in range(1,138):\n",
    "    temp = tf.keras.preprocessing.image.load_img(\n",
    "        path = \"dataset-resized/trash/trash\"+str(i)+\".jpg\",\n",
    "        grayscale=False, color_mode='rgb',target_size=(227,227))\n",
    "    X = np.array(temp)\n",
    "    trash.append(X)\n",
    "trash = np.array(trash)\n",
    "trash = np.take(trash,np.random.permutation(trash.shape[0]),axis=0)\n",
    "print(trash.shape)"
   ]
  },
  {
   "cell_type": "code",
   "execution_count": 8,
   "metadata": {},
   "outputs": [],
   "source": [
    "train_X = np.vstack((cardboard[:302,:,:,:],glass[:376,:,:,:],metal[:307,:,:,:],\n",
    "                    paper[:445,:,:,:],plastic[:361,:,:,:],trash[:103,:,:,:]))\n",
    "test_X = np.vstack((cardboard[302:,:,:,:],glass[376:,:,:,:],metal[307:,:,:,:],\n",
    "                   paper[445:,:,:,:],plastic[361:,:,:,:],trash[103:,:,:,:]))\n",
    "train_Y = np.zeros((6,train_X.shape[0]))\n",
    "test_Y = np.zeros((6,test_X.shape[0]))\n",
    "for i in range(train_X.shape[0]):\n",
    "    if(i<302):\n",
    "        train_Y[0][i] = 1\n",
    "    elif(i<678):\n",
    "        train_Y[1][i] = 1\n",
    "    elif(i<985):\n",
    "        train_Y[2][i] = 1\n",
    "    elif(i<1430):\n",
    "        train_Y[3][i] = 1\n",
    "    elif(i<1791):\n",
    "        train_Y[4][i] = 1\n",
    "    else:\n",
    "        train_Y[5][i] = 1\n",
    "for i in range(test_X.shape[0]):\n",
    "    if(i<101):\n",
    "        test_Y[0][i] = 1\n",
    "    elif(i<226):\n",
    "        test_Y[1][i] = 1\n",
    "    elif(i<329):\n",
    "        test_Y[2][i] = 1\n",
    "    elif(i<478):\n",
    "        test_Y[3][i] = 1\n",
    "    elif(i<599):\n",
    "        test_Y[4][i] = 1\n",
    "    else:\n",
    "        test_Y[5][i] = 1"
   ]
  },
  {
   "cell_type": "code",
   "execution_count": 9,
   "metadata": {},
   "outputs": [],
   "source": [
    "test_X_re = test_X\n",
    "test_Y_re = test_Y"
   ]
  },
  {
   "cell_type": "code",
   "execution_count": 10,
   "metadata": {},
   "outputs": [
    {
     "name": "stdout",
     "output_type": "stream",
     "text": [
      "(1894, 227, 227, 3)\n",
      "(6, 1894)\n",
      "(633, 227, 227, 3)\n",
      "(6, 633)\n"
     ]
    }
   ],
   "source": [
    "np.random.seed(1013)\n",
    "train_perm = np.random.permutation(train_X.shape[0])\n",
    "train_X = np.take(train_X,train_perm,axis=0)\n",
    "print(train_X.shape)\n",
    "train_Y = np.take(train_Y,train_perm,axis=1)\n",
    "print(train_Y.shape)\n",
    "np.random.seed(901)\n",
    "test_perm = np.random.permutation(test_X.shape[0])\n",
    "test_X = np.take(test_X,test_perm,axis=0)\n",
    "print(test_X.shape)\n",
    "test_Y = np.take(test_Y,test_perm,axis=1)\n",
    "print(test_Y.shape)"
   ]
  },
  {
   "cell_type": "code",
   "execution_count": 11,
   "metadata": {},
   "outputs": [],
   "source": [
    "def AlexNetCE(input_shape = (227, 227, 3), classes = 6):\n",
    "    X_input = tf.keras.Input(input_shape)\n",
    "    X = X_input\n",
    "    X = tf.keras.layers.Conv2D(96, (11, 11), strides = (4, 4), activation = \"relu\", name = 'conv1')(X)\n",
    "    X = tf.keras.layers.MaxPooling2D((3, 3), strides=(2, 2))(X)\n",
    "    X = tf.keras.layers.BatchNormalization(axis = 3, name = 'bn_conv1')(X)\n",
    "    X = tf.keras.layers.Conv2D(256, (5, 5), padding = \"same\",activation = \"relu\", name = 'conv2')(X)\n",
    "    X = tf.keras.layers.MaxPooling2D((3, 3), strides=(2, 2))(X)\n",
    "    X = tf.keras.layers.BatchNormalization(axis = 3, name = 'bn_conv2')(X)\n",
    "    X = tf.keras.layers.Conv2D(256, (3, 3), padding = \"same\",activation = \"relu\", name = 'conv5')(X)\n",
    "    X = tf.keras.layers.MaxPooling2D((3, 3), strides=(2, 2))(X)\n",
    "    X = tf.keras.layers.Flatten()(X)\n",
    "    X = tf.keras.layers.Dropout(0.5)(X)\n",
    "    X = tf.keras.layers.Dense(4096, activation = \"relu\", name='fc' + str(1))(X)\n",
    "    X = tf.keras.layers.Dropout(0.5)(X)\n",
    "    X = tf.keras.layers.Dense(4096, activation = \"relu\", name='fc' + str(2))(X)\n",
    "    X = tf.keras.layers.Dense(classes, activation='softmax', name='fc' + str(classes))(X)\n",
    "\n",
    "    model = tf.keras.Model(inputs = X_input, outputs = X, name='ALEXNETCE')\n",
    "\n",
    "    return model"
   ]
  },
  {
   "cell_type": "code",
   "execution_count": 12,
   "metadata": {},
   "outputs": [],
   "source": [
    "model = AlexNetCE()\n",
    "model.compile(optimizer=tf.keras.optimizers.legacy.Adam(learning_rate=0.00001,decay=0.00000025), \n",
    "              loss='categorical_crossentropy', metrics=['accuracy'])"
   ]
  },
  {
   "cell_type": "code",
   "execution_count": 13,
   "metadata": {},
   "outputs": [
    {
     "name": "stdout",
     "output_type": "stream",
     "text": [
      "Model: \"ALEXNETCE\"\n",
      "_________________________________________________________________\n",
      " Layer (type)                Output Shape              Param #   \n",
      "=================================================================\n",
      " input_1 (InputLayer)        [(None, 227, 227, 3)]     0         \n",
      "                                                                 \n",
      " conv1 (Conv2D)              (None, 55, 55, 96)        34944     \n",
      "                                                                 \n",
      " max_pooling2d (MaxPooling2  (None, 27, 27, 96)        0         \n",
      " D)                                                              \n",
      "                                                                 \n",
      " bn_conv1 (BatchNormalizati  (None, 27, 27, 96)        384       \n",
      " on)                                                             \n",
      "                                                                 \n",
      " conv2 (Conv2D)              (None, 27, 27, 256)       614656    \n",
      "                                                                 \n",
      " max_pooling2d_1 (MaxPoolin  (None, 13, 13, 256)       0         \n",
      " g2D)                                                            \n",
      "                                                                 \n",
      " bn_conv2 (BatchNormalizati  (None, 13, 13, 256)       1024      \n",
      " on)                                                             \n",
      "                                                                 \n",
      " conv5 (Conv2D)              (None, 13, 13, 256)       590080    \n",
      "                                                                 \n",
      " max_pooling2d_2 (MaxPoolin  (None, 6, 6, 256)         0         \n",
      " g2D)                                                            \n",
      "                                                                 \n",
      " flatten (Flatten)           (None, 9216)              0         \n",
      "                                                                 \n",
      " dropout (Dropout)           (None, 9216)              0         \n",
      "                                                                 \n",
      " fc1 (Dense)                 (None, 4096)              37752832  \n",
      "                                                                 \n",
      " dropout_1 (Dropout)         (None, 4096)              0         \n",
      "                                                                 \n",
      " fc2 (Dense)                 (None, 4096)              16781312  \n",
      "                                                                 \n",
      " fc6 (Dense)                 (None, 6)                 24582     \n",
      "                                                                 \n",
      "=================================================================\n",
      "Total params: 55799814 (212.86 MB)\n",
      "Trainable params: 55799110 (212.86 MB)\n",
      "Non-trainable params: 704 (2.75 KB)\n",
      "_________________________________________________________________\n"
     ]
    }
   ],
   "source": [
    "model.summary()"
   ]
  },
  {
   "cell_type": "code",
   "execution_count": 14,
   "metadata": {},
   "outputs": [
    {
     "name": "stdout",
     "output_type": "stream",
     "text": [
      "Training Process 0\n",
      "60/60 [==============================] - 28s 454ms/step - loss: 2.1574 - accuracy: 0.3020\n",
      "Test Result 0\n",
      "20/20 [==============================] - 2s 91ms/step - loss: 6.2484 - accuracy: 0.2354\n",
      "Loss = 6.248421669006348\n",
      "Test Accuracy = 0.23538704216480255\n",
      "Training Process 1\n",
      "60/60 [==============================] - 26s 439ms/step - loss: 1.7039 - accuracy: 0.4171\n",
      "Test Result 1\n",
      "20/20 [==============================] - 2s 87ms/step - loss: 3.6497 - accuracy: 0.2338\n",
      "Loss = 3.6496901512145996\n",
      "Test Accuracy = 0.2338072657585144\n",
      "Training Process 2\n",
      "60/60 [==============================] - 27s 456ms/step - loss: 1.5424 - accuracy: 0.4562\n",
      "Test Result 2\n",
      "20/20 [==============================] - 2s 107ms/step - loss: 1.9155 - accuracy: 0.3633\n",
      "Loss = 1.9155470132827759\n",
      "Test Accuracy = 0.36334913969039917\n",
      "Training Process 3\n",
      "60/60 [==============================] - 29s 477ms/step - loss: 1.4510 - accuracy: 0.4879\n",
      "Test Result 3\n",
      "20/20 [==============================] - 2s 95ms/step - loss: 1.5981 - accuracy: 0.4423\n",
      "Loss = 1.5981385707855225\n",
      "Test Accuracy = 0.44233807921409607\n",
      "Training Process 4\n",
      "60/60 [==============================] - 28s 461ms/step - loss: 1.3774 - accuracy: 0.4958\n",
      "Test Result 4\n",
      "20/20 [==============================] - 2s 97ms/step - loss: 1.4762 - accuracy: 0.4818\n",
      "Loss = 1.476203203201294\n",
      "Test Accuracy = 0.4818325340747833\n",
      "Training Process 5\n",
      "60/60 [==============================] - 28s 459ms/step - loss: 1.3157 - accuracy: 0.5185\n",
      "Test Result 5\n",
      "20/20 [==============================] - 2s 95ms/step - loss: 1.3723 - accuracy: 0.5308\n",
      "Loss = 1.3723392486572266\n",
      "Test Accuracy = 0.5308057069778442\n",
      "Training Process 6\n",
      "60/60 [==============================] - 27s 450ms/step - loss: 1.2490 - accuracy: 0.5517\n",
      "Test Result 6\n",
      "20/20 [==============================] - 2s 93ms/step - loss: 1.3788 - accuracy: 0.5039\n",
      "Loss = 1.3787951469421387\n",
      "Test Accuracy = 0.5039494633674622\n",
      "Training Process 7\n",
      "60/60 [==============================] - 28s 470ms/step - loss: 1.1937 - accuracy: 0.5502\n",
      "Test Result 7\n",
      "20/20 [==============================] - 2s 94ms/step - loss: 1.2744 - accuracy: 0.5814\n",
      "Loss = 1.274405598640442\n",
      "Test Accuracy = 0.5813586115837097\n",
      "Training Process 8\n",
      "60/60 [==============================] - 32s 541ms/step - loss: 1.1700 - accuracy: 0.5634\n",
      "Test Result 8\n",
      "20/20 [==============================] - 2s 98ms/step - loss: 1.2859 - accuracy: 0.5561\n",
      "Loss = 1.2858705520629883\n",
      "Test Accuracy = 0.5560821294784546\n",
      "Training Process 9\n",
      "60/60 [==============================] - 29s 477ms/step - loss: 1.1236 - accuracy: 0.5729\n",
      "Test Result 9\n",
      "20/20 [==============================] - 2s 98ms/step - loss: 1.1785 - accuracy: 0.5940\n",
      "Loss = 1.1784733533859253\n",
      "Test Accuracy = 0.5939968228340149\n",
      "Training Process 10\n",
      "60/60 [==============================] - 27s 455ms/step - loss: 1.0558 - accuracy: 0.6014\n",
      "Test Result 10\n",
      "20/20 [==============================] - 2s 93ms/step - loss: 1.2361 - accuracy: 0.5735\n",
      "Loss = 1.2361418008804321\n",
      "Test Accuracy = 0.5734597444534302\n",
      "Training Process 11\n",
      "60/60 [==============================] - 27s 450ms/step - loss: 1.0294 - accuracy: 0.6193\n",
      "Test Result 11\n",
      "20/20 [==============================] - 2s 93ms/step - loss: 1.2105 - accuracy: 0.5861\n",
      "Loss = 1.210540771484375\n",
      "Test Accuracy = 0.5860979557037354\n",
      "Training Process 12\n",
      "60/60 [==============================] - 27s 450ms/step - loss: 0.9941 - accuracy: 0.6362\n",
      "Test Result 12\n",
      "20/20 [==============================] - 2s 94ms/step - loss: 1.1054 - accuracy: 0.6098\n",
      "Loss = 1.1054162979125977\n",
      "Test Accuracy = 0.6097946166992188\n",
      "Training Process 13\n",
      "60/60 [==============================] - 27s 454ms/step - loss: 0.9653 - accuracy: 0.6404\n",
      "Test Result 13\n",
      "20/20 [==============================] - 2s 98ms/step - loss: 1.1561 - accuracy: 0.6082\n",
      "Loss = 1.1561473608016968\n",
      "Test Accuracy = 0.6082148551940918\n",
      "Training Process 14\n",
      "60/60 [==============================] - 28s 468ms/step - loss: 0.9406 - accuracy: 0.6610\n",
      "Test Result 14\n",
      "20/20 [==============================] - 2s 100ms/step - loss: 1.1364 - accuracy: 0.6130\n",
      "Loss = 1.1364160776138306\n",
      "Test Accuracy = 0.6129541993141174\n",
      "Training Process 15\n",
      "60/60 [==============================] - 28s 469ms/step - loss: 0.9443 - accuracy: 0.6473\n",
      "Test Result 15\n",
      "20/20 [==============================] - 2s 94ms/step - loss: 1.0706 - accuracy: 0.6209\n",
      "Loss = 1.070556879043579\n",
      "Test Accuracy = 0.620853066444397\n",
      "Training Process 16\n",
      "60/60 [==============================] - 27s 453ms/step - loss: 0.9326 - accuracy: 0.6605\n",
      "Test Result 16\n",
      "20/20 [==============================] - 2s 94ms/step - loss: 1.1005 - accuracy: 0.6224\n",
      "Loss = 1.1005312204360962\n",
      "Test Accuracy = 0.6224328875541687\n",
      "Training Process 17\n",
      "60/60 [==============================] - 28s 460ms/step - loss: 0.8903 - accuracy: 0.6690\n",
      "Test Result 17\n",
      "20/20 [==============================] - 2s 96ms/step - loss: 1.0828 - accuracy: 0.6493\n",
      "Loss = 1.082844853401184\n",
      "Test Accuracy = 0.649289071559906\n",
      "Training Process 18\n",
      "60/60 [==============================] - 28s 464ms/step - loss: 0.8725 - accuracy: 0.6674\n",
      "Test Result 18\n",
      "20/20 [==============================] - 2s 92ms/step - loss: 1.1872 - accuracy: 0.6082\n",
      "Loss = 1.187159538269043\n",
      "Test Accuracy = 0.6082148551940918\n",
      "Training Process 19\n",
      "60/60 [==============================] - 27s 456ms/step - loss: 0.8319 - accuracy: 0.6990\n",
      "Test Result 19\n",
      "20/20 [==============================] - 2s 94ms/step - loss: 1.1688 - accuracy: 0.6256\n",
      "Loss = 1.1688448190689087\n",
      "Test Accuracy = 0.6255924105644226\n"
     ]
    },
    {
     "data": {
      "image/png": "[encoded data removed]",
      "text/plain": [
       "<Figure size 640x480 with 1 Axes>"
      ]
     },
     "metadata": {},
     "output_type": "display_data"
    },
    {
     "data": {
      "image/png": "[encoded data removed]",
      "text/plain": [
       "<Figure size 640x480 with 1 Axes>"
      ]
     },
     "metadata": {},
     "output_type": "display_data"
    }
   ],
   "source": [
    "train_loss = []\n",
    "train_acc = []\n",
    "test_loss = []\n",
    "test_acc = []\n",
    "for i in range(20):\n",
    "    print(\"Training Process \"+str(len(train_loss)))\n",
    "    history = model.fit(train_X, train_Y.T,batch_size=32,epochs=1)\n",
    "    print(\"Test Result \"+str(len(train_loss)))\n",
    "    preds = model.evaluate(test_X, test_Y.T)\n",
    "    print (\"Loss = \" + str(preds[0]))\n",
    "    print (\"Test Accuracy = \" + str(preds[1]))\n",
    "    train_loss.append(history.history[\"loss\"][0])\n",
    "    train_acc.append(history.history[\"accuracy\"][0])\n",
    "    test_loss.append(preds[0])\n",
    "    test_acc.append(preds[1])\n",
    "plt.plot(train_loss)\n",
    "plt.show()\n",
    "plt.plot(test_loss)\n",
    "plt.show()"
   ]
  },
  {
   "cell_type": "code",
   "execution_count": 15,
   "metadata": {},
   "outputs": [
    {
     "name": "stdout",
     "output_type": "stream",
     "text": [
      "Training Process 20\n",
      "60/60 [==============================] - 27s 446ms/step - loss: 0.8402 - accuracy: 0.6811\n",
      "Test Result 20\n",
      "20/20 [==============================] - 2s 97ms/step - loss: 1.1569 - accuracy: 0.6177\n",
      "Loss = 1.1568560600280762\n",
      "Test Accuracy = 0.6176935434341431\n",
      "Training Process 21\n",
      "60/60 [==============================] - 27s 451ms/step - loss: 0.7909 - accuracy: 0.7043\n",
      "Test Result 21\n",
      "20/20 [==============================] - 2s 94ms/step - loss: 1.0860 - accuracy: 0.6540\n",
      "Loss = 1.0860072374343872\n",
      "Test Accuracy = 0.6540284156799316\n",
      "Training Process 22\n",
      "60/60 [==============================] - 27s 454ms/step - loss: 0.7805 - accuracy: 0.7128\n",
      "Test Result 22\n",
      "20/20 [==============================] - 2s 94ms/step - loss: 1.0592 - accuracy: 0.6572\n",
      "Loss = 1.0591647624969482\n",
      "Test Accuracy = 0.6571879982948303\n",
      "Training Process 23\n",
      "60/60 [==============================] - 28s 471ms/step - loss: 0.7363 - accuracy: 0.7318\n",
      "Test Result 23\n",
      "20/20 [==============================] - 2s 99ms/step - loss: 1.0557 - accuracy: 0.6540\n",
      "Loss = 1.0556607246398926\n",
      "Test Accuracy = 0.6540284156799316\n",
      "Training Process 24\n",
      "60/60 [==============================] - 28s 462ms/step - loss: 0.7174 - accuracy: 0.7360\n",
      "Test Result 24\n",
      "20/20 [==============================] - 2s 96ms/step - loss: 1.1021 - accuracy: 0.6556\n",
      "Loss = 1.1021181344985962\n",
      "Test Accuracy = 0.6556082367897034\n",
      "Training Process 25\n",
      "60/60 [==============================] - 27s 457ms/step - loss: 0.7127 - accuracy: 0.7355\n",
      "Test Result 25\n",
      "20/20 [==============================] - 2s 96ms/step - loss: 1.0366 - accuracy: 0.6603\n",
      "Loss = 1.0366230010986328\n",
      "Test Accuracy = 0.660347580909729\n",
      "Training Process 26\n",
      "60/60 [==============================] - 27s 457ms/step - loss: 0.6698 - accuracy: 0.7555\n",
      "Test Result 26\n",
      "20/20 [==============================] - 2s 95ms/step - loss: 1.0070 - accuracy: 0.6603\n",
      "Loss = 1.0069869756698608\n",
      "Test Accuracy = 0.660347580909729\n",
      "Training Process 27\n",
      "60/60 [==============================] - 28s 464ms/step - loss: 0.6613 - accuracy: 0.7524\n",
      "Test Result 27\n",
      "20/20 [==============================] - 2s 99ms/step - loss: 0.9958 - accuracy: 0.6540\n",
      "Loss = 0.99578857421875\n",
      "Test Accuracy = 0.6540284156799316\n",
      "Training Process 28\n",
      "60/60 [==============================] - 28s 458ms/step - loss: 0.6710 - accuracy: 0.7587\n",
      "Test Result 28\n",
      "20/20 [==============================] - 2s 95ms/step - loss: 0.9752 - accuracy: 0.6651\n",
      "Loss = 0.9751802086830139\n",
      "Test Accuracy = 0.6650868654251099\n",
      "Training Process 29\n",
      "60/60 [==============================] - 27s 454ms/step - loss: 0.6642 - accuracy: 0.7577\n",
      "Test Result 29\n",
      "20/20 [==============================] - 2s 94ms/step - loss: 1.0198 - accuracy: 0.6667\n",
      "Loss = 1.0198235511779785\n",
      "Test Accuracy = 0.6666666865348816\n",
      "Training Process 30\n",
      "60/60 [==============================] - 27s 455ms/step - loss: 0.6286 - accuracy: 0.7677\n",
      "Test Result 30\n",
      "20/20 [==============================] - 2s 93ms/step - loss: 1.1525 - accuracy: 0.6240\n",
      "Loss = 1.1525161266326904\n",
      "Test Accuracy = 0.6240126490592957\n",
      "Training Process 31\n",
      "60/60 [==============================] - 27s 457ms/step - loss: 0.6295 - accuracy: 0.7746\n",
      "Test Result 31\n",
      "20/20 [==============================] - 2s 96ms/step - loss: 1.0203 - accuracy: 0.6730\n",
      "Loss = 1.02031672000885\n",
      "Test Accuracy = 0.6729857921600342\n",
      "Training Process 32\n",
      "60/60 [==============================] - 27s 454ms/step - loss: 0.6157 - accuracy: 0.7814\n",
      "Test Result 32\n",
      "20/20 [==============================] - 2s 97ms/step - loss: 0.9522 - accuracy: 0.6761\n",
      "Loss = 0.9521927237510681\n",
      "Test Accuracy = 0.6761453151702881\n",
      "Training Process 33\n",
      "60/60 [==============================] - 29s 489ms/step - loss: 0.5979 - accuracy: 0.7761\n",
      "Test Result 33\n",
      "20/20 [==============================] - 2s 99ms/step - loss: 0.9722 - accuracy: 0.6825\n",
      "Loss = 0.9721975922584534\n",
      "Test Accuracy = 0.6824644804000854\n",
      "Training Process 34\n",
      "60/60 [==============================] - 28s 461ms/step - loss: 0.5663 - accuracy: 0.7962\n",
      "Test Result 34\n",
      "20/20 [==============================] - 2s 100ms/step - loss: 0.9616 - accuracy: 0.6856\n",
      "Loss = 0.9616112112998962\n",
      "Test Accuracy = 0.6856240034103394\n",
      "Training Process 35\n",
      "60/60 [==============================] - 27s 452ms/step - loss: 0.5493 - accuracy: 0.7946\n",
      "Test Result 35\n",
      "20/20 [==============================] - 2s 97ms/step - loss: 1.0214 - accuracy: 0.6619\n",
      "Loss = 1.021378755569458\n",
      "Test Accuracy = 0.661927342414856\n",
      "Training Process 36\n",
      "60/60 [==============================] - 29s 479ms/step - loss: 0.5166 - accuracy: 0.8163\n",
      "Test Result 36\n",
      "20/20 [==============================] - 2s 104ms/step - loss: 1.1482 - accuracy: 0.6524\n",
      "Loss = 1.148228406906128\n",
      "Test Accuracy = 0.6524486541748047\n",
      "Training Process 37\n",
      "60/60 [==============================] - 30s 493ms/step - loss: 0.5399 - accuracy: 0.8126\n",
      "Test Result 37\n",
      "20/20 [==============================] - 2s 102ms/step - loss: 0.9894 - accuracy: 0.6761\n",
      "Loss = 0.9894118905067444\n",
      "Test Accuracy = 0.6761453151702881\n",
      "Training Process 38\n",
      "60/60 [==============================] - 29s 478ms/step - loss: 0.5160 - accuracy: 0.8120\n",
      "Test Result 38\n",
      "20/20 [==============================] - 2s 103ms/step - loss: 1.1829 - accuracy: 0.6572\n",
      "Loss = 1.1829471588134766\n",
      "Test Accuracy = 0.6571879982948303\n",
      "Training Process 39\n",
      "60/60 [==============================] - 29s 476ms/step - loss: 0.5095 - accuracy: 0.8115\n",
      "Test Result 39\n",
      "20/20 [==============================] - 2s 101ms/step - loss: 1.1212 - accuracy: 0.6556\n",
      "Loss = 1.1211787462234497\n",
      "Test Accuracy = 0.6556082367897034\n"
     ]
    },
    {
     "data": {
      "image/png": "[encoded data removed]",
      "text/plain": [
       "<Figure size 640x480 with 1 Axes>"
      ]
     },
     "metadata": {},
     "output_type": "display_data"
    },
    {
     "data": {
      "image/png": "[encoded data removed]",
      "text/plain": [
       "<Figure size 640x480 with 1 Axes>"
      ]
     },
     "metadata": {},
     "output_type": "display_data"
    }
   ],
   "source": [
    "for i in range(20):\n",
    "    print(\"Training Process \"+str(len(train_loss)))\n",
    "    history = model.fit(train_X, train_Y.T,batch_size=32,epochs=1)\n",
    "    print(\"Test Result \"+str(len(train_loss)))\n",
    "    preds = model.evaluate(test_X, test_Y.T)\n",
    "    print (\"Loss = \" + str(preds[0]))\n",
    "    print (\"Test Accuracy = \" + str(preds[1]))\n",
    "    train_loss.append(history.history[\"loss\"][0])\n",
    "    train_acc.append(history.history[\"accuracy\"][0])\n",
    "    test_loss.append(preds[0])\n",
    "    test_acc.append(preds[1])\n",
    "plt.plot(train_loss)\n",
    "plt.show()\n",
    "plt.plot(test_loss)\n",
    "plt.show()"
   ]
  },
  {
   "cell_type": "code",
   "execution_count": 16,
   "metadata": {},
   "outputs": [
    {
     "name": "stdout",
     "output_type": "stream",
     "text": [
      "Training Process 40\n",
      "60/60 [==============================] - 28s 470ms/step - loss: 0.4809 - accuracy: 0.8289\n",
      "Test Result 40\n",
      "20/20 [==============================] - 2s 100ms/step - loss: 1.0735 - accuracy: 0.6603\n",
      "Loss = 1.073517918586731\n",
      "Test Accuracy = 0.660347580909729\n",
      "Training Process 41\n",
      "60/60 [==============================] - 28s 469ms/step - loss: 0.4888 - accuracy: 0.8252\n",
      "Test Result 41\n",
      "20/20 [==============================] - 2s 100ms/step - loss: 0.9750 - accuracy: 0.6856\n",
      "Loss = 0.975016176700592\n",
      "Test Accuracy = 0.6856240034103394\n",
      "Training Process 42\n",
      "60/60 [==============================] - 28s 469ms/step - loss: 0.4800 - accuracy: 0.8200\n",
      "Test Result 42\n",
      "20/20 [==============================] - 2s 102ms/step - loss: 1.0590 - accuracy: 0.6746\n",
      "Loss = 1.0590397119522095\n",
      "Test Accuracy = 0.6745655536651611\n",
      "Training Process 43\n",
      "60/60 [==============================] - 28s 474ms/step - loss: 0.4550 - accuracy: 0.8332\n",
      "Test Result 43\n",
      "20/20 [==============================] - 2s 100ms/step - loss: 0.9738 - accuracy: 0.6840\n",
      "Loss = 0.9737778306007385\n",
      "Test Accuracy = 0.6840442419052124\n",
      "Training Process 44\n",
      "60/60 [==============================] - 28s 474ms/step - loss: 0.4461 - accuracy: 0.8332\n",
      "Test Result 44\n",
      "20/20 [==============================] - 2s 105ms/step - loss: 1.1741 - accuracy: 0.6588\n",
      "Loss = 1.1740951538085938\n",
      "Test Accuracy = 0.6587677597999573\n",
      "Training Process 45\n",
      "60/60 [==============================] - 29s 477ms/step - loss: 0.4242 - accuracy: 0.8527\n",
      "Test Result 45\n",
      "20/20 [==============================] - 2s 102ms/step - loss: 1.0034 - accuracy: 0.6872\n",
      "Loss = 1.0033833980560303\n",
      "Test Accuracy = 0.6872037649154663\n",
      "Training Process 46\n",
      "60/60 [==============================] - 28s 466ms/step - loss: 0.4510 - accuracy: 0.8537\n",
      "Test Result 46\n",
      "20/20 [==============================] - 2s 100ms/step - loss: 0.9958 - accuracy: 0.6888\n",
      "Loss = 0.9957810640335083\n",
      "Test Accuracy = 0.688783586025238\n",
      "Training Process 47\n",
      "60/60 [==============================] - 28s 469ms/step - loss: 0.4214 - accuracy: 0.8506\n",
      "Test Result 47\n",
      "20/20 [==============================] - 2s 100ms/step - loss: 1.0049 - accuracy: 0.6998\n",
      "Loss = 1.0049467086791992\n",
      "Test Accuracy = 0.6998420357704163\n",
      "Training Process 48\n",
      "60/60 [==============================] - 28s 469ms/step - loss: 0.4110 - accuracy: 0.8574\n",
      "Test Result 48\n",
      "20/20 [==============================] - 2s 100ms/step - loss: 1.0484 - accuracy: 0.6777\n",
      "Loss = 1.0483829975128174\n",
      "Test Accuracy = 0.6777251362800598\n",
      "Training Process 49\n",
      "60/60 [==============================] - 28s 469ms/step - loss: 0.4060 - accuracy: 0.8569\n",
      "Test Result 49\n",
      "20/20 [==============================] - 2s 100ms/step - loss: 1.0292 - accuracy: 0.6998\n",
      "Loss = 1.0291967391967773\n",
      "Test Accuracy = 0.6998420357704163\n",
      "Training Process 50\n",
      "60/60 [==============================] - 29s 481ms/step - loss: 0.3785 - accuracy: 0.8664\n",
      "Test Result 50\n",
      "20/20 [==============================] - 2s 99ms/step - loss: 1.0223 - accuracy: 0.6840\n",
      "Loss = 1.022266149520874\n",
      "Test Accuracy = 0.6840442419052124\n",
      "Training Process 51\n",
      "60/60 [==============================] - 29s 477ms/step - loss: 0.3658 - accuracy: 0.8717\n",
      "Test Result 51\n",
      "20/20 [==============================] - 2s 100ms/step - loss: 1.0939 - accuracy: 0.6951\n",
      "Loss = 1.0939425230026245\n",
      "Test Accuracy = 0.6951026916503906\n",
      "Training Process 52\n",
      "60/60 [==============================] - 28s 471ms/step - loss: 0.3849 - accuracy: 0.8580\n",
      "Test Result 52\n",
      "20/20 [==============================] - 2s 100ms/step - loss: 1.0618 - accuracy: 0.7030\n",
      "Loss = 1.061845064163208\n",
      "Test Accuracy = 0.7030015587806702\n",
      "Training Process 53\n",
      "60/60 [==============================] - 28s 469ms/step - loss: 0.3672 - accuracy: 0.8722\n",
      "Test Result 53\n",
      "20/20 [==============================] - 2s 99ms/step - loss: 1.2403 - accuracy: 0.6667\n",
      "Loss = 1.2402760982513428\n",
      "Test Accuracy = 0.6666666865348816\n",
      "Training Process 54\n",
      "60/60 [==============================] - 29s 479ms/step - loss: 0.3410 - accuracy: 0.8812\n",
      "Test Result 54\n",
      "20/20 [==============================] - 2s 104ms/step - loss: 1.3781 - accuracy: 0.6161\n",
      "Loss = 1.3781497478485107\n",
      "Test Accuracy = 0.6161137223243713\n",
      "Training Process 55\n",
      "60/60 [==============================] - 28s 474ms/step - loss: 0.3610 - accuracy: 0.8654\n",
      "Test Result 55\n",
      "20/20 [==============================] - 2s 104ms/step - loss: 1.0923 - accuracy: 0.6967\n",
      "Loss = 1.0922719240188599\n",
      "Test Accuracy = 0.6966824531555176\n",
      "Training Process 56\n",
      "60/60 [==============================] - 29s 478ms/step - loss: 0.3418 - accuracy: 0.8701\n",
      "Test Result 56\n",
      "20/20 [==============================] - 2s 110ms/step - loss: 1.1204 - accuracy: 0.6746\n",
      "Loss = 1.120444655418396\n",
      "Test Accuracy = 0.6745655536651611\n",
      "Training Process 57\n",
      "60/60 [==============================] - 31s 519ms/step - loss: 0.3332 - accuracy: 0.8759\n",
      "Test Result 57\n",
      "20/20 [==============================] - 2s 107ms/step - loss: 1.1051 - accuracy: 0.6904\n",
      "Loss = 1.1050583124160767\n",
      "Test Accuracy = 0.690363347530365\n",
      "Training Process 58\n",
      "60/60 [==============================] - 30s 504ms/step - loss: 0.3042 - accuracy: 0.8918\n",
      "Test Result 58\n",
      "20/20 [==============================] - 2s 105ms/step - loss: 1.0375 - accuracy: 0.7046\n",
      "Loss = 1.0374970436096191\n",
      "Test Accuracy = 0.7045813798904419\n",
      "Training Process 59\n",
      "60/60 [==============================] - 29s 490ms/step - loss: 0.2855 - accuracy: 0.9002\n",
      "Test Result 59\n",
      "20/20 [==============================] - 2s 108ms/step - loss: 1.0718 - accuracy: 0.6967\n",
      "Loss = 1.0717653036117554\n",
      "Test Accuracy = 0.6966824531555176\n"
     ]
    },
    {
     "data": {
      "image/png": "[encoded data removed]",
      "text/plain": [
       "<Figure size 640x480 with 1 Axes>"
      ]
     },
     "metadata": {},
     "output_type": "display_data"
    },
    {
     "data": {
      "image/png": "[encoded data removed]",
      "text/plain": [
       "<Figure size 640x480 with 1 Axes>"
      ]
     },
     "metadata": {},
     "output_type": "display_data"
    }
   ],
   "source": [
    "for i in range(20):\n",
    "    print(\"Training Process \"+str(len(train_loss)))\n",
    "    history = model.fit(train_X, train_Y.T,batch_size=32,epochs=1)\n",
    "    print(\"Test Result \"+str(len(train_loss)))\n",
    "    preds = model.evaluate(test_X, test_Y.T)\n",
    "    print (\"Loss = \" + str(preds[0]))\n",
    "    print (\"Test Accuracy = \" + str(preds[1]))\n",
    "    train_loss.append(history.history[\"loss\"][0])\n",
    "    train_acc.append(history.history[\"accuracy\"][0])\n",
    "    test_loss.append(preds[0])\n",
    "    test_acc.append(preds[1])\n",
    "plt.plot(train_loss)\n",
    "plt.show()\n",
    "plt.plot(test_loss)\n",
    "plt.show()"
   ]
  },
  {
   "cell_type": "code",
   "execution_count": 17,
   "metadata": {},
   "outputs": [
    {
     "name": "stdout",
     "output_type": "stream",
     "text": [
      "Training Process 60\n",
      "60/60 [==============================] - 29s 485ms/step - loss: 0.3194 - accuracy: 0.8860\n",
      "Test Result 60\n",
      "20/20 [==============================] - 2s 106ms/step - loss: 1.0706 - accuracy: 0.7156\n",
      "Loss = 1.070556402206421\n",
      "Test Accuracy = 0.7156398296356201\n",
      "Training Process 61\n",
      "60/60 [==============================] - 29s 478ms/step - loss: 0.2805 - accuracy: 0.8992\n",
      "Test Result 61\n",
      "20/20 [==============================] - 2s 107ms/step - loss: 1.0443 - accuracy: 0.7172\n",
      "Loss = 1.0442856550216675\n",
      "Test Accuracy = 0.7172195911407471\n",
      "Training Process 62\n",
      "60/60 [==============================] - 29s 484ms/step - loss: 0.2818 - accuracy: 0.9002\n",
      "Test Result 62\n",
      "20/20 [==============================] - 2s 110ms/step - loss: 1.1535 - accuracy: 0.6998\n",
      "Loss = 1.1534547805786133\n",
      "Test Accuracy = 0.6998420357704163\n",
      "Training Process 63\n",
      "60/60 [==============================] - 29s 475ms/step - loss: 0.2732 - accuracy: 0.9060\n",
      "Test Result 63\n",
      "20/20 [==============================] - 2s 106ms/step - loss: 1.0634 - accuracy: 0.7077\n",
      "Loss = 1.0634183883666992\n",
      "Test Accuracy = 0.7077409029006958\n",
      "Training Process 64\n",
      "60/60 [==============================] - 28s 474ms/step - loss: 0.2770 - accuracy: 0.9007\n",
      "Test Result 64\n",
      "20/20 [==============================] - 2s 104ms/step - loss: 0.9810 - accuracy: 0.7093\n",
      "Loss = 0.9810218214988708\n",
      "Test Accuracy = 0.7093207240104675\n",
      "Training Process 65\n",
      "60/60 [==============================] - 28s 474ms/step - loss: 0.2523 - accuracy: 0.9092\n",
      "Test Result 65\n",
      "20/20 [==============================] - 2s 103ms/step - loss: 1.0942 - accuracy: 0.7046\n",
      "Loss = 1.0942070484161377\n",
      "Test Accuracy = 0.7045813798904419\n",
      "Training Process 66\n",
      "60/60 [==============================] - 29s 490ms/step - loss: 0.2736 - accuracy: 0.9007\n",
      "Test Result 66\n",
      "20/20 [==============================] - 2s 108ms/step - loss: 1.1149 - accuracy: 0.6888\n",
      "Loss = 1.114930510520935\n",
      "Test Accuracy = 0.688783586025238\n",
      "Training Process 67\n",
      "60/60 [==============================] - 30s 502ms/step - loss: 0.2342 - accuracy: 0.9150\n",
      "Test Result 67\n",
      "20/20 [==============================] - 2s 105ms/step - loss: 1.3720 - accuracy: 0.6635\n",
      "Loss = 1.3719898462295532\n",
      "Test Accuracy = 0.6635071039199829\n",
      "Training Process 68\n",
      "60/60 [==============================] - 30s 492ms/step - loss: 0.2596 - accuracy: 0.9113\n",
      "Test Result 68\n",
      "20/20 [==============================] - 2s 105ms/step - loss: 1.1407 - accuracy: 0.6919\n",
      "Loss = 1.140727162361145\n",
      "Test Accuracy = 0.6919431090354919\n",
      "Training Process 69\n",
      "60/60 [==============================] - 29s 482ms/step - loss: 0.2242 - accuracy: 0.9219\n",
      "Test Result 69\n",
      "20/20 [==============================] - 2s 104ms/step - loss: 1.0243 - accuracy: 0.7077\n",
      "Loss = 1.0242679119110107\n",
      "Test Accuracy = 0.7077409029006958\n",
      "Training Process 70\n",
      "60/60 [==============================] - 30s 497ms/step - loss: 0.2238 - accuracy: 0.9234\n",
      "Test Result 70\n",
      "20/20 [==============================] - 2s 102ms/step - loss: 1.1166 - accuracy: 0.7156\n",
      "Loss = 1.116562008857727\n",
      "Test Accuracy = 0.7156398296356201\n",
      "Training Process 71\n",
      "60/60 [==============================] - 29s 486ms/step - loss: 0.2274 - accuracy: 0.9171\n",
      "Test Result 71\n",
      "20/20 [==============================] - 2s 103ms/step - loss: 1.2556 - accuracy: 0.6761\n",
      "Loss = 1.2555902004241943\n",
      "Test Accuracy = 0.6761453151702881\n",
      "Training Process 72\n",
      "60/60 [==============================] - 30s 501ms/step - loss: 0.2437 - accuracy: 0.9076\n",
      "Test Result 72\n",
      "20/20 [==============================] - 2s 101ms/step - loss: 1.2188 - accuracy: 0.7062\n",
      "Loss = 1.2188243865966797\n",
      "Test Accuracy = 0.7061611413955688\n",
      "Training Process 73\n",
      "60/60 [==============================] - 29s 491ms/step - loss: 0.1979 - accuracy: 0.9308\n",
      "Test Result 73\n",
      "20/20 [==============================] - 2s 104ms/step - loss: 1.2354 - accuracy: 0.7109\n",
      "Loss = 1.2354097366333008\n",
      "Test Accuracy = 0.7109004855155945\n",
      "Training Process 74\n",
      "60/60 [==============================] - 31s 523ms/step - loss: 0.2211 - accuracy: 0.9245\n",
      "Test Result 74\n",
      "20/20 [==============================] - 2s 110ms/step - loss: 1.5072 - accuracy: 0.6461\n",
      "Loss = 1.5071600675582886\n",
      "Test Accuracy = 0.6461295485496521\n",
      "Training Process 75\n",
      "60/60 [==============================] - 31s 518ms/step - loss: 0.2052 - accuracy: 0.9287\n",
      "Test Result 75\n",
      "20/20 [==============================] - 3s 128ms/step - loss: 1.0628 - accuracy: 0.7267\n",
      "Loss = 1.0628224611282349\n",
      "Test Accuracy = 0.7266982793807983\n",
      "Training Process 76\n",
      "60/60 [==============================] - 33s 545ms/step - loss: 0.1878 - accuracy: 0.9356\n",
      "Test Result 76\n",
      "20/20 [==============================] - 2s 112ms/step - loss: 1.1183 - accuracy: 0.7172\n",
      "Loss = 1.1183485984802246\n",
      "Test Accuracy = 0.7172195911407471\n",
      "Training Process 77\n",
      "60/60 [==============================] - 32s 538ms/step - loss: 0.1898 - accuracy: 0.9303\n",
      "Test Result 77\n",
      "20/20 [==============================] - 2s 112ms/step - loss: 1.2565 - accuracy: 0.7093\n",
      "Loss = 1.2564928531646729\n",
      "Test Accuracy = 0.7093207240104675\n",
      "Training Process 78\n",
      "60/60 [==============================] - 32s 528ms/step - loss: 0.1909 - accuracy: 0.9329\n",
      "Test Result 78\n",
      "20/20 [==============================] - 2s 112ms/step - loss: 1.1461 - accuracy: 0.7141\n",
      "Loss = 1.1460533142089844\n",
      "Test Accuracy = 0.7140600085258484\n",
      "Training Process 79\n",
      "60/60 [==============================] - 31s 524ms/step - loss: 0.1895 - accuracy: 0.9361\n",
      "Test Result 79\n",
      "20/20 [==============================] - 2s 105ms/step - loss: 1.2127 - accuracy: 0.7046\n",
      "Loss = 1.2127070426940918\n",
      "Test Accuracy = 0.7045813798904419\n"
     ]
    },
    {
     "data": {
      "image/png": "[encoded data removed]",
      "text/plain": [
       "<Figure size 640x480 with 1 Axes>"
      ]
     },
     "metadata": {},
     "output_type": "display_data"
    },
    {
     "data": {
      "image/png": "[encoded data removed]",
      "text/plain": [
       "<Figure size 640x480 with 1 Axes>"
      ]
     },
     "metadata": {},
     "output_type": "display_data"
    }
   ],
   "source": [
    "for i in range(20):\n",
    "    print(\"Training Process \"+str(len(train_loss)))\n",
    "    history = model.fit(train_X, train_Y.T,batch_size=32,epochs=1)\n",
    "    print(\"Test Result \"+str(len(train_loss)))\n",
    "    preds = model.evaluate(test_X, test_Y.T)\n",
    "    print (\"Loss = \" + str(preds[0]))\n",
    "    print (\"Test Accuracy = \" + str(preds[1]))\n",
    "    train_loss.append(history.history[\"loss\"][0])\n",
    "    train_acc.append(history.history[\"accuracy\"][0])\n",
    "    test_loss.append(preds[0])\n",
    "    test_acc.append(preds[1])\n",
    "plt.plot(train_loss)\n",
    "plt.show()\n",
    "plt.plot(test_loss)\n",
    "plt.show()"
   ]
  },
  {
   "cell_type": "code",
   "execution_count": 18,
   "metadata": {},
   "outputs": [
    {
     "name": "stdout",
     "output_type": "stream",
     "text": [
      "20/20 [==============================] - 2s 104ms/step\n"
     ]
    }
   ],
   "source": [
    "error = [0,0,0,0,0,0]\n",
    "mislabel = np.zeros((6,6))\n",
    "prediction = model.predict(test_X_re)\n",
    "for i in range(test_X_re.shape[0]):\n",
    "    if(test_Y_re[np.argmax(prediction,axis=1)[i],i] == 0):\n",
    "        if(i<101):\n",
    "            error[0] = error[0]+1\n",
    "            mislabel[0][np.argmax(prediction,axis=1)[i]] += 1\n",
    "        elif(i<226):\n",
    "            error[1] = error[1]+1\n",
    "            mislabel[1][np.argmax(prediction,axis=1)[i]] += 1\n",
    "        elif(i<329):\n",
    "            error[2] = error[2]+1\n",
    "            mislabel[2][np.argmax(prediction,axis=1)[i]] += 1\n",
    "        elif(i<478):\n",
    "            error[3] = error[3]+1\n",
    "            mislabel[3][np.argmax(prediction,axis=1)[i]] += 1\n",
    "        elif(i<599):\n",
    "            error[4] = error[4]+1\n",
    "            mislabel[4][np.argmax(prediction,axis=1)[i]] += 1\n",
    "        else:\n",
    "            error[5] = error[5]+1\n",
    "            mislabel[5][np.argmax(prediction,axis=1)[i]] += 1"
   ]
  },
  {
   "cell_type": "code",
   "execution_count": 19,
   "metadata": {},
   "outputs": [
    {
     "name": "stdout",
     "output_type": "stream",
     "text": [
      "% of mislabeled cardboard: 0.21782178217821782\n",
      "Mostly mislabeled as: 1\n",
      "% of mislabeled glass: 0.384\n",
      "Mostly mislabeled as: 4\n",
      "% of mislabeled metal: 0.3883495145631068\n",
      "Mostly mislabeled as: 1\n",
      "% of mislabeled paper: 0.040268456375838924\n",
      "Mostly mislabeled as: 4\n",
      "% of mislabeled plastic: 0.4793388429752066\n",
      "Mostly mislabeled as: 1\n",
      "% of mislabeled trash: 0.38235294117647056\n",
      "Mostly mislabeled as: 1\n"
     ]
    }
   ],
   "source": [
    "total = np.array([101,125,103,149,121,34])\n",
    "error = np.array(error)\n",
    "error = np.divide(error,total)\n",
    "print(\"% of mislabeled cardboard: \"+str(error[0]))\n",
    "print(\"Mostly mislabeled as: \"+str(np.argmax(mislabel,axis=0)[0]))\n",
    "print(\"% of mislabeled glass: \"+str(error[1]))\n",
    "print(\"Mostly mislabeled as: \"+str(np.argmax(mislabel,axis=0)[1]))\n",
    "print(\"% of mislabeled metal: \"+str(error[2]))\n",
    "print(\"Mostly mislabeled as: \"+str(np.argmax(mislabel,axis=0)[2]))\n",
    "print(\"% of mislabeled paper: \"+str(error[3]))\n",
    "print(\"Mostly mislabeled as: \"+str(np.argmax(mislabel,axis=0)[3]))\n",
    "print(\"% of mislabeled plastic: \"+str(error[4]))\n",
    "print(\"Mostly mislabeled as: \"+str(np.argmax(mislabel,axis=0)[4]))\n",
    "print(\"% of mislabeled trash: \"+str(error[5]))\n",
    "print(\"Mostly mislabeled as: \"+str(np.argmax(mislabel,axis=0)[5]))"
   ]
  },
  {
   "cell_type": "code",
   "execution_count": 20,
   "metadata": {},
   "outputs": [],
   "source": [
    "f = open('train_loss_do.txt', 'w')\n",
    "for i in train_loss:\n",
    "    f.write(str(i))\n",
    "    f.write(\"\\n\")\n",
    "f.close()"
   ]
  },
  {
   "cell_type": "code",
   "execution_count": 22,
   "metadata": {},
   "outputs": [],
   "source": [
    "f = open('train_acc_do.txt', 'w')\n",
    "for i in train_acc:\n",
    "    f.write(str(i))\n",
    "    f.write(\"\\n\")\n",
    "f.close()"
   ]
  },
  {
   "cell_type": "code",
   "execution_count": 23,
   "metadata": {},
   "outputs": [],
   "source": [
    "f = open('test_acc_do.txt', 'w')\n",
    "for i in test_acc:\n",
    "    f.write(str(i))\n",
    "    f.write(\"\\n\")\n",
    "f.close()"
   ]
  }
 ],
 "metadata": {
  "kernelspec": {
   "display_name": "Python 3 (ipykernel)",
   "language": "python",
   "name": "python3"
  },
  "language_info": {
   "codemirror_mode": {
    "name": "ipython",
    "version": 3
   },
   "file_extension": ".py",
   "mimetype": "text/x-python",
   "name": "python",
   "nbconvert_exporter": "python",
   "pygments_lexer": "ipython3",
   "version": "3.10.9"
  }
 },
 "nbformat": 4,
 "nbformat_minor": 4
}
