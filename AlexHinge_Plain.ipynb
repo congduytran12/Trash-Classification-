{
 "cells": [
  {
   "cell_type": "code",
   "execution_count": 1,
   "metadata": {},
   "outputs": [
    {
     "name": "stderr",
     "output_type": "stream",
     "text": [
      "C:\\Users\\Duy.TC214885\\AppData\\Local\\miniconda3\\lib\\site-packages\\h5py\\__init__.py:36: UserWarning: h5py is running against HDF5 1.12.2 when it was built against 1.12.1, this may cause problems\n",
      "  _warn((\"h5py is running against HDF5 {0} when it was built against {1}, \"\n"
     ]
    }
   ],
   "source": [
    "import copy\n",
    "import numpy as np\n",
    "import matplotlib.pyplot as plt\n",
    "import tensorflow as tf"
   ]
  },
  {
   "cell_type": "code",
   "execution_count": 2,
   "metadata": {},
   "outputs": [
    {
     "name": "stdout",
     "output_type": "stream",
     "text": [
      "(403, 227, 227, 3)\n"
     ]
    }
   ],
   "source": [
    "cardboard = []\n",
    "for i in range(1,404):\n",
    "    temp = tf.keras.preprocessing.image.load_img(\n",
    "        path = \"dataset-resized/cardboard/cardboard\"+str(i)+\".jpg\",\n",
    "        grayscale=False, color_mode='rgb',target_size=(227,227))\n",
    "    X = np.array(temp)\n",
    "    cardboard.append(X)\n",
    "cardboard = np.array(cardboard)\n",
    "cardboard = np.take(cardboard,np.random.permutation(cardboard.shape[0]),axis=0)\n",
    "print(cardboard.shape)"
   ]
  },
  {
   "cell_type": "code",
   "execution_count": 3,
   "metadata": {},
   "outputs": [
    {
     "name": "stdout",
     "output_type": "stream",
     "text": [
      "(501, 227, 227, 3)\n"
     ]
    }
   ],
   "source": [
    "glass = []\n",
    "for i in range(1,502):\n",
    "    temp = tf.keras.preprocessing.image.load_img(\n",
    "        path = \"dataset-resized/glass/glass\"+str(i)+\".jpg\",\n",
    "        grayscale=False, color_mode='rgb',target_size=(227,227))\n",
    "    X = np.array(temp)\n",
    "    glass.append(X)\n",
    "glass = np.array(glass)\n",
    "glass = np.take(glass,np.random.permutation(glass.shape[0]),axis=0)\n",
    "print(glass.shape)"
   ]
  },
  {
   "cell_type": "code",
   "execution_count": 4,
   "metadata": {},
   "outputs": [
    {
     "name": "stdout",
     "output_type": "stream",
     "text": [
      "(410, 227, 227, 3)\n"
     ]
    }
   ],
   "source": [
    "metal = []\n",
    "for i in range(1,411):\n",
    "    temp = tf.keras.preprocessing.image.load_img(\n",
    "        path = \"dataset-resized/metal/metal\"+str(i)+\".jpg\",\n",
    "        grayscale=False, color_mode='rgb',target_size=(227,227))\n",
    "    X = np.array(temp)\n",
    "    metal.append(X)\n",
    "metal = np.array(metal)\n",
    "metal = np.take(metal,np.random.permutation(metal.shape[0]),axis=0)\n",
    "print(metal.shape)"
   ]
  },
  {
   "cell_type": "code",
   "execution_count": 5,
   "metadata": {},
   "outputs": [
    {
     "name": "stdout",
     "output_type": "stream",
     "text": [
      "(594, 227, 227, 3)\n"
     ]
    }
   ],
   "source": [
    "paper = []\n",
    "for i in range(1,595):\n",
    "    temp = tf.keras.preprocessing.image.load_img(\n",
    "        path = \"dataset-resized/paper/paper\"+str(i)+\".jpg\",\n",
    "        grayscale=False, color_mode='rgb',target_size=(227,227))\n",
    "    X = np.array(temp)\n",
    "    paper.append(X)\n",
    "paper = np.array(paper)\n",
    "paper = np.take(paper,np.random.permutation(paper.shape[0]),axis=0)\n",
    "print(paper.shape)"
   ]
  },
  {
   "cell_type": "code",
   "execution_count": 6,
   "metadata": {},
   "outputs": [
    {
     "name": "stdout",
     "output_type": "stream",
     "text": [
      "(482, 227, 227, 3)\n"
     ]
    }
   ],
   "source": [
    "plastic = []\n",
    "for i in range(1,483):\n",
    "    temp = tf.keras.preprocessing.image.load_img(\n",
    "        path = \"dataset-resized/plastic/plastic\"+str(i)+\".jpg\",\n",
    "        grayscale=False, color_mode='rgb',target_size=(227,227))\n",
    "    X = np.array(temp)\n",
    "    plastic.append(X)\n",
    "plastic = np.array(plastic)\n",
    "plastic = np.take(plastic,np.random.permutation(plastic.shape[0]),axis=0)\n",
    "print(plastic.shape)"
   ]
  },
  {
   "cell_type": "code",
   "execution_count": 7,
   "metadata": {},
   "outputs": [
    {
     "name": "stdout",
     "output_type": "stream",
     "text": [
      "(137, 227, 227, 3)\n"
     ]
    }
   ],
   "source": [
    "trash = []\n",
    "for i in range(1,138):\n",
    "    temp = tf.keras.preprocessing.image.load_img(\n",
    "        path = \"dataset-resized/trash/trash\"+str(i)+\".jpg\",\n",
    "        grayscale=False, color_mode='rgb',target_size=(227,227))\n",
    "    X = np.array(temp)\n",
    "    trash.append(X)\n",
    "trash = np.array(trash)\n",
    "trash = np.take(trash,np.random.permutation(trash.shape[0]),axis=0)\n",
    "print(trash.shape)"
   ]
  },
  {
   "cell_type": "code",
   "execution_count": 8,
   "metadata": {},
   "outputs": [],
   "source": [
    "train_X = np.vstack((cardboard[:302,:,:,:],glass[:376,:,:,:],metal[:307,:,:,:],\n",
    "                    paper[:445,:,:,:],plastic[:361,:,:,:],trash[:103,:,:,:]))\n",
    "test_X = np.vstack((cardboard[302:,:,:,:],glass[376:,:,:,:],metal[307:,:,:,:],\n",
    "                   paper[445:,:,:,:],plastic[361:,:,:,:],trash[103:,:,:,:]))\n",
    "train_Y = np.zeros((6,train_X.shape[0]))\n",
    "test_Y = np.zeros((6,test_X.shape[0]))\n",
    "for i in range(train_X.shape[0]):\n",
    "    if(i<302):\n",
    "        train_Y[0][i] = 1\n",
    "    elif(i<678):\n",
    "        train_Y[1][i] = 1\n",
    "    elif(i<985):\n",
    "        train_Y[2][i] = 1\n",
    "    elif(i<1430):\n",
    "        train_Y[3][i] = 1\n",
    "    elif(i<1791):\n",
    "        train_Y[4][i] = 1\n",
    "    else:\n",
    "        train_Y[5][i] = 1\n",
    "for i in range(test_X.shape[0]):\n",
    "    if(i<101):\n",
    "        test_Y[0][i] = 1\n",
    "    elif(i<226):\n",
    "        test_Y[1][i] = 1\n",
    "    elif(i<329):\n",
    "        test_Y[2][i] = 1\n",
    "    elif(i<478):\n",
    "        test_Y[3][i] = 1\n",
    "    elif(i<599):\n",
    "        test_Y[4][i] = 1\n",
    "    else:\n",
    "        test_Y[5][i] = 1"
   ]
  },
  {
   "cell_type": "code",
   "execution_count": 9,
   "metadata": {},
   "outputs": [],
   "source": [
    "test_X_re = test_X\n",
    "test_Y_re = test_Y"
   ]
  },
  {
   "cell_type": "code",
   "execution_count": 10,
   "metadata": {},
   "outputs": [
    {
     "name": "stdout",
     "output_type": "stream",
     "text": [
      "(1894, 227, 227, 3)\n",
      "(6, 1894)\n",
      "(633, 227, 227, 3)\n",
      "(6, 633)\n"
     ]
    }
   ],
   "source": [
    "np.random.seed(1013)\n",
    "train_perm = np.random.permutation(train_X.shape[0])\n",
    "train_X = np.take(train_X,train_perm,axis=0)\n",
    "print(train_X.shape)\n",
    "train_Y = np.take(train_Y,train_perm,axis=1)\n",
    "print(train_Y.shape)\n",
    "np.random.seed(901)\n",
    "test_perm = np.random.permutation(test_X.shape[0])\n",
    "test_X = np.take(test_X,test_perm,axis=0)\n",
    "print(test_X.shape)\n",
    "test_Y = np.take(test_Y,test_perm,axis=1)\n",
    "print(test_Y.shape)"
   ]
  },
  {
   "cell_type": "code",
   "execution_count": 11,
   "metadata": {},
   "outputs": [],
   "source": [
    "def AlexNetHinge(input_shape = (227, 227, 3), classes = 6):\n",
    "    X_input = tf.keras.Input(input_shape)\n",
    "    X = X_input\n",
    "    X = tf.keras.layers.Conv2D(96, (11, 11), strides = (4, 4), activation = \"relu\", name = 'conv1')(X)\n",
    "    X = tf.keras.layers.MaxPooling2D((3, 3), strides=(2, 2))(X)\n",
    "    X = tf.keras.layers.BatchNormalization(axis = 3, name = 'bn_conv1')(X)\n",
    "    X = tf.keras.layers.Conv2D(256, (5, 5), padding = \"same\",activation = \"relu\", name = 'conv2')(X)\n",
    "    X = tf.keras.layers.MaxPooling2D((3, 3), strides=(2, 2))(X)\n",
    "    X = tf.keras.layers.BatchNormalization(axis = 3, name = 'bn_conv2')(X)\n",
    "    X = tf.keras.layers.Conv2D(256, (3, 3), padding = \"same\",activation = \"relu\", name = 'conv5')(X)\n",
    "    X = tf.keras.layers.MaxPooling2D((3, 3), strides=(2, 2))(X)\n",
    "    X = tf.keras.layers.Flatten()(X)\n",
    "    X = tf.keras.layers.Dense(4096, activation = \"relu\", name='fc' + str(1))(X)\n",
    "    X = tf.keras.layers.Dense(4096, activation = \"relu\", name='fc' + str(2))(X)\n",
    "    X = tf.keras.layers.Dense(classes, activation = \"linear\",kernel_regularizer=tf.keras.regularizers.l2(0.01), name='fc' + str(classes))(X)\n",
    "       \n",
    "    # Create model\n",
    "    model = tf.keras.Model(inputs = X_input, outputs = X, name='ALEXNETHINGE')\n",
    "\n",
    "    return model"
   ]
  },
  {
   "cell_type": "code",
   "execution_count": 12,
   "metadata": {},
   "outputs": [],
   "source": [
    "model = AlexNetHinge()\n",
    "model.compile(optimizer=tf.keras.optimizers.Adam(learning_rate=0.000005), \n",
    "              loss='categorical_hinge', metrics=['accuracy'])"
   ]
  },
  {
   "cell_type": "code",
   "execution_count": 13,
   "metadata": {},
   "outputs": [
    {
     "name": "stdout",
     "output_type": "stream",
     "text": [
      "Model: \"ALEXNETHINGE\"\n",
      "_________________________________________________________________\n",
      " Layer (type)                Output Shape              Param #   \n",
      "=================================================================\n",
      " input_1 (InputLayer)        [(None, 227, 227, 3)]     0         \n",
      "                                                                 \n",
      " conv1 (Conv2D)              (None, 55, 55, 96)        34944     \n",
      "                                                                 \n",
      " max_pooling2d (MaxPooling2  (None, 27, 27, 96)        0         \n",
      " D)                                                              \n",
      "                                                                 \n",
      " bn_conv1 (BatchNormalizati  (None, 27, 27, 96)        384       \n",
      " on)                                                             \n",
      "                                                                 \n",
      " conv2 (Conv2D)              (None, 27, 27, 256)       614656    \n",
      "                                                                 \n",
      " max_pooling2d_1 (MaxPoolin  (None, 13, 13, 256)       0         \n",
      " g2D)                                                            \n",
      "                                                                 \n",
      " bn_conv2 (BatchNormalizati  (None, 13, 13, 256)       1024      \n",
      " on)                                                             \n",
      "                                                                 \n",
      " conv5 (Conv2D)              (None, 13, 13, 256)       590080    \n",
      "                                                                 \n",
      " max_pooling2d_2 (MaxPoolin  (None, 6, 6, 256)         0         \n",
      " g2D)                                                            \n",
      "                                                                 \n",
      " flatten (Flatten)           (None, 9216)              0         \n",
      "                                                                 \n",
      " fc1 (Dense)                 (None, 4096)              37752832  \n",
      "                                                                 \n",
      " fc2 (Dense)                 (None, 4096)              16781312  \n",
      "                                                                 \n",
      " fc6 (Dense)                 (None, 6)                 24582     \n",
      "                                                                 \n",
      "=================================================================\n",
      "Total params: 55799814 (212.86 MB)\n",
      "Trainable params: 55799110 (212.86 MB)\n",
      "Non-trainable params: 704 (2.75 KB)\n",
      "_________________________________________________________________\n"
     ]
    }
   ],
   "source": [
    "model.summary()"
   ]
  },
  {
   "cell_type": "code",
   "execution_count": 14,
   "metadata": {},
   "outputs": [
    {
     "name": "stdout",
     "output_type": "stream",
     "text": [
      "Training Process 0\n",
      "60/60 [==============================] - 37s 602ms/step - loss: 1.3671 - accuracy: 0.4145\n",
      "Test Result 0\n",
      "20/20 [==============================] - 2s 98ms/step - loss: 2.1127 - accuracy: 0.3144\n",
      "Loss = 2.112726926803589\n",
      "Test Accuracy = 0.31437599658966064\n",
      "Training Process 1\n",
      "60/60 [==============================] - 36s 598ms/step - loss: 0.9638 - accuracy: 0.6082\n",
      "Test Result 1\n",
      "20/20 [==============================] - 2s 98ms/step - loss: 1.4475 - accuracy: 0.4060\n",
      "Loss = 1.4475317001342773\n",
      "Test Accuracy = 0.4060031473636627\n",
      "Training Process 2\n",
      "60/60 [==============================] - 36s 600ms/step - loss: 0.8097 - accuracy: 0.6800\n",
      "Test Result 2\n",
      "20/20 [==============================] - 2s 97ms/step - loss: 1.2130 - accuracy: 0.4534\n",
      "Loss = 1.212992548942566\n",
      "Test Accuracy = 0.4533965289592743\n",
      "Training Process 3\n",
      "60/60 [==============================] - 36s 603ms/step - loss: 0.6984 - accuracy: 0.7471\n",
      "Test Result 3\n",
      "20/20 [==============================] - 2s 100ms/step - loss: 1.0245 - accuracy: 0.5829\n",
      "Loss = 1.0244920253753662\n",
      "Test Accuracy = 0.5829383730888367\n",
      "Training Process 4\n",
      "60/60 [==============================] - 41s 677ms/step - loss: 0.5818 - accuracy: 0.8247\n",
      "Test Result 4\n",
      "20/20 [==============================] - 2s 111ms/step - loss: 0.9442 - accuracy: 0.6224\n",
      "Loss = 0.9442084431648254\n",
      "Test Accuracy = 0.6224328875541687\n",
      "Training Process 5\n",
      "60/60 [==============================] - 39s 652ms/step - loss: 0.4983 - accuracy: 0.8717\n",
      "Test Result 5\n",
      "20/20 [==============================] - 2s 109ms/step - loss: 0.9644 - accuracy: 0.6272\n",
      "Loss = 0.9643543362617493\n",
      "Test Accuracy = 0.6271721720695496\n",
      "Training Process 6\n",
      "60/60 [==============================] - 39s 648ms/step - loss: 0.4397 - accuracy: 0.8981\n",
      "Test Result 6\n",
      "20/20 [==============================] - 2s 109ms/step - loss: 0.9300 - accuracy: 0.6193\n",
      "Loss = 0.9299654960632324\n",
      "Test Accuracy = 0.61927330493927\n",
      "Training Process 7\n",
      "60/60 [==============================] - 39s 651ms/step - loss: 0.3857 - accuracy: 0.9271\n",
      "Test Result 7\n",
      "20/20 [==============================] - 2s 110ms/step - loss: 0.9417 - accuracy: 0.6445\n",
      "Loss = 0.9417263865470886\n",
      "Test Accuracy = 0.6445497870445251\n",
      "Training Process 8\n",
      "60/60 [==============================] - 39s 654ms/step - loss: 0.3516 - accuracy: 0.9393\n",
      "Test Result 8\n",
      "20/20 [==============================] - 2s 112ms/step - loss: 0.9293 - accuracy: 0.6461\n",
      "Loss = 0.9292801022529602\n",
      "Test Accuracy = 0.6461295485496521\n",
      "Training Process 9\n",
      "60/60 [==============================] - 41s 686ms/step - loss: 0.3179 - accuracy: 0.9498\n",
      "Test Result 9\n",
      "20/20 [==============================] - 2s 116ms/step - loss: 0.9445 - accuracy: 0.6524\n",
      "Loss = 0.9444506764411926\n",
      "Test Accuracy = 0.6524486541748047\n",
      "Training Process 10\n",
      "60/60 [==============================] - 41s 680ms/step - loss: 0.2868 - accuracy: 0.9546\n",
      "Test Result 10\n",
      "20/20 [==============================] - 2s 116ms/step - loss: 0.9033 - accuracy: 0.6603\n",
      "Loss = 0.9033446907997131\n",
      "Test Accuracy = 0.660347580909729\n",
      "Training Process 11\n",
      "60/60 [==============================] - 41s 691ms/step - loss: 0.2574 - accuracy: 0.9673\n",
      "Test Result 11\n",
      "20/20 [==============================] - 2s 120ms/step - loss: 0.8971 - accuracy: 0.6682\n",
      "Loss = 0.8970698714256287\n",
      "Test Accuracy = 0.6682464480400085\n",
      "Training Process 12\n",
      "60/60 [==============================] - 41s 685ms/step - loss: 0.2406 - accuracy: 0.9736\n",
      "Test Result 12\n",
      "20/20 [==============================] - 2s 123ms/step - loss: 0.8993 - accuracy: 0.6603\n",
      "Loss = 0.8993315100669861\n",
      "Test Accuracy = 0.660347580909729\n",
      "Training Process 13\n",
      "60/60 [==============================] - 41s 685ms/step - loss: 0.2328 - accuracy: 0.9757\n",
      "Test Result 13\n",
      "20/20 [==============================] - 2s 117ms/step - loss: 0.9072 - accuracy: 0.6556\n",
      "Loss = 0.9071558713912964\n",
      "Test Accuracy = 0.6556082367897034\n",
      "Training Process 14\n",
      "60/60 [==============================] - 41s 679ms/step - loss: 0.2176 - accuracy: 0.9794\n",
      "Test Result 14\n",
      "20/20 [==============================] - 2s 117ms/step - loss: 0.9128 - accuracy: 0.6714\n",
      "Loss = 0.9127718806266785\n",
      "Test Accuracy = 0.6714060306549072\n",
      "Training Process 15\n",
      "60/60 [==============================] - 40s 662ms/step - loss: 0.1997 - accuracy: 0.9868\n",
      "Test Result 15\n",
      "20/20 [==============================] - 2s 115ms/step - loss: 0.8899 - accuracy: 0.6667\n",
      "Loss = 0.8898696303367615\n",
      "Test Accuracy = 0.6666666865348816\n",
      "Training Process 16\n",
      "60/60 [==============================] - 40s 668ms/step - loss: 0.1969 - accuracy: 0.9842\n",
      "Test Result 16\n",
      "20/20 [==============================] - 2s 114ms/step - loss: 0.8849 - accuracy: 0.6793\n",
      "Loss = 0.8848623633384705\n",
      "Test Accuracy = 0.6793048977851868\n",
      "Training Process 17\n",
      "60/60 [==============================] - 41s 687ms/step - loss: 0.1763 - accuracy: 0.9873\n",
      "Test Result 17\n",
      "20/20 [==============================] - 3s 132ms/step - loss: 0.8678 - accuracy: 0.6746\n",
      "Loss = 0.8678047060966492\n",
      "Test Accuracy = 0.6745655536651611\n",
      "Training Process 18\n",
      "60/60 [==============================] - 42s 706ms/step - loss: 0.1774 - accuracy: 0.9916\n",
      "Test Result 18\n",
      "20/20 [==============================] - 2s 116ms/step - loss: 0.8879 - accuracy: 0.6651\n",
      "Loss = 0.8879430294036865\n",
      "Test Accuracy = 0.6650868654251099\n",
      "Training Process 19\n",
      "60/60 [==============================] - 39s 657ms/step - loss: 0.1817 - accuracy: 0.9889\n",
      "Test Result 19\n",
      "20/20 [==============================] - 2s 113ms/step - loss: 0.9257 - accuracy: 0.6556\n",
      "Loss = 0.9256778955459595\n",
      "Test Accuracy = 0.6556082367897034\n"
     ]
    },
    {
     "data": {
      "image/png": "[encoded data removed]",
      "text/plain": [
       "<Figure size 640x480 with 1 Axes>"
      ]
     },
     "metadata": {},
     "output_type": "display_data"
    },
    {
     "data": {
      "image/png": "[encoded data removed]",
      "text/plain": [
       "<Figure size 640x480 with 1 Axes>"
      ]
     },
     "metadata": {},
     "output_type": "display_data"
    }
   ],
   "source": [
    "hin_train_loss = []\n",
    "hin_train_acc = []\n",
    "hin_test_loss = []\n",
    "hin_test_acc = []\n",
    "for i in range(20):\n",
    "    print(\"Training Process \"+str(len(hin_train_loss)))\n",
    "    history = model.fit(train_X, train_Y.T,batch_size=32,epochs=1)\n",
    "    print(\"Test Result \"+str(len(hin_train_loss)))\n",
    "    preds = model.evaluate(test_X, test_Y.T)\n",
    "    print (\"Loss = \" + str(preds[0]))\n",
    "    print (\"Test Accuracy = \" + str(preds[1]))\n",
    "    hin_train_loss.append(history.history[\"loss\"][0])\n",
    "    hin_train_acc.append(history.history[\"accuracy\"][0])\n",
    "    hin_test_loss.append(preds[0])\n",
    "    hin_test_acc.append(preds[1])\n",
    "plt.plot(hin_train_loss)\n",
    "plt.show()\n",
    "plt.plot(hin_test_loss)\n",
    "plt.show()"
   ]
  },
  {
   "cell_type": "code",
   "execution_count": 15,
   "metadata": {},
   "outputs": [
    {
     "name": "stdout",
     "output_type": "stream",
     "text": [
      "Training Process 20\n",
      "60/60 [==============================] - 39s 644ms/step - loss: 0.1623 - accuracy: 0.9937\n",
      "Test Result 20\n",
      "20/20 [==============================] - 2s 107ms/step - loss: 0.8960 - accuracy: 0.6603\n",
      "Loss = 0.896037757396698\n",
      "Test Accuracy = 0.660347580909729\n",
      "Training Process 21\n",
      "60/60 [==============================] - 38s 634ms/step - loss: 0.1596 - accuracy: 0.9926\n",
      "Test Result 21\n",
      "20/20 [==============================] - 2s 108ms/step - loss: 0.8825 - accuracy: 0.6651\n",
      "Loss = 0.8824615478515625\n",
      "Test Accuracy = 0.6650868654251099\n",
      "Training Process 22\n",
      "60/60 [==============================] - 38s 637ms/step - loss: 0.1674 - accuracy: 0.9916\n",
      "Test Result 22\n",
      "20/20 [==============================] - 2s 109ms/step - loss: 0.8531 - accuracy: 0.6888\n",
      "Loss = 0.8530967831611633\n",
      "Test Accuracy = 0.688783586025238\n",
      "Training Process 23\n",
      "60/60 [==============================] - 38s 636ms/step - loss: 0.1485 - accuracy: 0.9952\n",
      "Test Result 23\n",
      "20/20 [==============================] - 2s 112ms/step - loss: 0.8643 - accuracy: 0.6872\n",
      "Loss = 0.8643161654472351\n",
      "Test Accuracy = 0.6872037649154663\n",
      "Training Process 24\n",
      "60/60 [==============================] - 38s 637ms/step - loss: 0.1484 - accuracy: 0.9947\n",
      "Test Result 24\n",
      "20/20 [==============================] - 2s 109ms/step - loss: 0.8608 - accuracy: 0.6998\n",
      "Loss = 0.8608051538467407\n",
      "Test Accuracy = 0.6998420357704163\n",
      "Training Process 25\n",
      "60/60 [==============================] - 38s 639ms/step - loss: 0.1420 - accuracy: 0.9947\n",
      "Test Result 25\n",
      "20/20 [==============================] - 2s 114ms/step - loss: 0.8513 - accuracy: 0.6983\n",
      "Loss = 0.8513041734695435\n",
      "Test Accuracy = 0.6982622146606445\n",
      "Training Process 26\n",
      "60/60 [==============================] - 38s 640ms/step - loss: 0.1429 - accuracy: 0.9942\n",
      "Test Result 26\n",
      "20/20 [==============================] - 2s 108ms/step - loss: 0.8815 - accuracy: 0.6746\n",
      "Loss = 0.8815048336982727\n",
      "Test Accuracy = 0.6745655536651611\n",
      "Training Process 27\n",
      "60/60 [==============================] - 38s 638ms/step - loss: 0.1430 - accuracy: 0.9974\n",
      "Test Result 27\n",
      "20/20 [==============================] - 2s 112ms/step - loss: 0.8576 - accuracy: 0.6856\n",
      "Loss = 0.8576023578643799\n",
      "Test Accuracy = 0.6856240034103394\n",
      "Training Process 28\n",
      "60/60 [==============================] - 39s 654ms/step - loss: 0.1471 - accuracy: 0.9947\n",
      "Test Result 28\n",
      "20/20 [==============================] - 2s 124ms/step - loss: 0.8601 - accuracy: 0.6809\n",
      "Loss = 0.8600636720657349\n",
      "Test Accuracy = 0.6808846592903137\n",
      "Training Process 29\n",
      "60/60 [==============================] - 40s 664ms/step - loss: 0.1432 - accuracy: 0.9958\n",
      "Test Result 29\n",
      "20/20 [==============================] - 2s 113ms/step - loss: 0.8592 - accuracy: 0.6919\n",
      "Loss = 0.8592091798782349\n",
      "Test Accuracy = 0.6919431090354919\n"
     ]
    },
    {
     "data": {
      "image/png": "[encoded data removed]",
      "text/plain": [
       "<Figure size 640x480 with 1 Axes>"
      ]
     },
     "metadata": {},
     "output_type": "display_data"
    },
    {
     "data": {
      "image/png": "[encoded data removed]",
      "text/plain": [
       "<Figure size 640x480 with 1 Axes>"
      ]
     },
     "metadata": {},
     "output_type": "display_data"
    }
   ],
   "source": [
    "for i in range(10):\n",
    "    print(\"Training Process \"+str(len(hin_train_loss)))\n",
    "    history = model.fit(train_X, train_Y.T,batch_size=32,epochs=1)\n",
    "    print(\"Test Result \"+str(len(hin_train_loss)))\n",
    "    preds = model.evaluate(test_X, test_Y.T)\n",
    "    print (\"Loss = \" + str(preds[0]))\n",
    "    print (\"Test Accuracy = \" + str(preds[1]))\n",
    "    hin_train_loss.append(history.history[\"loss\"][0])\n",
    "    hin_train_acc.append(history.history[\"accuracy\"][0])\n",
    "    hin_test_loss.append(preds[0])\n",
    "    hin_test_acc.append(preds[1])\n",
    "plt.plot(hin_train_loss)\n",
    "plt.show()\n",
    "plt.plot(hin_test_loss)\n",
    "plt.show()"
   ]
  },
  {
   "cell_type": "code",
   "execution_count": 16,
   "metadata": {},
   "outputs": [
    {
     "name": "stdout",
     "output_type": "stream",
     "text": [
      "Training Process 30\n",
      "60/60 [==============================] - 39s 645ms/step - loss: 0.1338 - accuracy: 0.9974\n",
      "Test Result 30\n",
      "20/20 [==============================] - 2s 114ms/step - loss: 0.8739 - accuracy: 0.6951\n",
      "Loss = 0.873931348323822\n",
      "Test Accuracy = 0.6951026916503906\n",
      "Training Process 31\n",
      "60/60 [==============================] - 39s 648ms/step - loss: 0.1349 - accuracy: 0.9968\n",
      "Test Result 31\n",
      "20/20 [==============================] - 2s 112ms/step - loss: 0.8413 - accuracy: 0.6998\n",
      "Loss = 0.8413282632827759\n",
      "Test Accuracy = 0.6998420357704163\n",
      "Training Process 32\n",
      "60/60 [==============================] - 39s 645ms/step - loss: 0.1322 - accuracy: 0.9963\n",
      "Test Result 32\n",
      "20/20 [==============================] - 2s 115ms/step - loss: 0.8592 - accuracy: 0.7109\n",
      "Loss = 0.859167218208313\n",
      "Test Accuracy = 0.7109004855155945\n",
      "Training Process 33\n",
      "60/60 [==============================] - 39s 643ms/step - loss: 0.1275 - accuracy: 0.9989\n",
      "Test Result 33\n",
      "20/20 [==============================] - 2s 109ms/step - loss: 0.8477 - accuracy: 0.6983\n",
      "Loss = 0.8476719856262207\n",
      "Test Accuracy = 0.6982622146606445\n",
      "Training Process 34\n",
      "60/60 [==============================] - 38s 638ms/step - loss: 0.1428 - accuracy: 0.9974\n",
      "Test Result 34\n",
      "20/20 [==============================] - 2s 110ms/step - loss: 0.9307 - accuracy: 0.6746\n",
      "Loss = 0.9306954741477966\n",
      "Test Accuracy = 0.6745655536651611\n",
      "Training Process 35\n",
      "60/60 [==============================] - 38s 628ms/step - loss: 0.1447 - accuracy: 0.9958\n",
      "Test Result 35\n",
      "20/20 [==============================] - 2s 107ms/step - loss: 0.8927 - accuracy: 0.6746\n",
      "Loss = 0.8927093744277954\n",
      "Test Accuracy = 0.6745655536651611\n",
      "Training Process 36\n",
      "60/60 [==============================] - 38s 629ms/step - loss: 0.1290 - accuracy: 0.9979\n",
      "Test Result 36\n",
      "20/20 [==============================] - 2s 111ms/step - loss: 0.8782 - accuracy: 0.6825\n",
      "Loss = 0.8781930208206177\n",
      "Test Accuracy = 0.6824644804000854\n",
      "Training Process 37\n",
      "60/60 [==============================] - 37s 623ms/step - loss: 0.1315 - accuracy: 0.9984\n",
      "Test Result 37\n",
      "20/20 [==============================] - 2s 109ms/step - loss: 0.8987 - accuracy: 0.6667\n",
      "Loss = 0.8987438082695007\n",
      "Test Accuracy = 0.6666666865348816\n",
      "Training Process 38\n",
      "60/60 [==============================] - 37s 624ms/step - loss: 0.1261 - accuracy: 0.9995\n",
      "Test Result 38\n",
      "20/20 [==============================] - 2s 109ms/step - loss: 0.8511 - accuracy: 0.7093\n",
      "Loss = 0.8511111736297607\n",
      "Test Accuracy = 0.7093207240104675\n",
      "Training Process 39\n",
      "60/60 [==============================] - 38s 626ms/step - loss: 0.1246 - accuracy: 0.9989\n",
      "Test Result 39\n",
      "20/20 [==============================] - 2s 108ms/step - loss: 0.8840 - accuracy: 0.6619\n",
      "Loss = 0.8839682936668396\n",
      "Test Accuracy = 0.661927342414856\n"
     ]
    },
    {
     "data": {
      "image/png": "[encoded data removed]",
      "text/plain": [
       "<Figure size 640x480 with 1 Axes>"
      ]
     },
     "metadata": {},
     "output_type": "display_data"
    },
    {
     "data": {
      "image/png": "[encoded data removed]",
      "text/plain": [
       "<Figure size 640x480 with 1 Axes>"
      ]
     },
     "metadata": {},
     "output_type": "display_data"
    }
   ],
   "source": [
    "for i in range(10):\n",
    "    print(\"Training Process \"+str(len(hin_train_loss)))\n",
    "    history = model.fit(train_X, train_Y.T,batch_size=32,epochs=1)\n",
    "    print(\"Test Result \"+str(len(hin_train_loss)))\n",
    "    preds = model.evaluate(test_X, test_Y.T)\n",
    "    print (\"Loss = \" + str(preds[0]))\n",
    "    print (\"Test Accuracy = \" + str(preds[1]))\n",
    "    hin_train_loss.append(history.history[\"loss\"][0])\n",
    "    hin_train_acc.append(history.history[\"accuracy\"][0])\n",
    "    hin_test_loss.append(preds[0])\n",
    "    hin_test_acc.append(preds[1])\n",
    "plt.plot(hin_train_loss)\n",
    "plt.show()\n",
    "plt.plot(hin_test_loss)\n",
    "plt.show()"
   ]
  },
  {
   "cell_type": "code",
   "execution_count": 17,
   "metadata": {},
   "outputs": [
    {
     "name": "stdout",
     "output_type": "stream",
     "text": [
      "20/20 [==============================] - 2s 106ms/step\n"
     ]
    }
   ],
   "source": [
    "error = [0,0,0,0,0,0]\n",
    "mislabel = np.zeros((6,6))\n",
    "prediction = model.predict(test_X_re)\n",
    "for i in range(test_X_re.shape[0]):\n",
    "    if(test_Y_re[np.argmax(prediction,axis=1)[i],i] == 0):\n",
    "        if(i<101):\n",
    "            error[0] = error[0]+1\n",
    "            mislabel[0][np.argmax(prediction,axis=1)[i]] += 1\n",
    "        elif(i<226):\n",
    "            error[1] = error[1]+1\n",
    "            mislabel[1][np.argmax(prediction,axis=1)[i]] += 1\n",
    "        elif(i<329):\n",
    "            error[2] = error[2]+1\n",
    "            mislabel[2][np.argmax(prediction,axis=1)[i]] += 1\n",
    "        elif(i<478):\n",
    "            error[3] = error[3]+1\n",
    "            mislabel[3][np.argmax(prediction,axis=1)[i]] += 1\n",
    "        elif(i<599):\n",
    "            error[4] = error[4]+1\n",
    "            mislabel[4][np.argmax(prediction,axis=1)[i]] += 1\n",
    "        else:\n",
    "            error[5] = error[5]+1\n",
    "            mislabel[5][np.argmax(prediction,axis=1)[i]] += 1"
   ]
  },
  {
   "cell_type": "code",
   "execution_count": 18,
   "metadata": {},
   "outputs": [
    {
     "name": "stdout",
     "output_type": "stream",
     "text": [
      "% of mislabeled cardboard: 0.21782178217821782\n",
      "Mostly mislabeled as: 4\n",
      "% of mislabeled glass: 0.392\n",
      "Mostly mislabeled as: 4\n",
      "% of mislabeled metal: 0.5242718446601942\n",
      "Mostly mislabeled as: 1\n",
      "% of mislabeled paper: 0.15436241610738255\n",
      "Mostly mislabeled as: 2\n",
      "% of mislabeled plastic: 0.36363636363636365\n",
      "Mostly mislabeled as: 1\n",
      "% of mislabeled trash: 0.6470588235294118\n",
      "Mostly mislabeled as: 0\n"
     ]
    }
   ],
   "source": [
    "total = np.array([101,125,103,149,121,34])\n",
    "error = np.array(error)\n",
    "error = np.divide(error,total)\n",
    "print(\"% of mislabeled cardboard: \"+str(error[0]))\n",
    "print(\"Mostly mislabeled as: \"+str(np.argmax(mislabel,axis=0)[0]))\n",
    "print(\"% of mislabeled glass: \"+str(error[1]))\n",
    "print(\"Mostly mislabeled as: \"+str(np.argmax(mislabel,axis=0)[1]))\n",
    "print(\"% of mislabeled metal: \"+str(error[2]))\n",
    "print(\"Mostly mislabeled as: \"+str(np.argmax(mislabel,axis=0)[2]))\n",
    "print(\"% of mislabeled paper: \"+str(error[3]))\n",
    "print(\"Mostly mislabeled as: \"+str(np.argmax(mislabel,axis=0)[3]))\n",
    "print(\"% of mislabeled plastic: \"+str(error[4]))\n",
    "print(\"Mostly mislabeled as: \"+str(np.argmax(mislabel,axis=0)[4]))\n",
    "print(\"% of mislabeled trash: \"+str(error[5]))\n",
    "print(\"Mostly mislabeled as: \"+str(np.argmax(mislabel,axis=0)[5]))"
   ]
  },
  {
   "cell_type": "code",
   "execution_count": 19,
   "metadata": {},
   "outputs": [],
   "source": [
    "f = open('hin_train_loss_0.01.txt', 'w')\n",
    "for i in hin_train_loss:\n",
    "    f.write(str(i))\n",
    "    f.write(\"\\n\")\n",
    "f.close()"
   ]
  },
  {
   "cell_type": "code",
   "execution_count": 20,
   "metadata": {},
   "outputs": [],
   "source": [
    "#f = open('hin_test_loss_0.01.txt', 'w')\n",
    "#for i in hin_test_loss:\n",
    "#    f.write(str(i))\n",
    "#    f.write(\"\\n\")\n",
    "#f.close()"
   ]
  },
  {
   "cell_type": "code",
   "execution_count": 21,
   "metadata": {},
   "outputs": [],
   "source": [
    "f = open('hin_train_acc_0.01.txt', 'w')\n",
    "for i in hin_train_acc:\n",
    "    f.write(str(i))\n",
    "    f.write(\"\\n\")\n",
    "f.close()"
   ]
  },
  {
   "cell_type": "code",
   "execution_count": 22,
   "metadata": {},
   "outputs": [],
   "source": [
    "f = open('hin_test_acc_0.01.txt', 'w')\n",
    "for i in hin_test_acc:\n",
    "    f.write(str(i))\n",
    "    f.write(\"\\n\")\n",
    "f.close()"
   ]
  },
  {
   "cell_type": "code",
   "execution_count": 23,
   "metadata": {},
   "outputs": [],
   "source": [
    "#f = open('hin_error_0.01.txt', 'w')\n",
    "#for i in error:\n",
    "#    f.write(str(i))\n",
    "#    f.write(\"\\n\")\n",
    "#f.close()"
   ]
  },
  {
   "cell_type": "code",
   "execution_count": null,
   "metadata": {},
   "outputs": [],
   "source": []
  }
 ],
 "metadata": {
  "kernelspec": {
   "display_name": "Python 3 (ipykernel)",
   "language": "python",
   "name": "python3"
  },
  "language_info": {
   "codemirror_mode": {
    "name": "ipython",
    "version": 3
   },
   "file_extension": ".py",
   "mimetype": "text/x-python",
   "name": "python",
   "nbconvert_exporter": "python",
   "pygments_lexer": "ipython3",
   "version": "3.10.9"
  }
 },
 "nbformat": 4,
 "nbformat_minor": 4
}
