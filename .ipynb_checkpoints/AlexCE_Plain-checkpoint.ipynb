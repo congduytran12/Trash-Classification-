{
 "cells": [
  {
   "cell_type": "code",
   "execution_count": 1,
   "metadata": {},
   "outputs": [
    {
     "name": "stderr",
     "output_type": "stream",
     "text": [
      "C:\\Users\\Duy.TC214885\\AppData\\Local\\miniconda3\\lib\\site-packages\\h5py\\__init__.py:36: UserWarning: h5py is running against HDF5 1.12.2 when it was built against 1.12.1, this may cause problems\n",
      "  _warn((\"h5py is running against HDF5 {0} when it was built against {1}, \"\n"
     ]
    }
   ],
   "source": [
    "import numpy as np\n",
    "import matplotlib.pyplot as plt\n",
    "import tensorflow as tf"
   ]
  },
  {
   "cell_type": "code",
   "execution_count": 2,
   "metadata": {},
   "outputs": [
    {
     "name": "stdout",
     "output_type": "stream",
     "text": [
      "(403, 227, 227, 3)\n"
     ]
    }
   ],
   "source": [
    "cardboard = []\n",
    "for i in range(1,404):\n",
    "    temp = tf.keras.preprocessing.image.load_img(\n",
    "        path = \"dataset-resized/cardboard/cardboard\"+str(i)+\".jpg\",\n",
    "        grayscale=False, color_mode='rgb',target_size=(227,227))\n",
    "    X = np.array(temp)\n",
    "    cardboard.append(X)\n",
    "cardboard = np.array(cardboard)\n",
    "cardboard = np.take(cardboard,np.random.permutation(cardboard.shape[0]),axis=0)\n",
    "print(cardboard.shape)"
   ]
  },
  {
   "cell_type": "code",
   "execution_count": 3,
   "metadata": {},
   "outputs": [
    {
     "name": "stdout",
     "output_type": "stream",
     "text": [
      "(501, 227, 227, 3)\n"
     ]
    }
   ],
   "source": [
    "glass = []\n",
    "for i in range(1,502):\n",
    "    temp = tf.keras.preprocessing.image.load_img(\n",
    "        path = \"dataset-resized/glass/glass\"+str(i)+\".jpg\",\n",
    "        grayscale=False, color_mode='rgb',target_size=(227,227))\n",
    "    X = np.array(temp)\n",
    "    glass.append(X)\n",
    "glass = np.array(glass)\n",
    "glass = np.take(glass,np.random.permutation(glass.shape[0]),axis=0)\n",
    "print(glass.shape)"
   ]
  },
  {
   "cell_type": "code",
   "execution_count": 4,
   "metadata": {},
   "outputs": [
    {
     "name": "stdout",
     "output_type": "stream",
     "text": [
      "(410, 227, 227, 3)\n"
     ]
    }
   ],
   "source": [
    "metal = []\n",
    "for i in range(1,411):\n",
    "    temp = tf.keras.preprocessing.image.load_img(\n",
    "        path = \"dataset-resized/metal/metal\"+str(i)+\".jpg\",\n",
    "        grayscale=False, color_mode='rgb',target_size=(227,227))\n",
    "    X = np.array(temp)\n",
    "    metal.append(X)\n",
    "metal = np.array(metal)\n",
    "metal = np.take(metal,np.random.permutation(metal.shape[0]),axis=0)\n",
    "print(metal.shape)"
   ]
  },
  {
   "cell_type": "code",
   "execution_count": 5,
   "metadata": {},
   "outputs": [
    {
     "name": "stdout",
     "output_type": "stream",
     "text": [
      "(594, 227, 227, 3)\n"
     ]
    }
   ],
   "source": [
    "paper = []\n",
    "for i in range(1,595):\n",
    "    temp = tf.keras.preprocessing.image.load_img(\n",
    "        path = \"dataset-resized/paper/paper\"+str(i)+\".jpg\",\n",
    "        grayscale=False, color_mode='rgb',target_size=(227,227))\n",
    "    X = np.array(temp)\n",
    "    paper.append(X)\n",
    "paper = np.array(paper)\n",
    "paper = np.take(paper,np.random.permutation(paper.shape[0]),axis=0)\n",
    "print(paper.shape)"
   ]
  },
  {
   "cell_type": "code",
   "execution_count": 6,
   "metadata": {},
   "outputs": [
    {
     "name": "stdout",
     "output_type": "stream",
     "text": [
      "(482, 227, 227, 3)\n"
     ]
    }
   ],
   "source": [
    "plastic = []\n",
    "for i in range(1,483):\n",
    "    temp = tf.keras.preprocessing.image.load_img(\n",
    "        path = \"dataset-resized/plastic/plastic\"+str(i)+\".jpg\",\n",
    "        grayscale=False, color_mode='rgb',target_size=(227,227))\n",
    "    X = np.array(temp)\n",
    "    plastic.append(X)\n",
    "plastic = np.array(plastic)\n",
    "plastic = np.take(plastic,np.random.permutation(plastic.shape[0]),axis=0)\n",
    "print(plastic.shape)"
   ]
  },
  {
   "cell_type": "code",
   "execution_count": 7,
   "metadata": {},
   "outputs": [
    {
     "name": "stdout",
     "output_type": "stream",
     "text": [
      "(137, 227, 227, 3)\n"
     ]
    }
   ],
   "source": [
    "trash = []\n",
    "for i in range(1,138):\n",
    "    temp = tf.keras.preprocessing.image.load_img(\n",
    "        path = \"dataset-resized/trash/trash\"+str(i)+\".jpg\",\n",
    "        grayscale=False, color_mode='rgb',target_size=(227,227))\n",
    "    X = np.array(temp)\n",
    "    trash.append(X)\n",
    "trash = np.array(trash)\n",
    "trash = np.take(trash,np.random.permutation(trash.shape[0]),axis=0)\n",
    "print(trash.shape)"
   ]
  },
  {
   "cell_type": "code",
   "execution_count": 8,
   "metadata": {},
   "outputs": [],
   "source": [
    "train_X = np.vstack((cardboard[:302,:,:,:],glass[:376,:,:,:],metal[:307,:,:,:],\n",
    "                    paper[:445,:,:,:],plastic[:361,:,:,:],trash[:103,:,:,:]))\n",
    "test_X = np.vstack((cardboard[302:,:,:,:],glass[376:,:,:,:],metal[307:,:,:,:],\n",
    "                   paper[445:,:,:,:],plastic[361:,:,:,:],trash[103:,:,:,:]))\n",
    "train_Y = np.zeros((6,train_X.shape[0]))\n",
    "test_Y = np.zeros((6,test_X.shape[0]))\n",
    "for i in range(train_X.shape[0]):\n",
    "    if(i<302):\n",
    "        train_Y[0][i] = 1\n",
    "    elif(i<678):\n",
    "        train_Y[1][i] = 1\n",
    "    elif(i<985):\n",
    "        train_Y[2][i] = 1\n",
    "    elif(i<1430):\n",
    "        train_Y[3][i] = 1\n",
    "    elif(i<1791):\n",
    "        train_Y[4][i] = 1\n",
    "    else:\n",
    "        train_Y[5][i] = 1\n",
    "for i in range(test_X.shape[0]):\n",
    "    if(i<101):\n",
    "        test_Y[0][i] = 1\n",
    "    elif(i<226):\n",
    "        test_Y[1][i] = 1\n",
    "    elif(i<329):\n",
    "        test_Y[2][i] = 1\n",
    "    elif(i<478):\n",
    "        test_Y[3][i] = 1\n",
    "    elif(i<599):\n",
    "        test_Y[4][i] = 1\n",
    "    else:\n",
    "        test_Y[5][i] = 1"
   ]
  },
  {
   "cell_type": "code",
   "execution_count": 9,
   "metadata": {},
   "outputs": [],
   "source": [
    "test_X_re = test_X\n",
    "test_Y_re = test_Y"
   ]
  },
  {
   "cell_type": "code",
   "execution_count": 10,
   "metadata": {},
   "outputs": [
    {
     "name": "stdout",
     "output_type": "stream",
     "text": [
      "(1894, 227, 227, 3)\n",
      "(6, 1894)\n",
      "(633, 227, 227, 3)\n",
      "(6, 633)\n"
     ]
    }
   ],
   "source": [
    "np.random.seed(1013)\n",
    "train_perm = np.random.permutation(train_X.shape[0])\n",
    "train_X = np.take(train_X,train_perm,axis=0)\n",
    "print(train_X.shape)\n",
    "train_Y = np.take(train_Y,train_perm,axis=1)\n",
    "print(train_Y.shape)\n",
    "np.random.seed(901)\n",
    "test_perm = np.random.permutation(test_X.shape[0])\n",
    "test_X = np.take(test_X,test_perm,axis=0)\n",
    "print(test_X.shape)\n",
    "test_Y = np.take(test_Y,test_perm,axis=1)\n",
    "print(test_Y.shape)"
   ]
  },
  {
   "cell_type": "code",
   "execution_count": 11,
   "metadata": {},
   "outputs": [],
   "source": [
    "def AlexNetCE(input_shape = (227, 227, 3), classes = 6):\n",
    "    X_input = tf.keras.Input(input_shape)\n",
    "    X = X_input\n",
    "    X = tf.keras.layers.Conv2D(96, (11, 11), strides = (4, 4), activation = \"relu\", name = 'conv1')(X)\n",
    "    X = tf.keras.layers.MaxPooling2D((3, 3), strides=(2, 2))(X)\n",
    "    X = tf.keras.layers.BatchNormalization(axis = 3, name = 'bn_conv1')(X)\n",
    "    X = tf.keras.layers.Conv2D(256, (5, 5), padding = \"same\",activation = \"relu\", name = 'conv2')(X)\n",
    "    X = tf.keras.layers.MaxPooling2D((3, 3), strides=(2, 2))(X)\n",
    "    X = tf.keras.layers.BatchNormalization(axis = 3, name = 'bn_conv2')(X)\n",
    "    X = tf.keras.layers.Conv2D(256, (3, 3), padding = \"same\",activation = \"relu\", name = 'conv5')(X)\n",
    "    X = tf.keras.layers.MaxPooling2D((3, 3), strides=(2, 2))(X)\n",
    "    X = tf.keras.layers.Flatten()(X)\n",
    "    X = tf.keras.layers.Dense(4096, activation = \"relu\", name='fc' + str(1))(X)\n",
    "    X = tf.keras.layers.Dense(4096, activation = \"relu\", name='fc' + str(2))(X)\n",
    "    X = tf.keras.layers.Dense(classes, activation='softmax', name='fc' + str(classes))(X)\n",
    "\n",
    "    model = tf.keras.Model(inputs = X_input, outputs = X, name='ALEXNETCE')\n",
    "\n",
    "    return model"
   ]
  },
  {
   "cell_type": "code",
   "execution_count": 12,
   "metadata": {},
   "outputs": [],
   "source": [
    "model = AlexNetCE()\n",
    "model.compile(optimizer=tf.keras.optimizers.Adam(learning_rate=0.000005), \n",
    "              loss='categorical_crossentropy', metrics=['accuracy'])"
   ]
  },
  {
   "cell_type": "code",
   "execution_count": 13,
   "metadata": {},
   "outputs": [
    {
     "name": "stdout",
     "output_type": "stream",
     "text": [
      "Model: \"ALEXNETCE\"\n",
      "_________________________________________________________________\n",
      " Layer (type)                Output Shape              Param #   \n",
      "=================================================================\n",
      " input_1 (InputLayer)        [(None, 227, 227, 3)]     0         \n",
      "                                                                 \n",
      " conv1 (Conv2D)              (None, 55, 55, 96)        34944     \n",
      "                                                                 \n",
      " max_pooling2d (MaxPooling2  (None, 27, 27, 96)        0         \n",
      " D)                                                              \n",
      "                                                                 \n",
      " bn_conv1 (BatchNormalizati  (None, 27, 27, 96)        384       \n",
      " on)                                                             \n",
      "                                                                 \n",
      " conv2 (Conv2D)              (None, 27, 27, 256)       614656    \n",
      "                                                                 \n",
      " max_pooling2d_1 (MaxPoolin  (None, 13, 13, 256)       0         \n",
      " g2D)                                                            \n",
      "                                                                 \n",
      " bn_conv2 (BatchNormalizati  (None, 13, 13, 256)       1024      \n",
      " on)                                                             \n",
      "                                                                 \n",
      " conv5 (Conv2D)              (None, 13, 13, 256)       590080    \n",
      "                                                                 \n",
      " max_pooling2d_2 (MaxPoolin  (None, 6, 6, 256)         0         \n",
      " g2D)                                                            \n",
      "                                                                 \n",
      " flatten (Flatten)           (None, 9216)              0         \n",
      "                                                                 \n",
      " fc1 (Dense)                 (None, 4096)              37752832  \n",
      "                                                                 \n",
      " fc2 (Dense)                 (None, 4096)              16781312  \n",
      "                                                                 \n",
      " fc6 (Dense)                 (None, 6)                 24582     \n",
      "                                                                 \n",
      "=================================================================\n",
      "Total params: 55799814 (212.86 MB)\n",
      "Trainable params: 55799110 (212.86 MB)\n",
      "Non-trainable params: 704 (2.75 KB)\n",
      "_________________________________________________________________\n"
     ]
    }
   ],
   "source": [
    "model.summary()"
   ]
  },
  {
   "cell_type": "code",
   "execution_count": 14,
   "metadata": {},
   "outputs": [
    {
     "name": "stdout",
     "output_type": "stream",
     "text": [
      "Training Process 0\n",
      "60/60 [==============================] - 36s 591ms/step - loss: 1.4898 - accuracy: 0.4192\n",
      "Test Result 0\n",
      "20/20 [==============================] - 2s 90ms/step - loss: 2.6727 - accuracy: 0.2354\n",
      "Loss = 2.6726715564727783\n",
      "Test Accuracy = 0.23538704216480255\n",
      "Training Process 1\n",
      "60/60 [==============================] - 37s 615ms/step - loss: 1.0806 - accuracy: 0.6156\n",
      "Test Result 1\n",
      "20/20 [==============================] - 2s 113ms/step - loss: 1.8779 - accuracy: 0.3365\n",
      "Loss = 1.877885341644287\n",
      "Test Accuracy = 0.3364928960800171\n",
      "Training Process 2\n",
      "60/60 [==============================] - 37s 623ms/step - loss: 0.9204 - accuracy: 0.6748\n",
      "Test Result 2\n",
      "20/20 [==============================] - 2s 101ms/step - loss: 1.4565 - accuracy: 0.4186\n",
      "Loss = 1.456455945968628\n",
      "Test Accuracy = 0.4186413884162903\n",
      "Training Process 3\n",
      "60/60 [==============================] - 37s 615ms/step - loss: 0.7632 - accuracy: 0.7518\n",
      "Test Result 3\n",
      "20/20 [==============================] - 2s 96ms/step - loss: 1.2224 - accuracy: 0.5182\n",
      "Loss = 1.2223694324493408\n",
      "Test Accuracy = 0.5181674361228943\n",
      "Training Process 4\n",
      "60/60 [==============================] - 37s 610ms/step - loss: 0.6569 - accuracy: 0.7946\n",
      "Test Result 4\n",
      "20/20 [==============================] - 2s 98ms/step - loss: 1.1153 - accuracy: 0.5750\n",
      "Loss = 1.1152901649475098\n",
      "Test Accuracy = 0.5750395059585571\n",
      "Training Process 5\n",
      "60/60 [==============================] - 35s 584ms/step - loss: 0.5972 - accuracy: 0.8237\n",
      "Test Result 5\n",
      "20/20 [==============================] - 2s 96ms/step - loss: 1.0257 - accuracy: 0.6288\n",
      "Loss = 1.0257049798965454\n",
      "Test Accuracy = 0.6287519931793213\n",
      "Training Process 6\n",
      "60/60 [==============================] - 36s 603ms/step - loss: 0.5081 - accuracy: 0.8643\n",
      "Test Result 6\n",
      "20/20 [==============================] - 2s 100ms/step - loss: 1.0070 - accuracy: 0.6019\n",
      "Loss = 1.00697660446167\n",
      "Test Accuracy = 0.6018957495689392\n",
      "Training Process 7\n",
      "60/60 [==============================] - 36s 594ms/step - loss: 0.4370 - accuracy: 0.8928\n",
      "Test Result 7\n",
      "20/20 [==============================] - 2s 97ms/step - loss: 0.9655 - accuracy: 0.6430\n",
      "Loss = 0.9655352830886841\n",
      "Test Accuracy = 0.6429699659347534\n",
      "Training Process 8\n",
      "60/60 [==============================] - 35s 588ms/step - loss: 0.3931 - accuracy: 0.9129\n",
      "Test Result 8\n",
      "20/20 [==============================] - 2s 95ms/step - loss: 0.9972 - accuracy: 0.6335\n",
      "Loss = 0.9971741437911987\n",
      "Test Accuracy = 0.6334913372993469\n",
      "Training Process 9\n",
      "60/60 [==============================] - 36s 598ms/step - loss: 0.3463 - accuracy: 0.9277\n",
      "Test Result 9\n",
      "20/20 [==============================] - 2s 96ms/step - loss: 0.9382 - accuracy: 0.6619\n",
      "Loss = 0.938152015209198\n",
      "Test Accuracy = 0.661927342414856\n",
      "Training Process 10\n",
      "60/60 [==============================] - 36s 605ms/step - loss: 0.3124 - accuracy: 0.9388\n",
      "Test Result 10\n",
      "20/20 [==============================] - 2s 98ms/step - loss: 0.9188 - accuracy: 0.6635\n",
      "Loss = 0.9188079833984375\n",
      "Test Accuracy = 0.6635071039199829\n",
      "Training Process 11\n",
      "60/60 [==============================] - 36s 600ms/step - loss: 0.2679 - accuracy: 0.9493\n",
      "Test Result 11\n",
      "20/20 [==============================] - 2s 96ms/step - loss: 0.8889 - accuracy: 0.6904\n",
      "Loss = 0.8889209628105164\n",
      "Test Accuracy = 0.690363347530365\n",
      "Training Process 12\n",
      "60/60 [==============================] - 36s 609ms/step - loss: 0.2497 - accuracy: 0.9541\n",
      "Test Result 12\n",
      "20/20 [==============================] - 2s 96ms/step - loss: 0.9093 - accuracy: 0.6430\n",
      "Loss = 0.9093457460403442\n",
      "Test Accuracy = 0.6429699659347534\n",
      "Training Process 13\n",
      "60/60 [==============================] - 36s 600ms/step - loss: 0.2093 - accuracy: 0.9683\n",
      "Test Result 13\n",
      "20/20 [==============================] - 2s 99ms/step - loss: 0.9004 - accuracy: 0.6825\n",
      "Loss = 0.9003697037696838\n",
      "Test Accuracy = 0.6824644804000854\n",
      "Training Process 14\n",
      "60/60 [==============================] - 35s 588ms/step - loss: 0.1879 - accuracy: 0.9741\n",
      "Test Result 14\n",
      "20/20 [==============================] - 2s 95ms/step - loss: 0.8911 - accuracy: 0.6698\n",
      "Loss = 0.8911488652229309\n",
      "Test Accuracy = 0.6698262095451355\n",
      "Training Process 15\n",
      "60/60 [==============================] - 35s 591ms/step - loss: 0.1672 - accuracy: 0.9725\n",
      "Test Result 15\n",
      "20/20 [==============================] - 2s 100ms/step - loss: 0.8678 - accuracy: 0.6840\n",
      "Loss = 0.8678196668624878\n",
      "Test Accuracy = 0.6840442419052124\n",
      "Training Process 16\n",
      "60/60 [==============================] - 35s 591ms/step - loss: 0.1489 - accuracy: 0.9810\n",
      "Test Result 16\n",
      "20/20 [==============================] - 2s 97ms/step - loss: 0.8534 - accuracy: 0.6761\n",
      "Loss = 0.8534133434295654\n",
      "Test Accuracy = 0.6761453151702881\n",
      "Training Process 17\n",
      "60/60 [==============================] - 36s 603ms/step - loss: 0.1427 - accuracy: 0.9799\n",
      "Test Result 17\n",
      "20/20 [==============================] - 2s 98ms/step - loss: 0.8811 - accuracy: 0.6746\n",
      "Loss = 0.8811253905296326\n",
      "Test Accuracy = 0.6745655536651611\n",
      "Training Process 18\n",
      "60/60 [==============================] - 36s 604ms/step - loss: 0.1305 - accuracy: 0.9836\n",
      "Test Result 18\n",
      "20/20 [==============================] - 2s 100ms/step - loss: 0.8648 - accuracy: 0.6825\n",
      "Loss = 0.864811360836029\n",
      "Test Accuracy = 0.6824644804000854\n",
      "Training Process 19\n",
      "60/60 [==============================] - 36s 599ms/step - loss: 0.1101 - accuracy: 0.9873\n",
      "Test Result 19\n",
      "20/20 [==============================] - 2s 96ms/step - loss: 0.8602 - accuracy: 0.6919\n",
      "Loss = 0.8601589202880859\n",
      "Test Accuracy = 0.6919431090354919\n"
     ]
    },
    {
     "data": {
      "image/png": "[encoded data removed]",
      "text/plain": [
       "<Figure size 640x480 with 1 Axes>"
      ]
     },
     "metadata": {},
     "output_type": "display_data"
    },
    {
     "data": {
      "image/png": "[encoded data removed]",
      "text/plain": [
       "<Figure size 640x480 with 1 Axes>"
      ]
     },
     "metadata": {},
     "output_type": "display_data"
    }
   ],
   "source": [
    "train_loss = []\n",
    "train_acc = []\n",
    "test_loss = []\n",
    "test_acc = []\n",
    "for i in range(20):\n",
    "    print(\"Training Process \"+str(len(train_loss)))\n",
    "    history = model.fit(train_X, train_Y.T,batch_size=32,epochs=1)\n",
    "    print(\"Test Result \"+str(len(train_loss)))\n",
    "    preds = model.evaluate(test_X, test_Y.T)\n",
    "    print (\"Loss = \" + str(preds[0]))\n",
    "    print (\"Test Accuracy = \" + str(preds[1]))\n",
    "    train_loss.append(history.history[\"loss\"][0])\n",
    "    train_acc.append(history.history[\"accuracy\"][0])\n",
    "    test_loss.append(preds[0])\n",
    "    test_acc.append(preds[1])\n",
    "plt.plot(train_loss)\n",
    "plt.show()\n",
    "plt.plot(test_loss)\n",
    "plt.show()"
   ]
  },
  {
   "cell_type": "code",
   "execution_count": 15,
   "metadata": {},
   "outputs": [
    {
     "name": "stdout",
     "output_type": "stream",
     "text": [
      "Training Process 20\n",
      "60/60 [==============================] - 36s 593ms/step - loss: 0.0955 - accuracy: 0.9910\n",
      "Test Result 20\n",
      "20/20 [==============================] - 2s 95ms/step - loss: 0.8478 - accuracy: 0.7125\n",
      "Loss = 0.8478293418884277\n",
      "Test Accuracy = 0.7124802470207214\n",
      "Training Process 21\n",
      "60/60 [==============================] - 35s 590ms/step - loss: 0.0900 - accuracy: 0.9894\n",
      "Test Result 21\n",
      "20/20 [==============================] - 2s 95ms/step - loss: 0.8628 - accuracy: 0.6872\n",
      "Loss = 0.862761914730072\n",
      "Test Accuracy = 0.6872037649154663\n",
      "Training Process 22\n",
      "60/60 [==============================] - 36s 605ms/step - loss: 0.0896 - accuracy: 0.9916\n",
      "Test Result 22\n",
      "20/20 [==============================] - 2s 98ms/step - loss: 0.8760 - accuracy: 0.6888\n",
      "Loss = 0.8759873509407043\n",
      "Test Accuracy = 0.688783586025238\n",
      "Training Process 23\n",
      "60/60 [==============================] - 36s 598ms/step - loss: 0.0737 - accuracy: 0.9916\n",
      "Test Result 23\n",
      "20/20 [==============================] - 2s 100ms/step - loss: 0.8663 - accuracy: 0.6872\n",
      "Loss = 0.8663026094436646\n",
      "Test Accuracy = 0.6872037649154663\n",
      "Training Process 24\n",
      "60/60 [==============================] - 37s 611ms/step - loss: 0.0666 - accuracy: 0.9937\n",
      "Test Result 24\n",
      "20/20 [==============================] - 2s 98ms/step - loss: 0.8429 - accuracy: 0.7188\n",
      "Loss = 0.8429092764854431\n",
      "Test Accuracy = 0.718799352645874\n",
      "Training Process 25\n",
      "60/60 [==============================] - 36s 593ms/step - loss: 0.0654 - accuracy: 0.9910\n",
      "Test Result 25\n",
      "20/20 [==============================] - 2s 93ms/step - loss: 0.8544 - accuracy: 0.7030\n",
      "Loss = 0.8544378280639648\n",
      "Test Accuracy = 0.7030015587806702\n",
      "Training Process 26\n",
      "60/60 [==============================] - 35s 589ms/step - loss: 0.0531 - accuracy: 0.9974\n",
      "Test Result 26\n",
      "20/20 [==============================] - 2s 95ms/step - loss: 0.8856 - accuracy: 0.6856\n",
      "Loss = 0.8856204152107239\n",
      "Test Accuracy = 0.6856240034103394\n",
      "Training Process 27\n",
      "60/60 [==============================] - 35s 587ms/step - loss: 0.0491 - accuracy: 0.9979\n",
      "Test Result 27\n",
      "20/20 [==============================] - 2s 93ms/step - loss: 0.8653 - accuracy: 0.6919\n",
      "Loss = 0.8653467893600464\n",
      "Test Accuracy = 0.6919431090354919\n",
      "Training Process 28\n",
      "60/60 [==============================] - 35s 588ms/step - loss: 0.0449 - accuracy: 0.9963\n",
      "Test Result 28\n",
      "20/20 [==============================] - 2s 95ms/step - loss: 0.8452 - accuracy: 0.6983\n",
      "Loss = 0.8451581597328186\n",
      "Test Accuracy = 0.6982622146606445\n",
      "Training Process 29\n",
      "60/60 [==============================] - 35s 589ms/step - loss: 0.0402 - accuracy: 0.9979\n",
      "Test Result 29\n",
      "20/20 [==============================] - 2s 97ms/step - loss: 0.8674 - accuracy: 0.6983\n",
      "Loss = 0.8673686981201172\n",
      "Test Accuracy = 0.6982622146606445\n"
     ]
    },
    {
     "data": {
      "image/png": "[encoded data removed]",
      "text/plain": [
       "<Figure size 640x480 with 1 Axes>"
      ]
     },
     "metadata": {},
     "output_type": "display_data"
    },
    {
     "data": {
      "image/png": "[encoded data removed]",
      "text/plain": [
       "<Figure size 640x480 with 1 Axes>"
      ]
     },
     "metadata": {},
     "output_type": "display_data"
    }
   ],
   "source": [
    "for i in range(10):\n",
    "    print(\"Training Process \"+str(len(train_loss)))\n",
    "    history = model.fit(train_X, train_Y.T,batch_size=32,epochs=1)\n",
    "    print(\"Test Result \"+str(len(train_loss)))\n",
    "    preds = model.evaluate(test_X, test_Y.T)\n",
    "    print (\"Loss = \" + str(preds[0]))\n",
    "    print (\"Test Accuracy = \" + str(preds[1]))\n",
    "    train_loss.append(history.history[\"loss\"][0])\n",
    "    train_acc.append(history.history[\"accuracy\"][0])\n",
    "    test_loss.append(preds[0])\n",
    "    test_acc.append(preds[1])\n",
    "plt.plot(train_loss)\n",
    "plt.show()\n",
    "plt.plot(test_loss)\n",
    "plt.show()"
   ]
  },
  {
   "cell_type": "code",
   "execution_count": 16,
   "metadata": {},
   "outputs": [
    {
     "name": "stdout",
     "output_type": "stream",
     "text": [
      "Training Process 30\n",
      "60/60 [==============================] - 35s 590ms/step - loss: 0.0404 - accuracy: 0.9968\n",
      "Test Result 30\n",
      "20/20 [==============================] - 2s 98ms/step - loss: 0.8696 - accuracy: 0.6935\n",
      "Loss = 0.8695843815803528\n",
      "Test Accuracy = 0.6935229301452637\n",
      "Training Process 31\n",
      "60/60 [==============================] - 35s 591ms/step - loss: 0.0360 - accuracy: 0.9989\n",
      "Test Result 31\n",
      "20/20 [==============================] - 2s 95ms/step - loss: 0.8904 - accuracy: 0.7125\n",
      "Loss = 0.89037024974823\n",
      "Test Accuracy = 0.7124802470207214\n",
      "Training Process 32\n",
      "60/60 [==============================] - 36s 606ms/step - loss: 0.0391 - accuracy: 0.9952\n",
      "Test Result 32\n",
      "20/20 [==============================] - 2s 100ms/step - loss: 0.8954 - accuracy: 0.7062\n",
      "Loss = 0.8953880667686462\n",
      "Test Accuracy = 0.7061611413955688\n",
      "Training Process 33\n",
      "60/60 [==============================] - 37s 617ms/step - loss: 0.0329 - accuracy: 0.9979\n",
      "Test Result 33\n",
      "20/20 [==============================] - 2s 100ms/step - loss: 0.8550 - accuracy: 0.7251\n",
      "Loss = 0.855049729347229\n",
      "Test Accuracy = 0.7251184582710266\n",
      "Training Process 34\n",
      "60/60 [==============================] - 36s 606ms/step - loss: 0.0280 - accuracy: 0.9984\n",
      "Test Result 34\n",
      "20/20 [==============================] - 2s 107ms/step - loss: 0.8609 - accuracy: 0.7030\n",
      "Loss = 0.8608791828155518\n",
      "Test Accuracy = 0.7030015587806702\n",
      "Training Process 35\n",
      "60/60 [==============================] - 36s 603ms/step - loss: 0.0253 - accuracy: 0.9984\n",
      "Test Result 35\n",
      "20/20 [==============================] - 2s 95ms/step - loss: 0.8745 - accuracy: 0.6983\n",
      "Loss = 0.8745368123054504\n",
      "Test Accuracy = 0.6982622146606445\n",
      "Training Process 36\n",
      "60/60 [==============================] - 36s 593ms/step - loss: 0.0234 - accuracy: 0.9989\n",
      "Test Result 36\n",
      "20/20 [==============================] - 2s 94ms/step - loss: 0.8653 - accuracy: 0.7046\n",
      "Loss = 0.8652991652488708\n",
      "Test Accuracy = 0.7045813798904419\n",
      "Training Process 37\n",
      "60/60 [==============================] - 36s 599ms/step - loss: 0.0251 - accuracy: 0.9979\n",
      "Test Result 37\n",
      "20/20 [==============================] - 2s 97ms/step - loss: 0.8858 - accuracy: 0.6951\n",
      "Loss = 0.8857568502426147\n",
      "Test Accuracy = 0.6951026916503906\n",
      "Training Process 38\n",
      "60/60 [==============================] - 35s 589ms/step - loss: 0.0233 - accuracy: 0.9984\n",
      "Test Result 38\n",
      "20/20 [==============================] - 2s 93ms/step - loss: 0.9109 - accuracy: 0.6825\n",
      "Loss = 0.9108830690383911\n",
      "Test Accuracy = 0.6824644804000854\n",
      "Training Process 39\n",
      "60/60 [==============================] - 35s 591ms/step - loss: 0.0202 - accuracy: 0.9989\n",
      "Test Result 39\n",
      "20/20 [==============================] - 2s 97ms/step - loss: 0.8873 - accuracy: 0.7030\n",
      "Loss = 0.8873283267021179\n",
      "Test Accuracy = 0.7030015587806702\n"
     ]
    },
    {
     "data": {
      "image/png": "[encoded data removed]",
      "text/plain": [
       "<Figure size 640x480 with 1 Axes>"
      ]
     },
     "metadata": {},
     "output_type": "display_data"
    },
    {
     "data": {
      "image/png": "[encoded data removed]",
      "text/plain": [
       "<Figure size 640x480 with 1 Axes>"
      ]
     },
     "metadata": {},
     "output_type": "display_data"
    }
   ],
   "source": [
    "for i in range(10):\n",
    "    print(\"Training Process \"+str(len(train_loss)))\n",
    "    history = model.fit(train_X, train_Y.T,batch_size=32,epochs=1)\n",
    "    print(\"Test Result \"+str(len(train_loss)))\n",
    "    preds = model.evaluate(test_X, test_Y.T)\n",
    "    print (\"Loss = \" + str(preds[0]))\n",
    "    print (\"Test Accuracy = \" + str(preds[1]))\n",
    "    train_loss.append(history.history[\"loss\"][0])\n",
    "    train_acc.append(history.history[\"accuracy\"][0])\n",
    "    test_loss.append(preds[0])\n",
    "    test_acc.append(preds[1])\n",
    "plt.plot(train_loss)\n",
    "plt.show()\n",
    "plt.plot(test_loss)\n",
    "plt.show()"
   ]
  },
  {
   "cell_type": "code",
   "execution_count": 17,
   "metadata": {},
   "outputs": [
    {
     "name": "stdout",
     "output_type": "stream",
     "text": [
      "20/20 [==============================] - 2s 97ms/step\n"
     ]
    }
   ],
   "source": [
    "error = [0,0,0,0,0,0]\n",
    "mislabel = np.zeros((6,6))\n",
    "prediction = model.predict(test_X_re)\n",
    "for i in range(test_X_re.shape[0]):\n",
    "    if(test_Y_re[np.argmax(prediction,axis=1)[i],i] == 0):\n",
    "        if(i<101):\n",
    "            error[0] = error[0]+1\n",
    "            mislabel[0][np.argmax(prediction,axis=1)[i]] += 1\n",
    "        elif(i<226):\n",
    "            error[1] = error[1]+1\n",
    "            mislabel[1][np.argmax(prediction,axis=1)[i]] += 1\n",
    "        elif(i<329):\n",
    "            error[2] = error[2]+1\n",
    "            mislabel[2][np.argmax(prediction,axis=1)[i]] += 1\n",
    "        elif(i<478):\n",
    "            error[3] = error[3]+1\n",
    "            mislabel[3][np.argmax(prediction,axis=1)[i]] += 1\n",
    "        elif(i<599):\n",
    "            error[4] = error[4]+1\n",
    "            mislabel[4][np.argmax(prediction,axis=1)[i]] += 1\n",
    "        else:\n",
    "            error[5] = error[5]+1\n",
    "            mislabel[5][np.argmax(prediction,axis=1)[i]] += 1"
   ]
  },
  {
   "cell_type": "code",
   "execution_count": 18,
   "metadata": {},
   "outputs": [
    {
     "name": "stdout",
     "output_type": "stream",
     "text": [
      "% of mislabeled cardboard: 0.12871287128712872\n",
      "Mostly mislabeled as: 4\n",
      "% of mislabeled glass: 0.344\n",
      "Mostly mislabeled as: 2\n",
      "% of mislabeled metal: 0.4563106796116505\n",
      "Mostly mislabeled as: 1\n",
      "% of mislabeled paper: 0.2348993288590604\n",
      "Mostly mislabeled as: 2\n",
      "% of mislabeled plastic: 0.2644628099173554\n",
      "Mostly mislabeled as: 2\n",
      "% of mislabeled trash: 0.5294117647058824\n",
      "Mostly mislabeled as: 3\n"
     ]
    }
   ],
   "source": [
    "total = np.array([101,125,103,149,121,34])\n",
    "error = np.array(error)\n",
    "error = np.divide(error,total)\n",
    "print(\"% of mislabeled cardboard: \"+str(error[0]))\n",
    "print(\"Mostly mislabeled as: \"+str(np.argmax(mislabel,axis=0)[0]))\n",
    "print(\"% of mislabeled glass: \"+str(error[1]))\n",
    "print(\"Mostly mislabeled as: \"+str(np.argmax(mislabel,axis=0)[1]))\n",
    "print(\"% of mislabeled metal: \"+str(error[2]))\n",
    "print(\"Mostly mislabeled as: \"+str(np.argmax(mislabel,axis=0)[2]))\n",
    "print(\"% of mislabeled paper: \"+str(error[3]))\n",
    "print(\"Mostly mislabeled as: \"+str(np.argmax(mislabel,axis=0)[3]))\n",
    "print(\"% of mislabeled plastic: \"+str(error[4]))\n",
    "print(\"Mostly mislabeled as: \"+str(np.argmax(mislabel,axis=0)[4]))\n",
    "print(\"% of mislabeled trash: \"+str(error[5]))\n",
    "print(\"Mostly mislabeled as: \"+str(np.argmax(mislabel,axis=0)[5]))"
   ]
  },
  {
   "cell_type": "code",
   "execution_count": 19,
   "metadata": {},
   "outputs": [],
   "source": [
    "f = open('train_loss\\train_loss_0.01.txt', 'w')\n",
    "for i in train_loss:\n",
    "    f.write(str(i))\n",
    "    f.write(\"\\n\")\n",
    "f.close()"
   ]
  },
  {
   "cell_type": "code",
   "execution_count": 21,
   "metadata": {},
   "outputs": [],
   "source": [
    "f = open('train_acc\\train_acc_0.01.txt', 'w')\n",
    "for i in train_acc:\n",
    "    f.write(str(i))\n",
    "    f.write(\"\\n\")\n",
    "f.close()"
   ]
  },
  {
   "cell_type": "code",
   "execution_count": 22,
   "metadata": {},
   "outputs": [],
   "source": [
    "f = open('test_acc\\test_acc_0.01.txt', 'w')\n",
    "for i in test_acc:\n",
    "    f.write(str(i))\n",
    "    f.write(\"\\n\")\n",
    "f.close()"
   ]
  }
 ],
 "metadata": {
  "kernelspec": {
   "display_name": "Python 3 (ipykernel)",
   "language": "python",
   "name": "python3"
  },
  "language_info": {
   "codemirror_mode": {
    "name": "ipython",
    "version": 3
   },
   "file_extension": ".py",
   "mimetype": "text/x-python",
   "name": "python",
   "nbconvert_exporter": "python",
   "pygments_lexer": "ipython3",
   "version": "3.11.5"
  }
 },
 "nbformat": 4,
 "nbformat_minor": 4
}
