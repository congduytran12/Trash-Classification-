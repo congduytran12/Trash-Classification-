{
 "cells": [
  {
   "cell_type": "code",
   "execution_count": 1,
   "metadata": {},
   "outputs": [
    {
     "name": "stderr",
     "output_type": "stream",
     "text": [
      "C:\\Users\\Duy.TC214885\\AppData\\Local\\miniconda3\\lib\\site-packages\\h5py\\__init__.py:36: UserWarning: h5py is running against HDF5 1.12.2 when it was built against 1.12.1, this may cause problems\n",
      "  _warn((\"h5py is running against HDF5 {0} when it was built against {1}, \"\n"
     ]
    }
   ],
   "source": [
    "import numpy as np\n",
    "import matplotlib.pyplot as plt\n",
    "import tensorflow as tf"
   ]
  },
  {
   "cell_type": "code",
   "execution_count": 2,
   "metadata": {},
   "outputs": [
    {
     "name": "stdout",
     "output_type": "stream",
     "text": [
      "(403, 227, 227, 3)\n"
     ]
    }
   ],
   "source": [
    "cardboard = []\n",
    "for i in range(1,404):\n",
    "    temp = tf.keras.preprocessing.image.load_img(\n",
    "        path = \"dataset-resized/cardboard/cardboard\"+str(i)+\".jpg\",\n",
    "        grayscale=False, color_mode='rgb',target_size=(227,227))\n",
    "    X = np.array(temp)\n",
    "    cardboard.append(X)\n",
    "cardboard = np.array(cardboard)\n",
    "cardboard = np.take(cardboard,np.random.permutation(cardboard.shape[0]),axis=0)\n",
    "print(cardboard.shape)"
   ]
  },
  {
   "cell_type": "code",
   "execution_count": 3,
   "metadata": {},
   "outputs": [
    {
     "name": "stdout",
     "output_type": "stream",
     "text": [
      "(501, 227, 227, 3)\n"
     ]
    }
   ],
   "source": [
    "glass = []\n",
    "for i in range(1,502):\n",
    "    temp = tf.keras.preprocessing.image.load_img(\n",
    "        path = \"dataset-resized/glass/glass\"+str(i)+\".jpg\",\n",
    "        grayscale=False, color_mode='rgb',target_size=(227,227))\n",
    "    X = np.array(temp)\n",
    "    glass.append(X)\n",
    "glass = np.array(glass)\n",
    "glass = np.take(glass,np.random.permutation(glass.shape[0]),axis=0)\n",
    "print(glass.shape)"
   ]
  },
  {
   "cell_type": "code",
   "execution_count": 4,
   "metadata": {},
   "outputs": [
    {
     "name": "stdout",
     "output_type": "stream",
     "text": [
      "(410, 227, 227, 3)\n"
     ]
    }
   ],
   "source": [
    "metal = []\n",
    "for i in range(1,411):\n",
    "    temp = tf.keras.preprocessing.image.load_img(\n",
    "        path = \"dataset-resized/metal/metal\"+str(i)+\".jpg\",\n",
    "        grayscale=False, color_mode='rgb',target_size=(227,227))\n",
    "    X = np.array(temp)\n",
    "    metal.append(X)\n",
    "metal = np.array(metal)\n",
    "metal = np.take(metal,np.random.permutation(metal.shape[0]),axis=0)\n",
    "print(metal.shape)"
   ]
  },
  {
   "cell_type": "code",
   "execution_count": 5,
   "metadata": {},
   "outputs": [
    {
     "name": "stdout",
     "output_type": "stream",
     "text": [
      "(594, 227, 227, 3)\n"
     ]
    }
   ],
   "source": [
    "paper = []\n",
    "for i in range(1,595):\n",
    "    temp = tf.keras.preprocessing.image.load_img(\n",
    "        path = \"dataset-resized/paper/paper\"+str(i)+\".jpg\",\n",
    "        grayscale=False, color_mode='rgb',target_size=(227,227))\n",
    "    X = np.array(temp)\n",
    "    paper.append(X)\n",
    "paper = np.array(paper)\n",
    "paper = np.take(paper,np.random.permutation(paper.shape[0]),axis=0)\n",
    "print(paper.shape)"
   ]
  },
  {
   "cell_type": "code",
   "execution_count": 6,
   "metadata": {},
   "outputs": [
    {
     "name": "stdout",
     "output_type": "stream",
     "text": [
      "(482, 227, 227, 3)\n"
     ]
    }
   ],
   "source": [
    "plastic = []\n",
    "for i in range(1,483):\n",
    "    temp = tf.keras.preprocessing.image.load_img(\n",
    "        path = \"dataset-resized/plastic/plastic\"+str(i)+\".jpg\",\n",
    "        grayscale=False, color_mode='rgb',target_size=(227,227))\n",
    "    X = np.array(temp)\n",
    "    plastic.append(X)\n",
    "plastic = np.array(plastic)\n",
    "plastic = np.take(plastic,np.random.permutation(plastic.shape[0]),axis=0)\n",
    "print(plastic.shape)"
   ]
  },
  {
   "cell_type": "code",
   "execution_count": 7,
   "metadata": {},
   "outputs": [
    {
     "name": "stdout",
     "output_type": "stream",
     "text": [
      "(137, 227, 227, 3)\n"
     ]
    }
   ],
   "source": [
    "trash = []\n",
    "for i in range(1,138):\n",
    "    temp = tf.keras.preprocessing.image.load_img(\n",
    "        path = \"dataset-resized/trash/trash\"+str(i)+\".jpg\",\n",
    "        grayscale=False, color_mode='rgb',target_size=(227,227))\n",
    "    X = np.array(temp)\n",
    "    trash.append(X)\n",
    "trash = np.array(trash)\n",
    "trash = np.take(trash,np.random.permutation(trash.shape[0]),axis=0)\n",
    "print(trash.shape)"
   ]
  },
  {
   "cell_type": "code",
   "execution_count": 8,
   "metadata": {},
   "outputs": [],
   "source": [
    "train_X = np.vstack((cardboard[:302,:,:,:],glass[:376,:,:,:],metal[:307,:,:,:],\n",
    "                    paper[:445,:,:,:],plastic[:361,:,:,:],trash[:103,:,:,:]))\n",
    "test_X = np.vstack((cardboard[302:,:,:,:],glass[376:,:,:,:],metal[307:,:,:,:],\n",
    "                   paper[445:,:,:,:],plastic[361:,:,:,:],trash[103:,:,:,:]))\n",
    "train_Y = np.zeros((6,train_X.shape[0]))\n",
    "test_Y = np.zeros((6,test_X.shape[0]))\n",
    "for i in range(train_X.shape[0]):\n",
    "    if(i<302):\n",
    "        train_Y[0][i] = 1\n",
    "    elif(i<678):\n",
    "        train_Y[1][i] = 1\n",
    "    elif(i<985):\n",
    "        train_Y[2][i] = 1\n",
    "    elif(i<1430):\n",
    "        train_Y[3][i] = 1\n",
    "    elif(i<1791):\n",
    "        train_Y[4][i] = 1\n",
    "    else:\n",
    "        train_Y[5][i] = 1\n",
    "for i in range(test_X.shape[0]):\n",
    "    if(i<101):\n",
    "        test_Y[0][i] = 1\n",
    "    elif(i<226):\n",
    "        test_Y[1][i] = 1\n",
    "    elif(i<329):\n",
    "        test_Y[2][i] = 1\n",
    "    elif(i<478):\n",
    "        test_Y[3][i] = 1\n",
    "    elif(i<599):\n",
    "        test_Y[4][i] = 1\n",
    "    else:\n",
    "        test_Y[5][i] = 1"
   ]
  },
  {
   "cell_type": "code",
   "execution_count": 9,
   "metadata": {},
   "outputs": [
    {
     "data": {
      "text/plain": [
       "(1894, 227, 227, 3)"
      ]
     },
     "execution_count": 9,
     "metadata": {},
     "output_type": "execute_result"
    }
   ],
   "source": [
    "train_X_aug = []\n",
    "for i in range(train_X.shape[0]):\n",
    "    tt = np.random.uniform(low = 10,high = 180)\n",
    "    X1 = tf.keras.preprocessing.image.apply_affine_transform(train_X[i],theta = tt)\n",
    "    train_X_aug.append(X1)\n",
    "train_X_aug = np.array(train_X_aug)\n",
    "train_X_aug.shape"
   ]
  },
  {
   "cell_type": "code",
   "execution_count": 10,
   "metadata": {},
   "outputs": [
    {
     "name": "stdout",
     "output_type": "stream",
     "text": [
      "(3788, 227, 227, 3)\n",
      "(6, 3788)\n"
     ]
    }
   ],
   "source": [
    "train_X = np.vstack((train_X_aug,train_X))\n",
    "train_Y = np.vstack((train_Y.T,train_Y.T))\n",
    "train_Y = train_Y.T\n",
    "print(train_X.shape)\n",
    "print(train_Y.shape)"
   ]
  },
  {
   "cell_type": "code",
   "execution_count": 11,
   "metadata": {},
   "outputs": [
    {
     "name": "stdout",
     "output_type": "stream",
     "text": [
      "(3788, 227, 227, 3)\n",
      "(6, 3788)\n",
      "(633, 227, 227, 3)\n",
      "(6, 633)\n"
     ]
    }
   ],
   "source": [
    "np.random.seed(1013)\n",
    "train_perm = np.random.permutation(train_X.shape[0])\n",
    "train_X = np.take(train_X,train_perm,axis=0)\n",
    "print(train_X.shape)\n",
    "train_Y = np.take(train_Y,train_perm,axis=1)\n",
    "print(train_Y.shape)\n",
    "np.random.seed(901)\n",
    "test_perm = np.random.permutation(test_X.shape[0])\n",
    "test_X = np.take(test_X,test_perm,axis=0)\n",
    "print(test_X.shape)\n",
    "test_Y = np.take(test_Y,test_perm,axis=1)\n",
    "print(test_Y.shape)"
   ]
  },
  {
   "cell_type": "code",
   "execution_count": 12,
   "metadata": {},
   "outputs": [],
   "source": [
    "def AlexNet02(input_shape = (227, 227, 3), classes = 6):\n",
    "    X_input = tf.keras.Input(input_shape)\n",
    "\n",
    "    X = X_input\n",
    "    \n",
    "    X = tf.keras.layers.Conv2D(96, (11, 11), strides = (4, 4), activation = \"relu\", name = 'conv1')(X)\n",
    "    X = tf.keras.layers.MaxPooling2D((3, 3), strides=(2, 2))(X)\n",
    "    X = tf.keras.layers.BatchNormalization(axis = 3, name = 'bn_conv1')(X)\n",
    "\n",
    "    X = tf.keras.layers.Conv2D(256, (5, 5), padding = \"same\",activation = \"relu\", name = 'conv2')(X)\n",
    "    X = tf.keras.layers.MaxPooling2D((3, 3), strides=(2, 2))(X)\n",
    "    X = tf.keras.layers.BatchNormalization(axis = 3, name = 'bn_conv2')(X)\n",
    "    #X = tf.keras.layers.Conv2D(384, (3, 3), padding = \"same\",activation = \"relu\", name = 'conv3')(X)\n",
    "    #X = tf.keras.layers.Conv2D(384, (3, 3), padding = \"same\",activation = \"relu\", name = 'conv4')(X)\n",
    "    X = tf.keras.layers.Conv2D(256, (3, 3), padding = \"same\",activation = \"relu\", name = 'conv5')(X)\n",
    "    X = tf.keras.layers.MaxPooling2D((3, 3), strides=(2, 2))(X)\n",
    "    X = tf.keras.layers.Flatten()(X)\n",
    "    X = tf.keras.layers.Dense(4096, activation = \"relu\", name='fc' + str(1))(X)\n",
    "    X = tf.keras.layers.Dense(4096, activation = \"relu\", name='fc' + str(2))(X)\n",
    "    X = tf.keras.layers.Dense(classes, activation='softmax', name='fc' + str(classes))(X)\n",
    "    \n",
    "    model = tf.keras.Model(inputs = X_input, outputs = X, name='ALEXNET_Test1')\n",
    "\n",
    "    return model"
   ]
  },
  {
   "cell_type": "code",
   "execution_count": 13,
   "metadata": {},
   "outputs": [],
   "source": [
    "model = AlexNet02()\n",
    "model.compile(optimizer=tf.keras.optimizers.Adam(learning_rate=0.000005), loss='categorical_crossentropy', metrics=['accuracy'])"
   ]
  },
  {
   "cell_type": "code",
   "execution_count": 14,
   "metadata": {},
   "outputs": [
    {
     "name": "stdout",
     "output_type": "stream",
     "text": [
      "Epoch 1/40\n",
      "119/119 [==============================] - 71s 590ms/step - loss: 1.5810 - accuracy: 0.3654\n",
      "Epoch 2/40\n",
      "119/119 [==============================] - 72s 603ms/step - loss: 1.2910 - accuracy: 0.4942\n",
      "Epoch 3/40\n",
      "119/119 [==============================] - 73s 617ms/step - loss: 1.1738 - accuracy: 0.5462\n",
      "Epoch 4/40\n",
      "119/119 [==============================] - 73s 614ms/step - loss: 1.0709 - accuracy: 0.6051\n",
      "Epoch 5/40\n",
      "119/119 [==============================] - 73s 610ms/step - loss: 0.9797 - accuracy: 0.6505\n",
      "Epoch 6/40\n",
      "119/119 [==============================] - 73s 612ms/step - loss: 0.9169 - accuracy: 0.6748\n",
      "Epoch 7/40\n",
      "119/119 [==============================] - 72s 608ms/step - loss: 0.8630 - accuracy: 0.7009\n",
      "Epoch 8/40\n",
      "119/119 [==============================] - 73s 617ms/step - loss: 0.8000 - accuracy: 0.7233\n",
      "Epoch 9/40\n",
      "119/119 [==============================] - 71s 600ms/step - loss: 0.7621 - accuracy: 0.7479\n",
      "Epoch 10/40\n",
      "119/119 [==============================] - 71s 600ms/step - loss: 0.7148 - accuracy: 0.7640\n",
      "Epoch 11/40\n",
      "119/119 [==============================] - 72s 607ms/step - loss: 0.6795 - accuracy: 0.7730\n",
      "Epoch 12/40\n",
      "119/119 [==============================] - 71s 600ms/step - loss: 0.6493 - accuracy: 0.7819\n",
      "Epoch 13/40\n",
      "119/119 [==============================] - 71s 601ms/step - loss: 0.6171 - accuracy: 0.7928\n",
      "Epoch 14/40\n",
      "119/119 [==============================] - 73s 614ms/step - loss: 0.5959 - accuracy: 0.8031\n",
      "Epoch 15/40\n",
      "119/119 [==============================] - 74s 617ms/step - loss: 0.5773 - accuracy: 0.8062\n",
      "Epoch 16/40\n",
      "119/119 [==============================] - 74s 619ms/step - loss: 0.5474 - accuracy: 0.8144\n",
      "Epoch 17/40\n",
      "119/119 [==============================] - 74s 621ms/step - loss: 0.5349 - accuracy: 0.8221\n",
      "Epoch 18/40\n",
      "119/119 [==============================] - 74s 619ms/step - loss: 0.5198 - accuracy: 0.8184\n",
      "Epoch 19/40\n",
      "119/119 [==============================] - 73s 612ms/step - loss: 0.4969 - accuracy: 0.8281\n",
      "Epoch 20/40\n",
      "119/119 [==============================] - 71s 596ms/step - loss: 0.4807 - accuracy: 0.8337\n",
      "Epoch 21/40\n",
      "119/119 [==============================] - 71s 594ms/step - loss: 0.4711 - accuracy: 0.8390\n",
      "Epoch 22/40\n",
      "119/119 [==============================] - 74s 623ms/step - loss: 0.4512 - accuracy: 0.8424\n",
      "Epoch 23/40\n",
      "119/119 [==============================] - 73s 611ms/step - loss: 0.4420 - accuracy: 0.8421\n",
      "Epoch 24/40\n",
      "119/119 [==============================] - 72s 608ms/step - loss: 0.4316 - accuracy: 0.8471\n",
      "Epoch 25/40\n",
      "119/119 [==============================] - 73s 611ms/step - loss: 0.4215 - accuracy: 0.8514\n",
      "Epoch 26/40\n",
      "119/119 [==============================] - 71s 594ms/step - loss: 0.4241 - accuracy: 0.8471\n",
      "Epoch 27/40\n",
      "119/119 [==============================] - 70s 590ms/step - loss: 0.4126 - accuracy: 0.8572\n",
      "Epoch 28/40\n",
      "119/119 [==============================] - 71s 594ms/step - loss: 0.4013 - accuracy: 0.8556\n",
      "Epoch 29/40\n",
      "119/119 [==============================] - 70s 589ms/step - loss: 0.3938 - accuracy: 0.8617\n",
      "Epoch 30/40\n",
      "119/119 [==============================] - 70s 589ms/step - loss: 0.3936 - accuracy: 0.8633\n",
      "Epoch 31/40\n",
      "119/119 [==============================] - 70s 590ms/step - loss: 0.3741 - accuracy: 0.8672\n",
      "Epoch 32/40\n",
      "119/119 [==============================] - 71s 595ms/step - loss: 0.3729 - accuracy: 0.8643\n",
      "Epoch 33/40\n",
      "119/119 [==============================] - 71s 594ms/step - loss: 0.3630 - accuracy: 0.8706\n",
      "Epoch 34/40\n",
      "119/119 [==============================] - 71s 594ms/step - loss: 0.3658 - accuracy: 0.8712\n",
      "Epoch 35/40\n",
      "119/119 [==============================] - 72s 602ms/step - loss: 0.3641 - accuracy: 0.8654\n",
      "Epoch 36/40\n",
      "119/119 [==============================] - 72s 606ms/step - loss: 0.3640 - accuracy: 0.8693\n",
      "Epoch 37/40\n",
      "119/119 [==============================] - 73s 610ms/step - loss: 0.3451 - accuracy: 0.8788\n",
      "Epoch 38/40\n",
      "119/119 [==============================] - 71s 594ms/step - loss: 0.3458 - accuracy: 0.8709\n",
      "Epoch 39/40\n",
      "119/119 [==============================] - 70s 590ms/step - loss: 0.3298 - accuracy: 0.8815\n",
      "Epoch 40/40\n",
      "119/119 [==============================] - 72s 603ms/step - loss: 0.3341 - accuracy: 0.8807\n"
     ]
    }
   ],
   "source": [
    "history = model.fit(train_X, train_Y.T, epochs = 40, batch_size = 32)"
   ]
  },
  {
   "cell_type": "code",
   "execution_count": 15,
   "metadata": {},
   "outputs": [
    {
     "data": {
      "image/png": "[encoded data removed]",
      "text/plain": [
       "<Figure size 640x480 with 1 Axes>"
      ]
     },
     "metadata": {},
     "output_type": "display_data"
    }
   ],
   "source": [
    "plt.plot(history.history[\"accuracy\"])\n",
    "plt.show()"
   ]
  },
  {
   "cell_type": "code",
   "execution_count": 16,
   "metadata": {},
   "outputs": [
    {
     "name": "stdout",
     "output_type": "stream",
     "text": [
      "20/20 [==============================] - 2s 94ms/step - loss: 1.0278 - accuracy: 0.7188\n",
      "Loss = 1.0278186798095703\n",
      "Test Accuracy = 0.718799352645874\n"
     ]
    }
   ],
   "source": [
    "preds = model.evaluate(test_X, test_Y.T)\n",
    "print (\"Loss = \" + str(preds[0]))\n",
    "print (\"Test Accuracy = \" + str(preds[1]))"
   ]
  },
  {
   "cell_type": "code",
   "execution_count": 17,
   "metadata": {},
   "outputs": [
    {
     "name": "stdout",
     "output_type": "stream",
     "text": [
      "Model: \"ALEXNET_Test1\"\n",
      "_________________________________________________________________\n",
      " Layer (type)                Output Shape              Param #   \n",
      "=================================================================\n",
      " input_1 (InputLayer)        [(None, 227, 227, 3)]     0         \n",
      "                                                                 \n",
      " conv1 (Conv2D)              (None, 55, 55, 96)        34944     \n",
      "                                                                 \n",
      " max_pooling2d (MaxPooling2  (None, 27, 27, 96)        0         \n",
      " D)                                                              \n",
      "                                                                 \n",
      " bn_conv1 (BatchNormalizati  (None, 27, 27, 96)        384       \n",
      " on)                                                             \n",
      "                                                                 \n",
      " conv2 (Conv2D)              (None, 27, 27, 256)       614656    \n",
      "                                                                 \n",
      " max_pooling2d_1 (MaxPoolin  (None, 13, 13, 256)       0         \n",
      " g2D)                                                            \n",
      "                                                                 \n",
      " bn_conv2 (BatchNormalizati  (None, 13, 13, 256)       1024      \n",
      " on)                                                             \n",
      "                                                                 \n",
      " conv5 (Conv2D)              (None, 13, 13, 256)       590080    \n",
      "                                                                 \n",
      " max_pooling2d_2 (MaxPoolin  (None, 6, 6, 256)         0         \n",
      " g2D)                                                            \n",
      "                                                                 \n",
      " flatten (Flatten)           (None, 9216)              0         \n",
      "                                                                 \n",
      " fc1 (Dense)                 (None, 4096)              37752832  \n",
      "                                                                 \n",
      " fc2 (Dense)                 (None, 4096)              16781312  \n",
      "                                                                 \n",
      " fc6 (Dense)                 (None, 6)                 24582     \n",
      "                                                                 \n",
      "=================================================================\n",
      "Total params: 55799814 (212.86 MB)\n",
      "Trainable params: 55799110 (212.86 MB)\n",
      "Non-trainable params: 704 (2.75 KB)\n",
      "_________________________________________________________________\n"
     ]
    }
   ],
   "source": [
    "model.summary()"
   ]
  }
 ],
 "metadata": {
  "kernelspec": {
   "display_name": "Python 3 (ipykernel)",
   "language": "python",
   "name": "python3"
  },
  "language_info": {
   "codemirror_mode": {
    "name": "ipython",
    "version": 3
   },
   "file_extension": ".py",
   "mimetype": "text/x-python",
   "name": "python",
   "nbconvert_exporter": "python",
   "pygments_lexer": "ipython3",
   "version": "3.11.5"
  }
 },
 "nbformat": 4,
 "nbformat_minor": 4
}
