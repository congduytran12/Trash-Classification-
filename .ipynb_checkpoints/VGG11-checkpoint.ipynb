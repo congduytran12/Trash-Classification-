{
 "cells": [
  {
   "cell_type": "code",
   "execution_count": 1,
   "metadata": {},
   "outputs": [
    {
     "name": "stderr",
     "output_type": "stream",
     "text": [
      "C:\\Users\\Duy.TC214885\\AppData\\Local\\miniconda3\\lib\\site-packages\\h5py\\__init__.py:36: UserWarning: h5py is running against HDF5 1.12.2 when it was built against 1.12.1, this may cause problems\n",
      "  _warn((\"h5py is running against HDF5 {0} when it was built against {1}, \"\n"
     ]
    }
   ],
   "source": [
    "import numpy as np\n",
    "from PIL import Image\n",
    "import matplotlib.pyplot as plt\n",
    "import tensorflow as tf"
   ]
  },
  {
   "cell_type": "code",
   "execution_count": 2,
   "metadata": {},
   "outputs": [
    {
     "name": "stdout",
     "output_type": "stream",
     "text": [
      "(403, 224, 224, 3)\n"
     ]
    }
   ],
   "source": [
    "cardboard = []\n",
    "for i in range(1,404):\n",
    "    temp = tf.keras.preprocessing.image.load_img(\n",
    "        path = \"dataset-resized/cardboard/cardboard\"+str(i)+\".jpg\",\n",
    "        grayscale=False, color_mode='rgb',target_size=(224,224))\n",
    "    X = np.array(temp)\n",
    "    cardboard.append(X)\n",
    "cardboard = np.array(cardboard)\n",
    "cardboard = np.take(cardboard,np.random.permutation(cardboard.shape[0]),axis=0)\n",
    "print(cardboard.shape)"
   ]
  },
  {
   "cell_type": "code",
   "execution_count": 3,
   "metadata": {},
   "outputs": [
    {
     "name": "stdout",
     "output_type": "stream",
     "text": [
      "(501, 224, 224, 3)\n"
     ]
    }
   ],
   "source": [
    "glass = []\n",
    "for i in range(1,502):\n",
    "    temp = tf.keras.preprocessing.image.load_img(\n",
    "        path = \"dataset-resized/glass/glass\"+str(i)+\".jpg\",\n",
    "        grayscale=False, color_mode='rgb',target_size=(224,224))\n",
    "    X = np.array(temp)\n",
    "    glass.append(X)\n",
    "glass = np.array(glass)\n",
    "glass = np.take(glass,np.random.permutation(glass.shape[0]),axis=0)\n",
    "print(glass.shape)"
   ]
  },
  {
   "cell_type": "code",
   "execution_count": 4,
   "metadata": {},
   "outputs": [
    {
     "name": "stdout",
     "output_type": "stream",
     "text": [
      "(410, 224, 224, 3)\n"
     ]
    }
   ],
   "source": [
    "metal = []\n",
    "for i in range(1,411):\n",
    "    temp = tf.keras.preprocessing.image.load_img(\n",
    "        path = \"dataset-resized/metal/metal\"+str(i)+\".jpg\",\n",
    "        grayscale=False, color_mode='rgb',target_size=(224,224))\n",
    "    X = np.array(temp)\n",
    "    metal.append(X)\n",
    "metal = np.array(metal)\n",
    "metal = np.take(metal,np.random.permutation(metal.shape[0]),axis=0)\n",
    "print(metal.shape)"
   ]
  },
  {
   "cell_type": "code",
   "execution_count": 5,
   "metadata": {},
   "outputs": [
    {
     "name": "stdout",
     "output_type": "stream",
     "text": [
      "(594, 224, 224, 3)\n"
     ]
    }
   ],
   "source": [
    "paper = []\n",
    "for i in range(1,595):\n",
    "    temp = tf.keras.preprocessing.image.load_img(\n",
    "        path = \"dataset-resized/paper/paper\"+str(i)+\".jpg\",\n",
    "        grayscale=False, color_mode='rgb',target_size=(224,224))\n",
    "    X = np.array(temp)\n",
    "    paper.append(X)\n",
    "paper = np.array(paper)\n",
    "paper = np.take(paper,np.random.permutation(paper.shape[0]),axis=0)\n",
    "print(paper.shape)"
   ]
  },
  {
   "cell_type": "code",
   "execution_count": 6,
   "metadata": {},
   "outputs": [
    {
     "name": "stdout",
     "output_type": "stream",
     "text": [
      "(482, 224, 224, 3)\n"
     ]
    }
   ],
   "source": [
    "plastic = []\n",
    "for i in range(1,483):\n",
    "    temp = tf.keras.preprocessing.image.load_img(\n",
    "        path = \"dataset-resized/plastic/plastic\"+str(i)+\".jpg\",\n",
    "        grayscale=False, color_mode='rgb',target_size=(224,224))\n",
    "    X = np.array(temp)\n",
    "    plastic.append(X)\n",
    "plastic = np.array(plastic)\n",
    "plastic = np.take(plastic,np.random.permutation(plastic.shape[0]),axis=0)\n",
    "print(plastic.shape)"
   ]
  },
  {
   "cell_type": "code",
   "execution_count": 7,
   "metadata": {},
   "outputs": [
    {
     "name": "stdout",
     "output_type": "stream",
     "text": [
      "(137, 224, 224, 3)\n"
     ]
    }
   ],
   "source": [
    "trash = []\n",
    "for i in range(1,138):\n",
    "    temp = tf.keras.preprocessing.image.load_img(\n",
    "        path = \"dataset-resized/trash/trash\"+str(i)+\".jpg\",\n",
    "        grayscale=False, color_mode='rgb',target_size=(224,224))\n",
    "    X = np.array(temp)\n",
    "    trash.append(X)\n",
    "trash = np.array(trash)\n",
    "trash = np.take(trash,np.random.permutation(trash.shape[0]),axis=0)\n",
    "print(trash.shape)"
   ]
  },
  {
   "cell_type": "code",
   "execution_count": 8,
   "metadata": {},
   "outputs": [],
   "source": [
    "train_X = np.vstack((cardboard[:302,:,:,:],glass[:376,:,:,:],metal[:307,:,:,:],\n",
    "                    paper[:445,:,:,:],plastic[:361,:,:,:],trash[:103,:,:,:]))\n",
    "test_X = np.vstack((cardboard[302:,:,:,:],glass[376:,:,:,:],metal[307:,:,:,:],\n",
    "                   paper[445:,:,:,:],plastic[361:,:,:,:],trash[103:,:,:,:]))\n",
    "train_Y = np.zeros((6,train_X.shape[0]))\n",
    "test_Y = np.zeros((6,test_X.shape[0]))\n",
    "for i in range(train_X.shape[0]):\n",
    "    if(i<302):\n",
    "        train_Y[0][i] = 1\n",
    "    elif(i<678):\n",
    "        train_Y[1][i] = 1\n",
    "    elif(i<985):\n",
    "        train_Y[2][i] = 1\n",
    "    elif(i<1430):\n",
    "        train_Y[3][i] = 1\n",
    "    elif(i<1791):\n",
    "        train_Y[4][i] = 1\n",
    "    else:\n",
    "        train_Y[5][i] = 1\n",
    "for i in range(test_X.shape[0]):\n",
    "    if(i<101):\n",
    "        test_Y[0][i] = 1\n",
    "    elif(i<226):\n",
    "        test_Y[1][i] = 1\n",
    "    elif(i<329):\n",
    "        test_Y[2][i] = 1\n",
    "    elif(i<478):\n",
    "        test_Y[3][i] = 1\n",
    "    elif(i<599):\n",
    "        test_Y[4][i] = 1\n",
    "    else:\n",
    "        test_Y[5][i] = 1"
   ]
  },
  {
   "cell_type": "code",
   "execution_count": 9,
   "metadata": {},
   "outputs": [
    {
     "name": "stdout",
     "output_type": "stream",
     "text": [
      "(1894, 224, 224, 3)\n",
      "(6, 1894)\n",
      "(633, 224, 224, 3)\n",
      "(6, 633)\n"
     ]
    }
   ],
   "source": [
    "np.random.seed(1013)\n",
    "train_perm = np.random.permutation(train_X.shape[0])\n",
    "train_X = np.take(train_X,train_perm,axis=0)\n",
    "print(train_X.shape)\n",
    "train_Y = np.take(train_Y,train_perm,axis=1)\n",
    "print(train_Y.shape)\n",
    "np.random.seed(901)\n",
    "test_perm = np.random.permutation(test_X.shape[0])\n",
    "test_X = np.take(test_X,test_perm,axis=0)\n",
    "print(test_X.shape)\n",
    "test_Y = np.take(test_Y,test_perm,axis=1)\n",
    "print(test_Y.shape)"
   ]
  },
  {
   "cell_type": "code",
   "execution_count": 10,
   "metadata": {},
   "outputs": [],
   "source": [
    "def VGG11(input_shape = (224, 224, 3), classes = 6):\n",
    "    X_input = tf.keras.layers.Input(input_shape)\n",
    "    \n",
    "    X = tf.keras.layers.Conv2D(filters=64,kernel_size=(3,3),padding=\"same\",activation=\"relu\")(X_input)\n",
    "    X = tf.keras.layers.MaxPool2D(pool_size=(2,2),strides=(2,2))(X)\n",
    "    \n",
    "    X = tf.keras.layers.Conv2D(filters=128, kernel_size=(3,3), padding=\"same\", activation=\"relu\")(X)\n",
    "    X = tf.keras.layers.MaxPool2D(pool_size=(2,2),strides=(2,2))(X)\n",
    "    \n",
    "    X = tf.keras.layers.Conv2D(filters=256, kernel_size=(3,3), padding=\"same\", activation=\"relu\")(X)\n",
    "    X = tf.keras.layers.Conv2D(filters=256, kernel_size=(3,3), padding=\"same\", activation=\"relu\")(X)\n",
    "    X = tf.keras.layers.MaxPool2D(pool_size=(2,2),strides=(2,2))(X)\n",
    "    \n",
    "    X = tf.keras.layers.Conv2D(filters=512, kernel_size=(3,3), padding=\"same\", activation=\"relu\")(X)\n",
    "    X = tf.keras.layers.Conv2D(filters=512, kernel_size=(3,3), padding=\"same\", activation=\"relu\")(X)\n",
    "    X = tf.keras.layers.MaxPool2D(pool_size=(2,2),strides=(2,2))(X)\n",
    "    \n",
    "    X = tf.keras.layers.Conv2D(filters=512, kernel_size=(3,3), padding=\"same\", activation=\"relu\")(X)\n",
    "    X = tf.keras.layers.Conv2D(filters=512, kernel_size=(3,3), padding=\"same\", activation=\"relu\")(X)\n",
    "    X = tf.keras.layers.MaxPool2D(pool_size=(2,2),strides=(2,2))(X)\n",
    "\n",
    "    X = tf.keras.layers.Flatten()(X)\n",
    "    X = tf.keras.layers.Dense(units=4096,activation=\"relu\")(X)\n",
    "    X = tf.keras.layers.Dense(units=4096,activation=\"relu\")(X)\n",
    "    \n",
    "    X = tf.keras.layers.Dense(classes, activation=\"softmax\")(X)\n",
    "    \n",
    "    model = tf.keras.Model(inputs = X_input, outputs = X, name='VGG11')\n",
    "\n",
    "    return model"
   ]
  },
  {
   "cell_type": "code",
   "execution_count": 11,
   "metadata": {},
   "outputs": [],
   "source": [
    "model = VGG11()\n",
    "model.compile(optimizer='adam', loss='categorical_crossentropy', metrics=['accuracy'])"
   ]
  },
  {
   "cell_type": "code",
   "execution_count": 12,
   "metadata": {},
   "outputs": [
    {
     "name": "stdout",
     "output_type": "stream",
     "text": [
      "Epoch 1/40\n",
      "60/60 [==============================] - 408s 7s/step - loss: 42.6161 - accuracy: 0.2006\n",
      "Epoch 2/40\n",
      "60/60 [==============================] - 402s 7s/step - loss: 1.7326 - accuracy: 0.2276\n",
      "Epoch 3/40\n",
      "60/60 [==============================] - 413s 7s/step - loss: 1.7240 - accuracy: 0.2302\n",
      "Epoch 4/40\n",
      "60/60 [==============================] - 325s 5s/step - loss: 1.7273 - accuracy: 0.2223\n",
      "Epoch 5/40\n",
      "60/60 [==============================] - 224s 4s/step - loss: 1.7266 - accuracy: 0.2350\n",
      "Epoch 6/40\n",
      "60/60 [==============================] - 224s 4s/step - loss: 1.7253 - accuracy: 0.2350\n",
      "Epoch 7/40\n",
      "60/60 [==============================] - 235s 4s/step - loss: 1.7257 - accuracy: 0.2350\n",
      "Epoch 8/40\n",
      "60/60 [==============================] - 235s 4s/step - loss: 1.7263 - accuracy: 0.2350\n",
      "Epoch 9/40\n",
      "60/60 [==============================] - 236s 4s/step - loss: 1.7279 - accuracy: 0.2350\n",
      "Epoch 10/40\n",
      "60/60 [==============================] - 234s 4s/step - loss: 1.7253 - accuracy: 0.2350\n",
      "Epoch 11/40\n",
      "60/60 [==============================] - 230s 4s/step - loss: 1.7261 - accuracy: 0.2350\n",
      "Epoch 12/40\n",
      "60/60 [==============================] - 237s 4s/step - loss: 1.7259 - accuracy: 0.2350\n",
      "Epoch 13/40\n",
      "60/60 [==============================] - 230s 4s/step - loss: 1.7254 - accuracy: 0.2350\n",
      "Epoch 14/40\n",
      "60/60 [==============================] - 230s 4s/step - loss: 1.7248 - accuracy: 0.2350\n",
      "Epoch 15/40\n",
      "60/60 [==============================] - 226s 4s/step - loss: 1.7256 - accuracy: 0.2350\n",
      "Epoch 16/40\n",
      "60/60 [==============================] - 225s 4s/step - loss: 1.7254 - accuracy: 0.2350\n",
      "Epoch 17/40\n",
      "60/60 [==============================] - 225s 4s/step - loss: 1.7251 - accuracy: 0.2350\n",
      "Epoch 18/40\n",
      "60/60 [==============================] - 225s 4s/step - loss: 1.7250 - accuracy: 0.2350\n",
      "Epoch 19/40\n",
      "60/60 [==============================] - 225s 4s/step - loss: 1.7255 - accuracy: 0.2350\n",
      "Epoch 20/40\n",
      "60/60 [==============================] - 225s 4s/step - loss: 1.7249 - accuracy: 0.2350\n",
      "Epoch 21/40\n",
      "60/60 [==============================] - 225s 4s/step - loss: 1.7251 - accuracy: 0.2350\n",
      "Epoch 22/40\n",
      "60/60 [==============================] - 225s 4s/step - loss: 1.7253 - accuracy: 0.2350\n",
      "Epoch 23/40\n",
      "60/60 [==============================] - 225s 4s/step - loss: 1.7252 - accuracy: 0.2350\n",
      "Epoch 24/40\n",
      "60/60 [==============================] - 225s 4s/step - loss: 1.7251 - accuracy: 0.2350\n",
      "Epoch 25/40\n",
      "60/60 [==============================] - 225s 4s/step - loss: 1.7251 - accuracy: 0.2350\n",
      "Epoch 26/40\n",
      "60/60 [==============================] - 224s 4s/step - loss: 1.7245 - accuracy: 0.2350\n",
      "Epoch 27/40\n",
      "60/60 [==============================] - 225s 4s/step - loss: 1.7250 - accuracy: 0.2350\n",
      "Epoch 28/40\n",
      "60/60 [==============================] - 225s 4s/step - loss: 1.7250 - accuracy: 0.2350\n",
      "Epoch 29/40\n",
      "60/60 [==============================] - 224s 4s/step - loss: 1.7247 - accuracy: 0.2350\n",
      "Epoch 30/40\n",
      "60/60 [==============================] - 225s 4s/step - loss: 1.7250 - accuracy: 0.2350\n",
      "Epoch 31/40\n",
      "60/60 [==============================] - 225s 4s/step - loss: 1.7245 - accuracy: 0.2350\n",
      "Epoch 32/40\n",
      "60/60 [==============================] - 225s 4s/step - loss: 1.7245 - accuracy: 0.2350\n",
      "Epoch 33/40\n",
      "60/60 [==============================] - 225s 4s/step - loss: 1.7249 - accuracy: 0.2350\n",
      "Epoch 34/40\n",
      "60/60 [==============================] - 225s 4s/step - loss: 1.7245 - accuracy: 0.2350\n",
      "Epoch 35/40\n",
      "60/60 [==============================] - 225s 4s/step - loss: 1.7246 - accuracy: 0.2350\n",
      "Epoch 36/40\n",
      "60/60 [==============================] - 225s 4s/step - loss: 1.7245 - accuracy: 0.2350\n",
      "Epoch 37/40\n",
      "60/60 [==============================] - 224s 4s/step - loss: 1.7241 - accuracy: 0.2350\n",
      "Epoch 38/40\n",
      "60/60 [==============================] - 224s 4s/step - loss: 1.7253 - accuracy: 0.2350\n",
      "Epoch 39/40\n",
      "60/60 [==============================] - 225s 4s/step - loss: 1.7243 - accuracy: 0.2350\n",
      "Epoch 40/40\n",
      "60/60 [==============================] - 224s 4s/step - loss: 1.7244 - accuracy: 0.2350\n"
     ]
    }
   ],
   "source": [
    "history = model.fit(train_X, train_Y.T, epochs = 40, batch_size = 32)"
   ]
  },
  {
   "cell_type": "code",
   "execution_count": 13,
   "metadata": {},
   "outputs": [
    {
     "data": {
      "image/png": "[encoded data removed]",
      "text/plain": [
       "<Figure size 640x480 with 1 Axes>"
      ]
     },
     "metadata": {},
     "output_type": "display_data"
    }
   ],
   "source": [
    "plt.plot(history.history[\"accuracy\"])\n",
    "plt.show()"
   ]
  },
  {
   "cell_type": "code",
   "execution_count": 14,
   "metadata": {},
   "outputs": [
    {
     "name": "stdout",
     "output_type": "stream",
     "text": [
      "20/20 [==============================] - 18s 878ms/step - loss: 1.7227 - accuracy: 0.2354\n",
      "Loss = 1.7226574420928955\n",
      "Test Accuracy = 0.23538704216480255\n"
     ]
    }
   ],
   "source": [
    "preds = model.evaluate(test_X, test_Y.T)\n",
    "print (\"Loss = \" + str(preds[0]))\n",
    "print (\"Test Accuracy = \" + str(preds[1]))"
   ]
  },
  {
   "cell_type": "code",
   "execution_count": 15,
   "metadata": {},
   "outputs": [
    {
     "name": "stdout",
     "output_type": "stream",
     "text": [
      "Model: \"VGG11\"\n",
      "_________________________________________________________________\n",
      " Layer (type)                Output Shape              Param #   \n",
      "=================================================================\n",
      " input_1 (InputLayer)        [(None, 224, 224, 3)]     0         \n",
      "                                                                 \n",
      " conv2d (Conv2D)             (None, 224, 224, 64)      1792      \n",
      "                                                                 \n",
      " max_pooling2d (MaxPooling2  (None, 112, 112, 64)      0         \n",
      " D)                                                              \n",
      "                                                                 \n",
      " conv2d_1 (Conv2D)           (None, 112, 112, 128)     73856     \n",
      "                                                                 \n",
      " max_pooling2d_1 (MaxPoolin  (None, 56, 56, 128)       0         \n",
      " g2D)                                                            \n",
      "                                                                 \n",
      " conv2d_2 (Conv2D)           (None, 56, 56, 256)       295168    \n",
      "                                                                 \n",
      " conv2d_3 (Conv2D)           (None, 56, 56, 256)       590080    \n",
      "                                                                 \n",
      " max_pooling2d_2 (MaxPoolin  (None, 28, 28, 256)       0         \n",
      " g2D)                                                            \n",
      "                                                                 \n",
      " conv2d_4 (Conv2D)           (None, 28, 28, 512)       1180160   \n",
      "                                                                 \n",
      " conv2d_5 (Conv2D)           (None, 28, 28, 512)       2359808   \n",
      "                                                                 \n",
      " max_pooling2d_3 (MaxPoolin  (None, 14, 14, 512)       0         \n",
      " g2D)                                                            \n",
      "                                                                 \n",
      " conv2d_6 (Conv2D)           (None, 14, 14, 512)       2359808   \n",
      "                                                                 \n",
      " conv2d_7 (Conv2D)           (None, 14, 14, 512)       2359808   \n",
      "                                                                 \n",
      " max_pooling2d_4 (MaxPoolin  (None, 7, 7, 512)         0         \n",
      " g2D)                                                            \n",
      "                                                                 \n",
      " flatten (Flatten)           (None, 25088)             0         \n",
      "                                                                 \n",
      " dense (Dense)               (None, 4096)              102764544 \n",
      "                                                                 \n",
      " dense_1 (Dense)             (None, 4096)              16781312  \n",
      "                                                                 \n",
      " dense_2 (Dense)             (None, 6)                 24582     \n",
      "                                                                 \n",
      "=================================================================\n",
      "Total params: 128790918 (491.30 MB)\n",
      "Trainable params: 128790918 (491.30 MB)\n",
      "Non-trainable params: 0 (0.00 Byte)\n",
      "_________________________________________________________________\n"
     ]
    }
   ],
   "source": [
    "model.summary()"
   ]
  }
 ],
 "metadata": {
  "kernelspec": {
   "display_name": "Python 3 (ipykernel)",
   "language": "python",
   "name": "python3"
  },
  "language_info": {
   "codemirror_mode": {
    "name": "ipython",
    "version": 3
   },
   "file_extension": ".py",
   "mimetype": "text/x-python",
   "name": "python",
   "nbconvert_exporter": "python",
   "pygments_lexer": "ipython3",
   "version": "3.11.5"
  }
 },
 "nbformat": 4,
 "nbformat_minor": 4
}
