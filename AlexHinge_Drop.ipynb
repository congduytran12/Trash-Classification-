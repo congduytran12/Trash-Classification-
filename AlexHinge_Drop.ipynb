{
 "cells": [
  {
   "cell_type": "code",
   "execution_count": 1,
   "metadata": {},
   "outputs": [
    {
     "name": "stderr",
     "output_type": "stream",
     "text": [
      "C:\\Users\\Duy.TC214885\\AppData\\Local\\miniconda3\\lib\\site-packages\\h5py\\__init__.py:36: UserWarning: h5py is running against HDF5 1.12.2 when it was built against 1.12.1, this may cause problems\n",
      "  _warn((\"h5py is running against HDF5 {0} when it was built against {1}, \"\n"
     ]
    }
   ],
   "source": [
    "import numpy as np\n",
    "import matplotlib.pyplot as plt\n",
    "import tensorflow as tf"
   ]
  },
  {
   "cell_type": "code",
   "execution_count": 2,
   "metadata": {},
   "outputs": [
    {
     "name": "stdout",
     "output_type": "stream",
     "text": [
      "(403, 227, 227, 3)\n"
     ]
    }
   ],
   "source": [
    "cardboard = []\n",
    "for i in range(1,404):\n",
    "    temp = tf.keras.preprocessing.image.load_img(\n",
    "        path = \"dataset-resized/cardboard/cardboard\"+str(i)+\".jpg\",\n",
    "        grayscale=False, color_mode='rgb',target_size=(227,227))\n",
    "    X = np.array(temp)\n",
    "    cardboard.append(X)\n",
    "cardboard = np.array(cardboard)\n",
    "cardboard = np.take(cardboard,np.random.permutation(cardboard.shape[0]),axis=0)\n",
    "print(cardboard.shape)"
   ]
  },
  {
   "cell_type": "code",
   "execution_count": 3,
   "metadata": {},
   "outputs": [
    {
     "name": "stdout",
     "output_type": "stream",
     "text": [
      "(501, 227, 227, 3)\n"
     ]
    }
   ],
   "source": [
    "glass = []\n",
    "for i in range(1,502):\n",
    "    temp = tf.keras.preprocessing.image.load_img(\n",
    "        path = \"dataset-resized/glass/glass\"+str(i)+\".jpg\",\n",
    "        grayscale=False, color_mode='rgb',target_size=(227,227))\n",
    "    X = np.array(temp)\n",
    "    glass.append(X)\n",
    "glass = np.array(glass)\n",
    "glass = np.take(glass,np.random.permutation(glass.shape[0]),axis=0)\n",
    "print(glass.shape)"
   ]
  },
  {
   "cell_type": "code",
   "execution_count": 4,
   "metadata": {},
   "outputs": [
    {
     "name": "stdout",
     "output_type": "stream",
     "text": [
      "(410, 227, 227, 3)\n"
     ]
    }
   ],
   "source": [
    "metal = []\n",
    "for i in range(1,411):\n",
    "    temp = tf.keras.preprocessing.image.load_img(\n",
    "        path = \"dataset-resized/metal/metal\"+str(i)+\".jpg\",\n",
    "        grayscale=False, color_mode='rgb',target_size=(227,227))\n",
    "    X = np.array(temp)\n",
    "    metal.append(X)\n",
    "metal = np.array(metal)\n",
    "metal = np.take(metal,np.random.permutation(metal.shape[0]),axis=0)\n",
    "print(metal.shape)"
   ]
  },
  {
   "cell_type": "code",
   "execution_count": 5,
   "metadata": {},
   "outputs": [
    {
     "name": "stdout",
     "output_type": "stream",
     "text": [
      "(594, 227, 227, 3)\n"
     ]
    }
   ],
   "source": [
    "paper = []\n",
    "for i in range(1,595):\n",
    "    temp = tf.keras.preprocessing.image.load_img(\n",
    "        path = \"dataset-resized/paper/paper\"+str(i)+\".jpg\",\n",
    "        grayscale=False, color_mode='rgb',target_size=(227,227))\n",
    "    X = np.array(temp)\n",
    "    paper.append(X)\n",
    "paper = np.array(paper)\n",
    "paper = np.take(paper,np.random.permutation(paper.shape[0]),axis=0)\n",
    "print(paper.shape)"
   ]
  },
  {
   "cell_type": "code",
   "execution_count": 6,
   "metadata": {},
   "outputs": [
    {
     "name": "stdout",
     "output_type": "stream",
     "text": [
      "(482, 227, 227, 3)\n"
     ]
    }
   ],
   "source": [
    "plastic = []\n",
    "for i in range(1,483):\n",
    "    temp = tf.keras.preprocessing.image.load_img(\n",
    "        path = \"dataset-resized/plastic/plastic\"+str(i)+\".jpg\",\n",
    "        grayscale=False, color_mode='rgb',target_size=(227,227))\n",
    "    X = np.array(temp)\n",
    "    plastic.append(X)\n",
    "plastic = np.array(plastic)\n",
    "plastic = np.take(plastic,np.random.permutation(plastic.shape[0]),axis=0)\n",
    "print(plastic.shape)"
   ]
  },
  {
   "cell_type": "code",
   "execution_count": 7,
   "metadata": {},
   "outputs": [
    {
     "name": "stdout",
     "output_type": "stream",
     "text": [
      "(137, 227, 227, 3)\n"
     ]
    }
   ],
   "source": [
    "trash = []\n",
    "for i in range(1,138):\n",
    "    temp = tf.keras.preprocessing.image.load_img(\n",
    "        path = \"dataset-resized/trash/trash\"+str(i)+\".jpg\",\n",
    "        grayscale=False, color_mode='rgb',target_size=(227,227))\n",
    "    X = np.array(temp)\n",
    "    trash.append(X)\n",
    "trash = np.array(trash)\n",
    "trash = np.take(trash,np.random.permutation(trash.shape[0]),axis=0)\n",
    "print(trash.shape)"
   ]
  },
  {
   "cell_type": "code",
   "execution_count": 8,
   "metadata": {},
   "outputs": [],
   "source": [
    "train_X = np.vstack((cardboard[:302,:,:,:],glass[:376,:,:,:],metal[:307,:,:,:],\n",
    "                    paper[:445,:,:,:],plastic[:361,:,:,:],trash[:103,:,:,:]))\n",
    "test_X = np.vstack((cardboard[302:,:,:,:],glass[376:,:,:,:],metal[307:,:,:,:],\n",
    "                   paper[445:,:,:,:],plastic[361:,:,:,:],trash[103:,:,:,:]))\n",
    "train_Y = np.zeros((6,train_X.shape[0]))\n",
    "test_Y = np.zeros((6,test_X.shape[0]))\n",
    "for i in range(train_X.shape[0]):\n",
    "    if(i<302):\n",
    "        train_Y[0][i] = 1\n",
    "    elif(i<678):\n",
    "        train_Y[1][i] = 1\n",
    "    elif(i<985):\n",
    "        train_Y[2][i] = 1\n",
    "    elif(i<1430):\n",
    "        train_Y[3][i] = 1\n",
    "    elif(i<1791):\n",
    "        train_Y[4][i] = 1\n",
    "    else:\n",
    "        train_Y[5][i] = 1\n",
    "for i in range(test_X.shape[0]):\n",
    "    if(i<101):\n",
    "        test_Y[0][i] = 1\n",
    "    elif(i<226):\n",
    "        test_Y[1][i] = 1\n",
    "    elif(i<329):\n",
    "        test_Y[2][i] = 1\n",
    "    elif(i<478):\n",
    "        test_Y[3][i] = 1\n",
    "    elif(i<599):\n",
    "        test_Y[4][i] = 1\n",
    "    else:\n",
    "        test_Y[5][i] = 1"
   ]
  },
  {
   "cell_type": "code",
   "execution_count": 9,
   "metadata": {},
   "outputs": [],
   "source": [
    "test_X_re = test_X\n",
    "test_Y_re = test_Y"
   ]
  },
  {
   "cell_type": "code",
   "execution_count": 10,
   "metadata": {},
   "outputs": [
    {
     "name": "stdout",
     "output_type": "stream",
     "text": [
      "(1894, 227, 227, 3)\n",
      "(6, 1894)\n",
      "(633, 227, 227, 3)\n",
      "(6, 633)\n"
     ]
    }
   ],
   "source": [
    "np.random.seed(1013)\n",
    "train_perm = np.random.permutation(train_X.shape[0])\n",
    "train_X = np.take(train_X,train_perm,axis=0)\n",
    "print(train_X.shape)\n",
    "train_Y = np.take(train_Y,train_perm,axis=1)\n",
    "print(train_Y.shape)\n",
    "np.random.seed(901)\n",
    "test_perm = np.random.permutation(test_X.shape[0])\n",
    "test_X = np.take(test_X,test_perm,axis=0)\n",
    "print(test_X.shape)\n",
    "test_Y = np.take(test_Y,test_perm,axis=1)\n",
    "print(test_Y.shape)"
   ]
  },
  {
   "cell_type": "code",
   "execution_count": 11,
   "metadata": {},
   "outputs": [],
   "source": [
    "def AlexNetHinge(input_shape = (227, 227, 3), classes = 6):\n",
    "    X_input = tf.keras.Input(input_shape)\n",
    "    X = X_input\n",
    "    X = tf.keras.layers.Conv2D(96, (11, 11), strides = (4, 4), activation = \"relu\", name = 'conv1')(X)\n",
    "    X = tf.keras.layers.MaxPooling2D((3, 3), strides=(2, 2))(X)\n",
    "    X = tf.keras.layers.BatchNormalization(axis = 3, name = 'bn_conv1')(X)\n",
    "    X = tf.keras.layers.Conv2D(256, (5, 5), padding = \"same\",activation = \"relu\", name = 'conv2')(X)\n",
    "    X = tf.keras.layers.MaxPooling2D((3, 3), strides=(2, 2))(X)\n",
    "    X = tf.keras.layers.BatchNormalization(axis = 3, name = 'bn_conv2')(X)\n",
    "    X = tf.keras.layers.Conv2D(256, (3, 3), padding = \"same\",activation = \"relu\", name = 'conv5')(X)\n",
    "    X = tf.keras.layers.MaxPooling2D((3, 3), strides=(2, 2))(X)\n",
    "    X = tf.keras.layers.Flatten()(X)\n",
    "    X = tf.keras.layers.Dropout(0.5)(X)\n",
    "    X = tf.keras.layers.Dense(4096, activation = \"relu\", name='fc' + str(1))(X)\n",
    "    X = tf.keras.layers.Dropout(0.5)(X)\n",
    "    X = tf.keras.layers.Dense(4096, activation = \"relu\", name='fc' + str(2))(X)\n",
    "    X = tf.keras.layers.Dense(classes, activation = \"linear\",kernel_regularizer=tf.keras.regularizers.l2(0.01), name='fc' + str(classes))(X)\n",
    "\n",
    "    model = tf.keras.Model(inputs = X_input, outputs = X, name='ALEXNETHINGE')\n",
    "\n",
    "    return model"
   ]
  },
  {
   "cell_type": "code",
   "execution_count": 12,
   "metadata": {},
   "outputs": [],
   "source": [
    "model = AlexNetHinge()\n",
    "model.compile(optimizer=tf.keras.optimizers.legacy.Adam(learning_rate=0.00001,decay=0.00000025), \n",
    "              loss='categorical_hinge', metrics=['accuracy'])"
   ]
  },
  {
   "cell_type": "code",
   "execution_count": 13,
   "metadata": {},
   "outputs": [
    {
     "name": "stdout",
     "output_type": "stream",
     "text": [
      "Model: \"ALEXNETHINGE\"\n",
      "_________________________________________________________________\n",
      " Layer (type)                Output Shape              Param #   \n",
      "=================================================================\n",
      " input_1 (InputLayer)        [(None, 227, 227, 3)]     0         \n",
      "                                                                 \n",
      " conv1 (Conv2D)              (None, 55, 55, 96)        34944     \n",
      "                                                                 \n",
      " max_pooling2d (MaxPooling2  (None, 27, 27, 96)        0         \n",
      " D)                                                              \n",
      "                                                                 \n",
      " bn_conv1 (BatchNormalizati  (None, 27, 27, 96)        384       \n",
      " on)                                                             \n",
      "                                                                 \n",
      " conv2 (Conv2D)              (None, 27, 27, 256)       614656    \n",
      "                                                                 \n",
      " max_pooling2d_1 (MaxPoolin  (None, 13, 13, 256)       0         \n",
      " g2D)                                                            \n",
      "                                                                 \n",
      " bn_conv2 (BatchNormalizati  (None, 13, 13, 256)       1024      \n",
      " on)                                                             \n",
      "                                                                 \n",
      " conv5 (Conv2D)              (None, 13, 13, 256)       590080    \n",
      "                                                                 \n",
      " max_pooling2d_2 (MaxPoolin  (None, 6, 6, 256)         0         \n",
      " g2D)                                                            \n",
      "                                                                 \n",
      " flatten (Flatten)           (None, 9216)              0         \n",
      "                                                                 \n",
      " dropout (Dropout)           (None, 9216)              0         \n",
      "                                                                 \n",
      " fc1 (Dense)                 (None, 4096)              37752832  \n",
      "                                                                 \n",
      " dropout_1 (Dropout)         (None, 4096)              0         \n",
      "                                                                 \n",
      " fc2 (Dense)                 (None, 4096)              16781312  \n",
      "                                                                 \n",
      " fc6 (Dense)                 (None, 6)                 24582     \n",
      "                                                                 \n",
      "=================================================================\n",
      "Total params: 55799814 (212.86 MB)\n",
      "Trainable params: 55799110 (212.86 MB)\n",
      "Non-trainable params: 704 (2.75 KB)\n",
      "_________________________________________________________________\n"
     ]
    }
   ],
   "source": [
    "model.summary()"
   ]
  },
  {
   "cell_type": "code",
   "execution_count": 14,
   "metadata": {},
   "outputs": [
    {
     "name": "stdout",
     "output_type": "stream",
     "text": [
      "Training Process 0\n",
      "60/60 [==============================] - 27s 442ms/step - loss: 2.2739 - accuracy: 0.2846\n",
      "Test Result 0\n",
      "20/20 [==============================] - 2s 87ms/step - loss: 5.0107 - accuracy: 0.2354\n",
      "Loss = 5.010708808898926\n",
      "Test Accuracy = 0.23538704216480255\n",
      "Training Process 1\n",
      "60/60 [==============================] - 27s 447ms/step - loss: 1.9024 - accuracy: 0.3812\n",
      "Test Result 1\n",
      "20/20 [==============================] - 2s 88ms/step - loss: 2.5918 - accuracy: 0.2986\n",
      "Loss = 2.59175968170166\n",
      "Test Accuracy = 0.2985782027244568\n",
      "Training Process 2\n",
      "60/60 [==============================] - 27s 454ms/step - loss: 1.7429 - accuracy: 0.4108\n",
      "Test Result 2\n",
      "20/20 [==============================] - 2s 92ms/step - loss: 1.5376 - accuracy: 0.4202\n",
      "Loss = 1.5376393795013428\n",
      "Test Accuracy = 0.4202211797237396\n",
      "Training Process 3\n",
      "60/60 [==============================] - 28s 459ms/step - loss: 1.5496 - accuracy: 0.4535\n",
      "Test Result 3\n",
      "20/20 [==============================] - 2s 96ms/step - loss: 1.4438 - accuracy: 0.4676\n",
      "Loss = 1.4437782764434814\n",
      "Test Accuracy = 0.4676145315170288\n",
      "Training Process 4\n",
      "60/60 [==============================] - 27s 446ms/step - loss: 1.4914 - accuracy: 0.4588\n",
      "Test Result 4\n",
      "20/20 [==============================] - 2s 95ms/step - loss: 1.2821 - accuracy: 0.5103\n",
      "Loss = 1.2820662260055542\n",
      "Test Accuracy = 0.5102685689926147\n",
      "Training Process 5\n",
      "60/60 [==============================] - 27s 445ms/step - loss: 1.4582 - accuracy: 0.4551\n",
      "Test Result 5\n",
      "20/20 [==============================] - 2s 94ms/step - loss: 1.1372 - accuracy: 0.5608\n",
      "Loss = 1.1372421979904175\n",
      "Test Accuracy = 0.5608214735984802\n",
      "Training Process 6\n",
      "60/60 [==============================] - 27s 448ms/step - loss: 1.3826 - accuracy: 0.4989\n",
      "Test Result 6\n",
      "20/20 [==============================] - 2s 92ms/step - loss: 1.1921 - accuracy: 0.5324\n",
      "Loss = 1.1920534372329712\n",
      "Test Accuracy = 0.5323854684829712\n",
      "Training Process 7\n",
      "60/60 [==============================] - 27s 453ms/step - loss: 1.3258 - accuracy: 0.5074\n",
      "Test Result 7\n",
      "20/20 [==============================] - 2s 93ms/step - loss: 1.1314 - accuracy: 0.5577\n",
      "Loss = 1.1313923597335815\n",
      "Test Accuracy = 0.5576619505882263\n",
      "Training Process 8\n",
      "60/60 [==============================] - 27s 448ms/step - loss: 1.2452 - accuracy: 0.5359\n",
      "Test Result 8\n",
      "20/20 [==============================] - 2s 90ms/step - loss: 1.1030 - accuracy: 0.5561\n",
      "Loss = 1.1030195951461792\n",
      "Test Accuracy = 0.5560821294784546\n",
      "Training Process 9\n",
      "60/60 [==============================] - 27s 446ms/step - loss: 1.1995 - accuracy: 0.5401\n",
      "Test Result 9\n",
      "20/20 [==============================] - 2s 97ms/step - loss: 1.2211 - accuracy: 0.5197\n",
      "Loss = 1.2210708856582642\n",
      "Test Accuracy = 0.519747257232666\n",
      "Training Process 10\n",
      "60/60 [==============================] - 27s 453ms/step - loss: 1.1848 - accuracy: 0.5422\n",
      "Test Result 10\n",
      "20/20 [==============================] - 2s 93ms/step - loss: 1.0782 - accuracy: 0.5656\n",
      "Loss = 1.0782378911972046\n",
      "Test Accuracy = 0.5655608177185059\n",
      "Training Process 11\n",
      "60/60 [==============================] - 27s 453ms/step - loss: 1.1244 - accuracy: 0.5729\n",
      "Test Result 11\n",
      "20/20 [==============================] - 2s 92ms/step - loss: 1.0719 - accuracy: 0.5956\n",
      "Loss = 1.0718578100204468\n",
      "Test Accuracy = 0.5955766439437866\n",
      "Training Process 12\n",
      "60/60 [==============================] - 27s 449ms/step - loss: 1.1388 - accuracy: 0.5544\n",
      "Test Result 12\n",
      "20/20 [==============================] - 2s 95ms/step - loss: 0.9872 - accuracy: 0.5877\n",
      "Loss = 0.9872341752052307\n",
      "Test Accuracy = 0.5876777172088623\n",
      "Training Process 13\n",
      "60/60 [==============================] - 27s 455ms/step - loss: 1.0841 - accuracy: 0.5692\n",
      "Test Result 13\n",
      "20/20 [==============================] - 2s 97ms/step - loss: 1.0024 - accuracy: 0.6035\n",
      "Loss = 1.0024133920669556\n",
      "Test Accuracy = 0.6034755110740662\n",
      "Training Process 14\n",
      "60/60 [==============================] - 27s 457ms/step - loss: 1.0856 - accuracy: 0.5729\n",
      "Test Result 14\n",
      "20/20 [==============================] - 2s 94ms/step - loss: 0.9851 - accuracy: 0.6066\n",
      "Loss = 0.9851465821266174\n",
      "Test Accuracy = 0.6066350936889648\n",
      "Training Process 15\n",
      "60/60 [==============================] - 27s 446ms/step - loss: 1.0089 - accuracy: 0.6093\n",
      "Test Result 15\n",
      "20/20 [==============================] - 2s 97ms/step - loss: 0.9894 - accuracy: 0.5814\n",
      "Loss = 0.9893953204154968\n",
      "Test Accuracy = 0.5813586115837097\n",
      "Training Process 16\n",
      "60/60 [==============================] - 27s 450ms/step - loss: 1.0308 - accuracy: 0.6019\n",
      "Test Result 16\n",
      "20/20 [==============================] - 2s 95ms/step - loss: 0.9728 - accuracy: 0.6272\n",
      "Loss = 0.9727661609649658\n",
      "Test Accuracy = 0.6271721720695496\n",
      "Training Process 17\n",
      "60/60 [==============================] - 28s 468ms/step - loss: 0.9799 - accuracy: 0.6199\n",
      "Test Result 17\n",
      "20/20 [==============================] - 2s 98ms/step - loss: 1.0495 - accuracy: 0.5545\n",
      "Loss = 1.0494959354400635\n",
      "Test Accuracy = 0.5545023679733276\n",
      "Training Process 18\n",
      "60/60 [==============================] - 28s 465ms/step - loss: 0.9783 - accuracy: 0.6172\n",
      "Test Result 18\n",
      "20/20 [==============================] - 2s 97ms/step - loss: 0.9653 - accuracy: 0.6130\n",
      "Loss = 0.9653409719467163\n",
      "Test Accuracy = 0.6129541993141174\n",
      "Training Process 19\n",
      "60/60 [==============================] - 28s 460ms/step - loss: 0.9547 - accuracy: 0.6294\n",
      "Test Result 19\n",
      "20/20 [==============================] - 2s 94ms/step - loss: 0.9395 - accuracy: 0.6161\n",
      "Loss = 0.9395057559013367\n",
      "Test Accuracy = 0.6161137223243713\n"
     ]
    },
    {
     "data": {
      "image/png": "[encoded data removed]",
      "text/plain": [
       "<Figure size 640x480 with 1 Axes>"
      ]
     },
     "metadata": {},
     "output_type": "display_data"
    },
    {
     "data": {
      "image/png": "[encoded data removed]",
      "text/plain": [
       "<Figure size 640x480 with 1 Axes>"
      ]
     },
     "metadata": {},
     "output_type": "display_data"
    }
   ],
   "source": [
    "hin_train_loss = []\n",
    "hin_train_acc = []\n",
    "hin_test_loss = []\n",
    "hin_test_acc = []\n",
    "for i in range(20):\n",
    "    print(\"Training Process \"+str(len(hin_train_loss)))\n",
    "    history = model.fit(train_X, train_Y.T,batch_size=32,epochs=1)\n",
    "    print(\"Test Result \"+str(len(hin_train_loss)))\n",
    "    preds = model.evaluate(test_X, test_Y.T)\n",
    "    print (\"Loss = \" + str(preds[0]))\n",
    "    print (\"Test Accuracy = \" + str(preds[1]))\n",
    "    hin_train_loss.append(history.history[\"loss\"][0])\n",
    "    hin_train_acc.append(history.history[\"accuracy\"][0])\n",
    "    hin_test_loss.append(preds[0])\n",
    "    hin_test_acc.append(preds[1])\n",
    "plt.plot(hin_train_loss)\n",
    "plt.show()\n",
    "plt.plot(hin_test_loss)\n",
    "plt.show()"
   ]
  },
  {
   "cell_type": "code",
   "execution_count": 15,
   "metadata": {},
   "outputs": [
    {
     "name": "stdout",
     "output_type": "stream",
     "text": [
      "Training Process 20\n",
      "60/60 [==============================] - 28s 464ms/step - loss: 0.9410 - accuracy: 0.6399\n",
      "Test Result 20\n",
      "20/20 [==============================] - 2s 94ms/step - loss: 0.9424 - accuracy: 0.6288\n",
      "Loss = 0.942445695400238\n",
      "Test Accuracy = 0.6287519931793213\n",
      "Training Process 21\n",
      "60/60 [==============================] - 27s 458ms/step - loss: 0.9438 - accuracy: 0.6373\n",
      "Test Result 21\n",
      "20/20 [==============================] - 2s 106ms/step - loss: 0.9656 - accuracy: 0.6051\n",
      "Loss = 0.965649425983429\n",
      "Test Accuracy = 0.6050552725791931\n",
      "Training Process 22\n",
      "60/60 [==============================] - 27s 450ms/step - loss: 0.9162 - accuracy: 0.6494\n",
      "Test Result 22\n",
      "20/20 [==============================] - 2s 96ms/step - loss: 0.9098 - accuracy: 0.6335\n",
      "Loss = 0.9097930192947388\n",
      "Test Accuracy = 0.6334913372993469\n",
      "Training Process 23\n",
      "60/60 [==============================] - 27s 450ms/step - loss: 0.8709 - accuracy: 0.6616\n",
      "Test Result 23\n",
      "20/20 [==============================] - 2s 92ms/step - loss: 0.8877 - accuracy: 0.6619\n",
      "Loss = 0.8876919150352478\n",
      "Test Accuracy = 0.661927342414856\n",
      "Training Process 24\n",
      "60/60 [==============================] - 27s 454ms/step - loss: 0.8716 - accuracy: 0.6616\n",
      "Test Result 24\n",
      "20/20 [==============================] - 2s 95ms/step - loss: 0.9445 - accuracy: 0.6114\n",
      "Loss = 0.9444639086723328\n",
      "Test Accuracy = 0.6113743782043457\n",
      "Training Process 25\n",
      "60/60 [==============================] - 27s 450ms/step - loss: 0.8576 - accuracy: 0.6785\n",
      "Test Result 25\n",
      "20/20 [==============================] - 2s 96ms/step - loss: 0.9487 - accuracy: 0.6303\n",
      "Loss = 0.9487471580505371\n",
      "Test Accuracy = 0.6303317546844482\n",
      "Training Process 26\n",
      "60/60 [==============================] - 27s 452ms/step - loss: 0.8562 - accuracy: 0.6790\n",
      "Test Result 26\n",
      "20/20 [==============================] - 2s 95ms/step - loss: 0.8799 - accuracy: 0.6572\n",
      "Loss = 0.8799182772636414\n",
      "Test Accuracy = 0.6571879982948303\n",
      "Training Process 27\n",
      "60/60 [==============================] - 27s 452ms/step - loss: 0.8420 - accuracy: 0.6848\n",
      "Test Result 27\n",
      "20/20 [==============================] - 2s 100ms/step - loss: 0.8972 - accuracy: 0.6651\n",
      "Loss = 0.8971501588821411\n",
      "Test Accuracy = 0.6650868654251099\n",
      "Training Process 28\n",
      "60/60 [==============================] - 28s 471ms/step - loss: 0.8245 - accuracy: 0.6880\n",
      "Test Result 28\n",
      "20/20 [==============================] - 2s 104ms/step - loss: 0.8983 - accuracy: 0.6714\n",
      "Loss = 0.8982996940612793\n",
      "Test Accuracy = 0.6714060306549072\n",
      "Training Process 29\n",
      "60/60 [==============================] - 28s 467ms/step - loss: 0.8330 - accuracy: 0.6795\n",
      "Test Result 29\n",
      "20/20 [==============================] - 2s 100ms/step - loss: 0.9463 - accuracy: 0.6288\n",
      "Loss = 0.9463217258453369\n",
      "Test Accuracy = 0.6287519931793213\n",
      "Training Process 30\n",
      "60/60 [==============================] - 28s 474ms/step - loss: 0.7729 - accuracy: 0.7096\n",
      "Test Result 30\n",
      "20/20 [==============================] - 2s 101ms/step - loss: 0.8828 - accuracy: 0.6477\n",
      "Loss = 0.8827931880950928\n",
      "Test Accuracy = 0.647709310054779\n",
      "Training Process 31\n",
      "60/60 [==============================] - 28s 467ms/step - loss: 0.7905 - accuracy: 0.7064\n",
      "Test Result 31\n",
      "20/20 [==============================] - 2s 99ms/step - loss: 0.8860 - accuracy: 0.6493\n",
      "Loss = 0.8859858512878418\n",
      "Test Accuracy = 0.649289071559906\n",
      "Training Process 32\n",
      "60/60 [==============================] - 28s 468ms/step - loss: 0.7996 - accuracy: 0.6990\n",
      "Test Result 32\n",
      "20/20 [==============================] - 2s 103ms/step - loss: 0.9894 - accuracy: 0.6193\n",
      "Loss = 0.9893954992294312\n",
      "Test Accuracy = 0.61927330493927\n",
      "Training Process 33\n",
      "60/60 [==============================] - 28s 467ms/step - loss: 0.7639 - accuracy: 0.7159\n",
      "Test Result 33\n",
      "20/20 [==============================] - 2s 101ms/step - loss: 0.8886 - accuracy: 0.6714\n",
      "Loss = 0.8886463046073914\n",
      "Test Accuracy = 0.6714060306549072\n",
      "Training Process 34\n",
      "60/60 [==============================] - 29s 484ms/step - loss: 0.7754 - accuracy: 0.7070\n",
      "Test Result 34\n",
      "20/20 [==============================] - 2s 106ms/step - loss: 0.9087 - accuracy: 0.6651\n",
      "Loss = 0.9087293148040771\n",
      "Test Accuracy = 0.6650868654251099\n",
      "Training Process 35\n",
      "60/60 [==============================] - 28s 470ms/step - loss: 0.7299 - accuracy: 0.7318\n",
      "Test Result 35\n",
      "20/20 [==============================] - 2s 112ms/step - loss: 0.8873 - accuracy: 0.6524\n",
      "Loss = 0.887255847454071\n",
      "Test Accuracy = 0.6524486541748047\n",
      "Training Process 36\n",
      "60/60 [==============================] - 29s 484ms/step - loss: 0.7430 - accuracy: 0.7244\n",
      "Test Result 36\n",
      "20/20 [==============================] - 2s 107ms/step - loss: 0.8858 - accuracy: 0.6572\n",
      "Loss = 0.8858184814453125\n",
      "Test Accuracy = 0.6571879982948303\n",
      "Training Process 37\n",
      "60/60 [==============================] - 29s 489ms/step - loss: 0.7299 - accuracy: 0.7392\n",
      "Test Result 37\n",
      "20/20 [==============================] - 2s 105ms/step - loss: 0.8995 - accuracy: 0.6698\n",
      "Loss = 0.8994898796081543\n",
      "Test Accuracy = 0.6698262095451355\n",
      "Training Process 38\n",
      "60/60 [==============================] - 30s 492ms/step - loss: 0.7081 - accuracy: 0.7476\n",
      "Test Result 38\n",
      "20/20 [==============================] - 2s 105ms/step - loss: 0.9166 - accuracy: 0.6477\n",
      "Loss = 0.9166144132614136\n",
      "Test Accuracy = 0.647709310054779\n",
      "Training Process 39\n",
      "60/60 [==============================] - 28s 471ms/step - loss: 0.7056 - accuracy: 0.7503\n",
      "Test Result 39\n",
      "20/20 [==============================] - 2s 102ms/step - loss: 0.8986 - accuracy: 0.6667\n",
      "Loss = 0.8986185789108276\n",
      "Test Accuracy = 0.6666666865348816\n"
     ]
    },
    {
     "data": {
      "image/png": "[encoded data removed]",
      "text/plain": [
       "<Figure size 640x480 with 1 Axes>"
      ]
     },
     "metadata": {},
     "output_type": "display_data"
    },
    {
     "data": {
      "image/png": "[encoded data removed]",
      "text/plain": [
       "<Figure size 640x480 with 1 Axes>"
      ]
     },
     "metadata": {},
     "output_type": "display_data"
    }
   ],
   "source": [
    "for i in range(20):\n",
    "    print(\"Training Process \"+str(len(hin_train_loss)))\n",
    "    history = model.fit(train_X, train_Y.T,batch_size=32,epochs=1)\n",
    "    print(\"Test Result \"+str(len(hin_train_loss)))\n",
    "    preds = model.evaluate(test_X, test_Y.T)\n",
    "    print (\"Loss = \" + str(preds[0]))\n",
    "    print (\"Test Accuracy = \" + str(preds[1]))\n",
    "    hin_train_loss.append(history.history[\"loss\"][0])\n",
    "    hin_train_acc.append(history.history[\"accuracy\"][0])\n",
    "    hin_test_loss.append(preds[0])\n",
    "    hin_test_acc.append(preds[1])\n",
    "plt.plot(hin_train_loss)\n",
    "plt.show()\n",
    "plt.plot(hin_test_loss)\n",
    "plt.show()"
   ]
  },
  {
   "cell_type": "code",
   "execution_count": 16,
   "metadata": {},
   "outputs": [
    {
     "name": "stdout",
     "output_type": "stream",
     "text": [
      "Training Process 40\n",
      "60/60 [==============================] - 28s 468ms/step - loss: 0.6948 - accuracy: 0.7492\n",
      "Test Result 40\n",
      "20/20 [==============================] - 2s 104ms/step - loss: 0.8817 - accuracy: 0.6682\n",
      "Loss = 0.8816737532615662\n",
      "Test Accuracy = 0.6682464480400085\n",
      "Training Process 41\n",
      "60/60 [==============================] - 28s 467ms/step - loss: 0.6880 - accuracy: 0.7445\n",
      "Test Result 41\n",
      "20/20 [==============================] - 2s 106ms/step - loss: 0.9358 - accuracy: 0.6461\n",
      "Loss = 0.9357719421386719\n",
      "Test Accuracy = 0.6461295485496521\n",
      "Training Process 42\n",
      "60/60 [==============================] - 28s 471ms/step - loss: 0.6537 - accuracy: 0.7735\n",
      "Test Result 42\n",
      "20/20 [==============================] - 2s 100ms/step - loss: 0.8879 - accuracy: 0.6619\n",
      "Loss = 0.8879207372665405\n",
      "Test Accuracy = 0.661927342414856\n",
      "Training Process 43\n",
      "60/60 [==============================] - 28s 468ms/step - loss: 0.6550 - accuracy: 0.7709\n",
      "Test Result 43\n",
      "20/20 [==============================] - 2s 100ms/step - loss: 0.8265 - accuracy: 0.6983\n",
      "Loss = 0.8265491724014282\n",
      "Test Accuracy = 0.6982622146606445\n",
      "Training Process 44\n",
      "60/60 [==============================] - 28s 467ms/step - loss: 0.6686 - accuracy: 0.7608\n",
      "Test Result 44\n",
      "20/20 [==============================] - 2s 104ms/step - loss: 1.2836 - accuracy: 0.5245\n",
      "Loss = 1.283592939376831\n",
      "Test Accuracy = 0.5244866013526917\n",
      "Training Process 45\n",
      "60/60 [==============================] - 29s 490ms/step - loss: 0.6065 - accuracy: 0.7872\n",
      "Test Result 45\n",
      "20/20 [==============================] - 2s 105ms/step - loss: 0.9029 - accuracy: 0.6556\n",
      "Loss = 0.9028643369674683\n",
      "Test Accuracy = 0.6556082367897034\n",
      "Training Process 46\n",
      "60/60 [==============================] - 29s 477ms/step - loss: 0.6127 - accuracy: 0.7804\n",
      "Test Result 46\n",
      "20/20 [==============================] - 2s 101ms/step - loss: 0.8607 - accuracy: 0.6919\n",
      "Loss = 0.8606536388397217\n",
      "Test Accuracy = 0.6919431090354919\n",
      "Training Process 47\n",
      "60/60 [==============================] - 29s 478ms/step - loss: 0.6131 - accuracy: 0.7936\n",
      "Test Result 47\n",
      "20/20 [==============================] - 2s 112ms/step - loss: 0.9350 - accuracy: 0.6619\n",
      "Loss = 0.9349732398986816\n",
      "Test Accuracy = 0.661927342414856\n",
      "Training Process 48\n",
      "60/60 [==============================] - 29s 478ms/step - loss: 0.6159 - accuracy: 0.7930\n",
      "Test Result 48\n",
      "20/20 [==============================] - 2s 105ms/step - loss: 0.8843 - accuracy: 0.6983\n",
      "Loss = 0.8842901587486267\n",
      "Test Accuracy = 0.6982622146606445\n",
      "Training Process 49\n",
      "60/60 [==============================] - 29s 487ms/step - loss: 0.6037 - accuracy: 0.7883\n",
      "Test Result 49\n",
      "20/20 [==============================] - 2s 111ms/step - loss: 0.9101 - accuracy: 0.6603\n",
      "Loss = 0.9100742936134338\n",
      "Test Accuracy = 0.660347580909729\n",
      "Training Process 50\n",
      "60/60 [==============================] - 31s 524ms/step - loss: 0.5991 - accuracy: 0.7925\n",
      "Test Result 50\n",
      "20/20 [==============================] - 2s 106ms/step - loss: 0.9218 - accuracy: 0.6777\n",
      "Loss = 0.9217524528503418\n",
      "Test Accuracy = 0.6777251362800598\n",
      "Training Process 51\n",
      "60/60 [==============================] - 30s 504ms/step - loss: 0.5718 - accuracy: 0.7988\n",
      "Test Result 51\n",
      "20/20 [==============================] - 2s 113ms/step - loss: 0.8736 - accuracy: 0.6856\n",
      "Loss = 0.873559832572937\n",
      "Test Accuracy = 0.6856240034103394\n",
      "Training Process 52\n",
      "60/60 [==============================] - 30s 500ms/step - loss: 0.5704 - accuracy: 0.8057\n",
      "Test Result 52\n",
      "20/20 [==============================] - 2s 107ms/step - loss: 0.9882 - accuracy: 0.6414\n",
      "Loss = 0.9881786704063416\n",
      "Test Accuracy = 0.6413902044296265\n",
      "Training Process 53\n",
      "60/60 [==============================] - 30s 497ms/step - loss: 0.5878 - accuracy: 0.7973\n",
      "Test Result 53\n",
      "20/20 [==============================] - 2s 106ms/step - loss: 0.8552 - accuracy: 0.6872\n",
      "Loss = 0.8552030324935913\n",
      "Test Accuracy = 0.6872037649154663\n",
      "Training Process 54\n",
      "60/60 [==============================] - 30s 495ms/step - loss: 0.5661 - accuracy: 0.8136\n",
      "Test Result 54\n",
      "20/20 [==============================] - 2s 110ms/step - loss: 0.8980 - accuracy: 0.6793\n",
      "Loss = 0.8979540467262268\n",
      "Test Accuracy = 0.6793048977851868\n",
      "Training Process 55\n",
      "60/60 [==============================] - 30s 496ms/step - loss: 0.5268 - accuracy: 0.8332\n",
      "Test Result 55\n",
      "20/20 [==============================] - 2s 104ms/step - loss: 0.9275 - accuracy: 0.6698\n",
      "Loss = 0.9275388121604919\n",
      "Test Accuracy = 0.6698262095451355\n",
      "Training Process 56\n",
      "60/60 [==============================] - 30s 495ms/step - loss: 0.5522 - accuracy: 0.8189\n",
      "Test Result 56\n",
      "20/20 [==============================] - 2s 105ms/step - loss: 0.7963 - accuracy: 0.7141\n",
      "Loss = 0.7963403463363647\n",
      "Test Accuracy = 0.7140600085258484\n",
      "Training Process 57\n",
      "60/60 [==============================] - 29s 490ms/step - loss: 0.5068 - accuracy: 0.8363\n",
      "Test Result 57\n",
      "20/20 [==============================] - 2s 105ms/step - loss: 0.9302 - accuracy: 0.6667\n",
      "Loss = 0.9302438497543335\n",
      "Test Accuracy = 0.6666666865348816\n",
      "Training Process 58\n",
      "60/60 [==============================] - 29s 490ms/step - loss: 0.4989 - accuracy: 0.8337\n",
      "Test Result 58\n",
      "20/20 [==============================] - 2s 108ms/step - loss: 0.9689 - accuracy: 0.6477\n",
      "Loss = 0.9688972234725952\n",
      "Test Accuracy = 0.647709310054779\n",
      "Training Process 59\n",
      "60/60 [==============================] - 29s 490ms/step - loss: 0.5141 - accuracy: 0.8300\n",
      "Test Result 59\n",
      "20/20 [==============================] - 2s 113ms/step - loss: 0.8975 - accuracy: 0.6793\n",
      "Loss = 0.8975394368171692\n",
      "Test Accuracy = 0.6793048977851868\n"
     ]
    },
    {
     "data": {
      "image/png": "[encoded data removed]",
      "text/plain": [
       "<Figure size 640x480 with 1 Axes>"
      ]
     },
     "metadata": {},
     "output_type": "display_data"
    },
    {
     "data": {
      "image/png": "[encoded data removed]",
      "text/plain": [
       "<Figure size 640x480 with 1 Axes>"
      ]
     },
     "metadata": {},
     "output_type": "display_data"
    }
   ],
   "source": [
    "for i in range(20):\n",
    "    print(\"Training Process \"+str(len(hin_train_loss)))\n",
    "    history = model.fit(train_X, train_Y.T,batch_size=32,epochs=1)\n",
    "    print(\"Test Result \"+str(len(hin_train_loss)))\n",
    "    preds = model.evaluate(test_X, test_Y.T)\n",
    "    print (\"Loss = \" + str(preds[0]))\n",
    "    print (\"Test Accuracy = \" + str(preds[1]))\n",
    "    hin_train_loss.append(history.history[\"loss\"][0])\n",
    "    hin_train_acc.append(history.history[\"accuracy\"][0])\n",
    "    hin_test_loss.append(preds[0])\n",
    "    hin_test_acc.append(preds[1])\n",
    "plt.plot(hin_train_loss)\n",
    "plt.show()\n",
    "plt.plot(hin_test_loss)\n",
    "plt.show()"
   ]
  },
  {
   "cell_type": "code",
   "execution_count": 17,
   "metadata": {},
   "outputs": [
    {
     "name": "stdout",
     "output_type": "stream",
     "text": [
      "Training Process 60\n",
      "60/60 [==============================] - 30s 499ms/step - loss: 0.4904 - accuracy: 0.8469\n",
      "Test Result 60\n",
      "20/20 [==============================] - 2s 105ms/step - loss: 0.8730 - accuracy: 0.6872\n",
      "Loss = 0.8729559779167175\n",
      "Test Accuracy = 0.6872037649154663\n",
      "Training Process 61\n",
      "60/60 [==============================] - 31s 513ms/step - loss: 0.5126 - accuracy: 0.8337\n",
      "Test Result 61\n",
      "20/20 [==============================] - 2s 110ms/step - loss: 0.8430 - accuracy: 0.7046\n",
      "Loss = 0.8430057168006897\n",
      "Test Accuracy = 0.7045813798904419\n",
      "Training Process 62\n",
      "60/60 [==============================] - 31s 515ms/step - loss: 0.4981 - accuracy: 0.8363\n",
      "Test Result 62\n",
      "20/20 [==============================] - 2s 114ms/step - loss: 0.8928 - accuracy: 0.6746\n",
      "Loss = 0.8927546739578247\n",
      "Test Accuracy = 0.6745655536651611\n",
      "Training Process 63\n",
      "60/60 [==============================] - 32s 533ms/step - loss: 0.4897 - accuracy: 0.8453\n",
      "Test Result 63\n",
      "20/20 [==============================] - 2s 106ms/step - loss: 0.8319 - accuracy: 0.7125\n",
      "Loss = 0.8319157361984253\n",
      "Test Accuracy = 0.7124802470207214\n",
      "Training Process 64\n",
      "60/60 [==============================] - 31s 516ms/step - loss: 0.4829 - accuracy: 0.8543\n",
      "Test Result 64\n",
      "20/20 [==============================] - 2s 111ms/step - loss: 0.8499 - accuracy: 0.7062\n",
      "Loss = 0.8498554229736328\n",
      "Test Accuracy = 0.7061611413955688\n",
      "Training Process 65\n",
      "60/60 [==============================] - 30s 498ms/step - loss: 0.4709 - accuracy: 0.8495\n",
      "Test Result 65\n",
      "20/20 [==============================] - 2s 115ms/step - loss: 0.8292 - accuracy: 0.7156\n",
      "Loss = 0.8291665315628052\n",
      "Test Accuracy = 0.7156398296356201\n",
      "Training Process 66\n",
      "60/60 [==============================] - 31s 521ms/step - loss: 0.4781 - accuracy: 0.8469\n",
      "Test Result 66\n",
      "20/20 [==============================] - 2s 122ms/step - loss: 0.8779 - accuracy: 0.6919\n",
      "Loss = 0.8779004812240601\n",
      "Test Accuracy = 0.6919431090354919\n",
      "Training Process 67\n",
      "60/60 [==============================] - 31s 511ms/step - loss: 0.4486 - accuracy: 0.8685\n",
      "Test Result 67\n",
      "20/20 [==============================] - 3s 131ms/step - loss: 0.8925 - accuracy: 0.6983\n",
      "Loss = 0.8924912214279175\n",
      "Test Accuracy = 0.6982622146606445\n",
      "Training Process 68\n",
      "60/60 [==============================] - 32s 525ms/step - loss: 0.4569 - accuracy: 0.8596\n",
      "Test Result 68\n",
      "20/20 [==============================] - 2s 104ms/step - loss: 0.9757 - accuracy: 0.6635\n",
      "Loss = 0.9756899476051331\n",
      "Test Accuracy = 0.6635071039199829\n",
      "Training Process 69\n",
      "60/60 [==============================] - 30s 492ms/step - loss: 0.4335 - accuracy: 0.8738\n",
      "Test Result 69\n",
      "20/20 [==============================] - 2s 118ms/step - loss: 0.9510 - accuracy: 0.6714\n",
      "Loss = 0.9510131478309631\n",
      "Test Accuracy = 0.6714060306549072\n",
      "Training Process 70\n",
      "60/60 [==============================] - 32s 528ms/step - loss: 0.4441 - accuracy: 0.8648\n",
      "Test Result 70\n",
      "20/20 [==============================] - 2s 113ms/step - loss: 1.0218 - accuracy: 0.6493\n",
      "Loss = 1.021809458732605\n",
      "Test Accuracy = 0.649289071559906\n",
      "Training Process 71\n",
      "60/60 [==============================] - 32s 528ms/step - loss: 0.4593 - accuracy: 0.8664\n",
      "Test Result 71\n",
      "20/20 [==============================] - 2s 106ms/step - loss: 0.9046 - accuracy: 0.6809\n",
      "Loss = 0.9045623540878296\n",
      "Test Accuracy = 0.6808846592903137\n",
      "Training Process 72\n",
      "60/60 [==============================] - 31s 513ms/step - loss: 0.4236 - accuracy: 0.8749\n",
      "Test Result 72\n",
      "20/20 [==============================] - 2s 102ms/step - loss: 1.0185 - accuracy: 0.6524\n",
      "Loss = 1.0185482501983643\n",
      "Test Accuracy = 0.6524486541748047\n",
      "Training Process 73\n",
      "60/60 [==============================] - 30s 505ms/step - loss: 0.4087 - accuracy: 0.8833\n",
      "Test Result 73\n",
      "20/20 [==============================] - 2s 113ms/step - loss: 0.9015 - accuracy: 0.6667\n",
      "Loss = 0.901463508605957\n",
      "Test Accuracy = 0.6666666865348816\n",
      "Training Process 74\n",
      "60/60 [==============================] - 30s 499ms/step - loss: 0.4153 - accuracy: 0.8722\n",
      "Test Result 74\n",
      "20/20 [==============================] - 2s 107ms/step - loss: 0.8765 - accuracy: 0.6998\n",
      "Loss = 0.8764553666114807\n",
      "Test Accuracy = 0.6998420357704163\n",
      "Training Process 75\n",
      "60/60 [==============================] - 30s 496ms/step - loss: 0.4077 - accuracy: 0.8775\n",
      "Test Result 75\n",
      "20/20 [==============================] - 2s 102ms/step - loss: 0.8196 - accuracy: 0.7156\n",
      "Loss = 0.8195977210998535\n",
      "Test Accuracy = 0.7156398296356201\n",
      "Training Process 76\n",
      "60/60 [==============================] - 30s 500ms/step - loss: 0.3952 - accuracy: 0.8860\n",
      "Test Result 76\n",
      "20/20 [==============================] - 2s 104ms/step - loss: 0.8732 - accuracy: 0.7062\n",
      "Loss = 0.8731801509857178\n",
      "Test Accuracy = 0.7061611413955688\n",
      "Training Process 77\n",
      "60/60 [==============================] - 30s 502ms/step - loss: 0.4031 - accuracy: 0.8786\n",
      "Test Result 77\n",
      "20/20 [==============================] - 2s 105ms/step - loss: 0.8124 - accuracy: 0.7235\n",
      "Loss = 0.8123651146888733\n",
      "Test Accuracy = 0.7235386967658997\n",
      "Training Process 78\n",
      "60/60 [==============================] - 30s 502ms/step - loss: 0.3837 - accuracy: 0.8870\n",
      "Test Result 78\n",
      "20/20 [==============================] - 2s 114ms/step - loss: 0.8455 - accuracy: 0.7141\n",
      "Loss = 0.845521867275238\n",
      "Test Accuracy = 0.7140600085258484\n",
      "Training Process 79\n",
      "60/60 [==============================] - 30s 498ms/step - loss: 0.4015 - accuracy: 0.8807\n",
      "Test Result 79\n",
      "20/20 [==============================] - 2s 110ms/step - loss: 0.9523 - accuracy: 0.6730\n",
      "Loss = 0.9522649049758911\n",
      "Test Accuracy = 0.6729857921600342\n"
     ]
    },
    {
     "data": {
      "image/png": "[encoded data removed]",
      "text/plain": [
       "<Figure size 640x480 with 1 Axes>"
      ]
     },
     "metadata": {},
     "output_type": "display_data"
    },
    {
     "data": {
      "image/png": "[encoded data removed]",
      "text/plain": [
       "<Figure size 640x480 with 1 Axes>"
      ]
     },
     "metadata": {},
     "output_type": "display_data"
    }
   ],
   "source": [
    "for i in range(20):\n",
    "    print(\"Training Process \"+str(len(hin_train_loss)))\n",
    "    history = model.fit(train_X, train_Y.T,batch_size=32,epochs=1)\n",
    "    print(\"Test Result \"+str(len(hin_train_loss)))\n",
    "    preds = model.evaluate(test_X, test_Y.T)\n",
    "    print (\"Loss = \" + str(preds[0]))\n",
    "    print (\"Test Accuracy = \" + str(preds[1]))\n",
    "    hin_train_loss.append(history.history[\"loss\"][0])\n",
    "    hin_train_acc.append(history.history[\"accuracy\"][0])\n",
    "    hin_test_loss.append(preds[0])\n",
    "    hin_test_acc.append(preds[1])\n",
    "plt.plot(hin_train_loss)\n",
    "plt.show()\n",
    "plt.plot(hin_test_loss)\n",
    "plt.show()"
   ]
  },
  {
   "cell_type": "code",
   "execution_count": 18,
   "metadata": {},
   "outputs": [
    {
     "name": "stdout",
     "output_type": "stream",
     "text": [
      "20/20 [==============================] - 2s 109ms/step\n"
     ]
    }
   ],
   "source": [
    "error = [0,0,0,0,0,0]\n",
    "mislabel = np.zeros((6,6))\n",
    "prediction = model.predict(test_X_re)\n",
    "for i in range(test_X_re.shape[0]):\n",
    "    if(test_Y_re[np.argmax(prediction,axis=1)[i],i] == 0):\n",
    "        if(i<101):\n",
    "            error[0] = error[0]+1\n",
    "            mislabel[0][np.argmax(prediction,axis=1)[i]] += 1\n",
    "        elif(i<226):\n",
    "            error[1] = error[1]+1\n",
    "            mislabel[1][np.argmax(prediction,axis=1)[i]] += 1\n",
    "        elif(i<329):\n",
    "            error[2] = error[2]+1\n",
    "            mislabel[2][np.argmax(prediction,axis=1)[i]] += 1\n",
    "        elif(i<478):\n",
    "            error[3] = error[3]+1\n",
    "            mislabel[3][np.argmax(prediction,axis=1)[i]] += 1\n",
    "        elif(i<599):\n",
    "            error[4] = error[4]+1\n",
    "            mislabel[4][np.argmax(prediction,axis=1)[i]] += 1\n",
    "        else:\n",
    "            error[5] = error[5]+1\n",
    "            mislabel[5][np.argmax(prediction,axis=1)[i]] += 1"
   ]
  },
  {
   "cell_type": "code",
   "execution_count": 19,
   "metadata": {},
   "outputs": [
    {
     "name": "stdout",
     "output_type": "stream",
     "text": [
      "% of mislabeled cardboard: 0.1485148514851485\n",
      "Mostly mislabeled as: 3\n",
      "% of mislabeled glass: 0.528\n",
      "Mostly mislabeled as: 4\n",
      "% of mislabeled metal: 0.33980582524271846\n",
      "Mostly mislabeled as: 1\n",
      "% of mislabeled paper: 0.2348993288590604\n",
      "Mostly mislabeled as: 2\n",
      "% of mislabeled plastic: 0.3305785123966942\n",
      "Mostly mislabeled as: 1\n",
      "% of mislabeled trash: 0.47058823529411764\n",
      "Mostly mislabeled as: 1\n"
     ]
    }
   ],
   "source": [
    "total = np.array([101,125,103,149,121,34])\n",
    "error = np.array(error)\n",
    "error = np.divide(error,total)\n",
    "print(\"% of mislabeled cardboard: \"+str(error[0]))\n",
    "print(\"Mostly mislabeled as: \"+str(np.argmax(mislabel,axis=0)[0]))\n",
    "print(\"% of mislabeled glass: \"+str(error[1]))\n",
    "print(\"Mostly mislabeled as: \"+str(np.argmax(mislabel,axis=0)[1]))\n",
    "print(\"% of mislabeled metal: \"+str(error[2]))\n",
    "print(\"Mostly mislabeled as: \"+str(np.argmax(mislabel,axis=0)[2]))\n",
    "print(\"% of mislabeled paper: \"+str(error[3]))\n",
    "print(\"Mostly mislabeled as: \"+str(np.argmax(mislabel,axis=0)[3]))\n",
    "print(\"% of mislabeled plastic: \"+str(error[4]))\n",
    "print(\"Mostly mislabeled as: \"+str(np.argmax(mislabel,axis=0)[4]))\n",
    "print(\"% of mislabeled trash: \"+str(error[5]))\n",
    "print(\"Mostly mislabeled as: \"+str(np.argmax(mislabel,axis=0)[5]))"
   ]
  },
  {
   "cell_type": "code",
   "execution_count": 20,
   "metadata": {},
   "outputs": [],
   "source": [
    "f = open('hin_train_loss_do.txt', 'w')\n",
    "for i in hin_train_loss:\n",
    "    f.write(str(i))\n",
    "    f.write(\"\\n\")\n",
    "f.close()"
   ]
  },
  {
   "cell_type": "code",
   "execution_count": 22,
   "metadata": {},
   "outputs": [],
   "source": [
    "f = open('hin_train_acc_do.txt', 'w')\n",
    "for i in hin_train_acc:\n",
    "    f.write(str(i))\n",
    "    f.write(\"\\n\")\n",
    "f.close()"
   ]
  },
  {
   "cell_type": "code",
   "execution_count": 23,
   "metadata": {},
   "outputs": [],
   "source": [
    "f = open('hin_test_acc_do.txt', 'w')\n",
    "for i in hin_test_acc:\n",
    "    f.write(str(i))\n",
    "    f.write(\"\\n\")\n",
    "f.close()"
   ]
  }
 ],
 "metadata": {
  "kernelspec": {
   "display_name": "Python 3 (ipykernel)",
   "language": "python",
   "name": "python3"
  },
  "language_info": {
   "codemirror_mode": {
    "name": "ipython",
    "version": 3
   },
   "file_extension": ".py",
   "mimetype": "text/x-python",
   "name": "python",
   "nbconvert_exporter": "python",
   "pygments_lexer": "ipython3",
   "version": "3.10.9"
  }
 },
 "nbformat": 4,
 "nbformat_minor": 4
}
